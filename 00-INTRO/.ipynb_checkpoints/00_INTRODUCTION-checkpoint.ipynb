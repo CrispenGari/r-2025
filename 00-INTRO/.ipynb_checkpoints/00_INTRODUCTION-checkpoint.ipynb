{
 "cells": [
  {
   "cell_type": "markdown",
   "id": "270efa22-a5f7-4a5d-9e19-16b1bc514fde",
   "metadata": {},
   "source": [
    "### Introduction to R.\n",
    "\n",
    "In this notebook we are going to do introduction to `R` the programing langages and data visualization.\n",
    "\n",
    "### 1. Loading default dataset\n",
    "In the following code cell we are going to load the build in dataset in R, using the `library` function."
   ]
  },
  {
   "cell_type": "code",
   "execution_count": 5,
   "id": "7b2cf124-2597-4db1-810b-35e088307145",
   "metadata": {},
   "outputs": [],
   "source": [
    "library(datasets)"
   ]
  },
  {
   "cell_type": "markdown",
   "id": "e788a06f-ca8f-493b-810d-4576bce5b327",
   "metadata": {},
   "source": [
    "Now we can use the dataset for example we can view `iris` dataset as follows:"
   ]
  },
  {
   "cell_type": "code",
   "execution_count": 12,
   "id": "6ed19202-c32f-4bfd-894c-dc310284c79b",
   "metadata": {},
   "outputs": [
    {
     "data": {
      "text/html": [
       "<table class=\"dataframe\">\n",
       "<caption>A data.frame: 6 × 5</caption>\n",
       "<thead>\n",
       "\t<tr><th></th><th scope=col>Sepal.Length</th><th scope=col>Sepal.Width</th><th scope=col>Petal.Length</th><th scope=col>Petal.Width</th><th scope=col>Species</th></tr>\n",
       "\t<tr><th></th><th scope=col>&lt;dbl&gt;</th><th scope=col>&lt;dbl&gt;</th><th scope=col>&lt;dbl&gt;</th><th scope=col>&lt;dbl&gt;</th><th scope=col>&lt;fct&gt;</th></tr>\n",
       "</thead>\n",
       "<tbody>\n",
       "\t<tr><th scope=row>1</th><td>5.1</td><td>3.5</td><td>1.4</td><td>0.2</td><td>setosa</td></tr>\n",
       "\t<tr><th scope=row>2</th><td>4.9</td><td>3.0</td><td>1.4</td><td>0.2</td><td>setosa</td></tr>\n",
       "\t<tr><th scope=row>3</th><td>4.7</td><td>3.2</td><td>1.3</td><td>0.2</td><td>setosa</td></tr>\n",
       "\t<tr><th scope=row>4</th><td>4.6</td><td>3.1</td><td>1.5</td><td>0.2</td><td>setosa</td></tr>\n",
       "\t<tr><th scope=row>5</th><td>5.0</td><td>3.6</td><td>1.4</td><td>0.2</td><td>setosa</td></tr>\n",
       "\t<tr><th scope=row>6</th><td>5.4</td><td>3.9</td><td>1.7</td><td>0.4</td><td>setosa</td></tr>\n",
       "</tbody>\n",
       "</table>\n"
      ],
      "text/latex": [
       "A data.frame: 6 × 5\n",
       "\\begin{tabular}{r|lllll}\n",
       "  & Sepal.Length & Sepal.Width & Petal.Length & Petal.Width & Species\\\\\n",
       "  & <dbl> & <dbl> & <dbl> & <dbl> & <fct>\\\\\n",
       "\\hline\n",
       "\t1 & 5.1 & 3.5 & 1.4 & 0.2 & setosa\\\\\n",
       "\t2 & 4.9 & 3.0 & 1.4 & 0.2 & setosa\\\\\n",
       "\t3 & 4.7 & 3.2 & 1.3 & 0.2 & setosa\\\\\n",
       "\t4 & 4.6 & 3.1 & 1.5 & 0.2 & setosa\\\\\n",
       "\t5 & 5.0 & 3.6 & 1.4 & 0.2 & setosa\\\\\n",
       "\t6 & 5.4 & 3.9 & 1.7 & 0.4 & setosa\\\\\n",
       "\\end{tabular}\n"
      ],
      "text/markdown": [
       "\n",
       "A data.frame: 6 × 5\n",
       "\n",
       "| <!--/--> | Sepal.Length &lt;dbl&gt; | Sepal.Width &lt;dbl&gt; | Petal.Length &lt;dbl&gt; | Petal.Width &lt;dbl&gt; | Species &lt;fct&gt; |\n",
       "|---|---|---|---|---|---|\n",
       "| 1 | 5.1 | 3.5 | 1.4 | 0.2 | setosa |\n",
       "| 2 | 4.9 | 3.0 | 1.4 | 0.2 | setosa |\n",
       "| 3 | 4.7 | 3.2 | 1.3 | 0.2 | setosa |\n",
       "| 4 | 4.6 | 3.1 | 1.5 | 0.2 | setosa |\n",
       "| 5 | 5.0 | 3.6 | 1.4 | 0.2 | setosa |\n",
       "| 6 | 5.4 | 3.9 | 1.7 | 0.4 | setosa |\n",
       "\n"
      ],
      "text/plain": [
       "  Sepal.Length Sepal.Width Petal.Length Petal.Width Species\n",
       "1 5.1          3.5         1.4          0.2         setosa \n",
       "2 4.9          3.0         1.4          0.2         setosa \n",
       "3 4.7          3.2         1.3          0.2         setosa \n",
       "4 4.6          3.1         1.5          0.2         setosa \n",
       "5 5.0          3.6         1.4          0.2         setosa \n",
       "6 5.4          3.9         1.7          0.4         setosa "
      ]
     },
     "metadata": {},
     "output_type": "display_data"
    },
    {
     "name": "stdout",
     "output_type": "stream",
     "text": [
      "  Sepal.Length Sepal.Width Petal.Length Petal.Width Species\n",
      "1          5.1         3.5          1.4         0.2  setosa\n",
      "2          4.9         3.0          1.4         0.2  setosa\n",
      "3          4.7         3.2          1.3         0.2  setosa\n",
      "4          4.6         3.1          1.5         0.2  setosa\n",
      "5          5.0         3.6          1.4         0.2  setosa\n",
      "6          5.4         3.9          1.7         0.4  setosa\n"
     ]
    }
   ],
   "source": [
    "print(View(head(iris)))"
   ]
  },
  {
   "cell_type": "markdown",
   "id": "07b6209b-b33f-4245-94f2-775b53718828",
   "metadata": {},
   "source": [
    "You can check the summary of the dataset using the `summary` function for example."
   ]
  },
  {
   "cell_type": "code",
   "execution_count": 15,
   "id": "f4638f4f-44ba-4218-85e2-57856927508b",
   "metadata": {},
   "outputs": [
    {
     "data": {
      "text/plain": [
       "  Sepal.Length    Sepal.Width     Petal.Length    Petal.Width   \n",
       " Min.   :4.300   Min.   :2.000   Min.   :1.000   Min.   :0.100  \n",
       " 1st Qu.:5.100   1st Qu.:2.800   1st Qu.:1.600   1st Qu.:0.300  \n",
       " Median :5.800   Median :3.000   Median :4.350   Median :1.300  \n",
       " Mean   :5.843   Mean   :3.057   Mean   :3.758   Mean   :1.199  \n",
       " 3rd Qu.:6.400   3rd Qu.:3.300   3rd Qu.:5.100   3rd Qu.:1.800  \n",
       " Max.   :7.900   Max.   :4.400   Max.   :6.900   Max.   :2.500  \n",
       "       Species  \n",
       " setosa    :50  \n",
       " versicolor:50  \n",
       " virginica :50  \n",
       "                \n",
       "                \n",
       "                "
      ]
     },
     "metadata": {},
     "output_type": "display_data"
    }
   ],
   "source": [
    "summary(iris)"
   ]
  },
  {
   "cell_type": "markdown",
   "id": "77b8d417-a773-4a7d-a17a-d66f886df849",
   "metadata": {},
   "source": [
    "The above  give us the summary of the dataset which can be useful statistic for data understanding. We can call the plot function to plot the data with different kind of plots as follows:"
   ]
  },
  {
   "cell_type": "code",
   "execution_count": 19,
   "id": "e2d15e97-8abf-4134-8587-e09dc79e93f1",
   "metadata": {},
   "outputs": [
    {
     "data": {
      "image/png": "[encoded data removed]",
      "text/plain": [
       "plot without title"
      ]
     },
     "metadata": {
      "image/png": {
       "height": 420,
       "width": 420
      }
     },
     "output_type": "display_data"
    }
   ],
   "source": [
    "plot(iris)"
   ]
  },
  {
   "cell_type": "markdown",
   "id": "3601ee55-c674-4353-a756-34443f19698f",
   "metadata": {},
   "source": [
    "Let's plot the `Petal.length` and `Petal.Width` from the dataset using a scatter plot."
   ]
  },
  {
   "cell_type": "code",
   "execution_count": 50,
   "id": "b3fdc5b5-c4de-40ff-9a41-b5c317f8c2cc",
   "metadata": {},
   "outputs": [
    {
     "data": {
      "image/png": "[encoded data removed]",
      "text/plain": [
       "Plot with title \"Petal Length vs Width\""
      ]
     },
     "metadata": {
      "image/png": {
       "height": 420,
       "width": 420
      }
     },
     "output_type": "display_data"
    }
   ],
   "source": [
    "plot(iris$Petal.Length, iris$Petal.Width, \n",
    "     main=\"Petal Length vs Width\", xlab=\"Length\", ylab=\"Width\", col=\"red\")"
   ]
  },
  {
   "cell_type": "markdown",
   "id": "2af81217-170b-44d0-b426-fa089029431f",
   "metadata": {},
   "source": [
    "### 2. Installing packages\n",
    "In this sections we are going to install the packages from the contributed packages that doesn't come with `R`. We are going to demostrate how to install packages using `pacman` but first we need to install `pacman` as follows. "
   ]
  },
  {
   "cell_type": "code",
   "execution_count": 25,
   "id": "fd34339b-2c81-43d9-aae6-309fb6fe51a0",
   "metadata": {},
   "outputs": [
    {
     "name": "stderr",
     "output_type": "stream",
     "text": [
      "Installing package into 'C:/Users/crisp/AppData/Local/R/win-library/4.4'\n",
      "(as 'lib' is unspecified)\n",
      "\n",
      "also installing the dependency 'remotes'\n",
      "\n",
      "\n"
     ]
    },
    {
     "name": "stdout",
     "output_type": "stream",
     "text": [
      "package 'remotes' successfully unpacked and MD5 sums checked\n",
      "package 'pacman' successfully unpacked and MD5 sums checked\n",
      "\n",
      "The downloaded binary packages are in\n",
      "\tC:\\Users\\crisp\\AppData\\Local\\Temp\\RtmpQ7qblA\\downloaded_packages\n"
     ]
    }
   ],
   "source": [
    "install.packages(\"pacman\")"
   ]
  },
  {
   "cell_type": "markdown",
   "id": "07f7f5d5-dbec-4c49-834d-a31f6629d314",
   "metadata": {},
   "source": [
    "To install the packages now using `pacman` we first load it and then install them using the `pacmak::p_load(pacman,...packages)` as follows"
   ]
  },
  {
   "cell_type": "code",
   "execution_count": 32,
   "id": "b0078938-490b-4da0-91fd-33cf67dc2f40",
   "metadata": {},
   "outputs": [
    {
     "name": "stderr",
     "output_type": "stream",
     "text": [
      "Warning message:\n",
      "\"package 'pacman' was built under R version 4.4.3\"\n",
      "Installing package into 'C:/Users/crisp/AppData/Local/R/win-library/4.4'\n",
      "(as 'lib' is unspecified)\n",
      "\n",
      "also installing the dependencies 'bit', 'bit64', 'forcats', 'R.oo', 'R.methodsS3', 'clipr', 'vroom', 'tzdb', 'haven', 'curl', 'data.table', 'writexl', 'R.utils', 'readr'\n",
      "\n",
      "\n",
      "Warning message:\n",
      "\"unable to access index for repository http://www.stats.ox.ac.uk/pub/RWin/bin/windows/contrib/4.4:\n",
      "  cannot open URL 'http://www.stats.ox.ac.uk/pub/RWin/bin/windows/contrib/4.4/PACKAGES'\"\n"
     ]
    },
    {
     "name": "stdout",
     "output_type": "stream",
     "text": [
      "package 'bit' successfully unpacked and MD5 sums checked\n",
      "package 'bit64' successfully unpacked and MD5 sums checked\n",
      "package 'forcats' successfully unpacked and MD5 sums checked\n",
      "package 'R.oo' successfully unpacked and MD5 sums checked\n",
      "package 'R.methodsS3' successfully unpacked and MD5 sums checked\n",
      "package 'clipr' successfully unpacked and MD5 sums checked\n",
      "package 'vroom' successfully unpacked and MD5 sums checked\n",
      "package 'tzdb' successfully unpacked and MD5 sums checked\n",
      "package 'haven' successfully unpacked and MD5 sums checked\n",
      "package 'curl' successfully unpacked and MD5 sums checked\n",
      "package 'data.table' successfully unpacked and MD5 sums checked\n",
      "package 'writexl' successfully unpacked and MD5 sums checked\n",
      "package 'R.utils' successfully unpacked and MD5 sums checked\n",
      "package 'readr' successfully unpacked and MD5 sums checked\n",
      "package 'rio' successfully unpacked and MD5 sums checked\n",
      "\n",
      "The downloaded binary packages are in\n",
      "\tC:\\Users\\crisp\\AppData\\Local\\Temp\\RtmpQ7qblA\\downloaded_packages\n"
     ]
    },
    {
     "name": "stderr",
     "output_type": "stream",
     "text": [
      "\n",
      "rio installed\n",
      "\n",
      "Warning message:\n",
      "\"package 'rio' was built under R version 4.4.3\"\n"
     ]
    }
   ],
   "source": [
    "library(pacman)\n",
    "pacman::p_load(pacman, rio, dplyr, ggplot2)"
   ]
  },
  {
   "cell_type": "markdown",
   "id": "41662dab-3c90-4e31-9968-f67fde6d8d4f",
   "metadata": {},
   "source": [
    "### 3. Ploting graphs.\n",
    "\n",
    "In this section we are going to learn how to ploat the graphs using some built in functions to plot data in `R`.\n",
    "\n",
    "First let's start by ploting the categorical variable."
   ]
  },
  {
   "cell_type": "code",
   "execution_count": 37,
   "id": "8e6b418c-3036-4c63-8ac2-9d3917896a2a",
   "metadata": {},
   "outputs": [
    {
     "data": {
      "image/png": "[encoded data removed]",
      "text/plain": [
       "plot without title"
      ]
     },
     "metadata": {
      "image/png": {
       "height": 420,
       "width": 420
      }
     },
     "output_type": "display_data"
    }
   ],
   "source": [
    "plot(iris$Species, col=\"blue\")"
   ]
  },
  {
   "cell_type": "markdown",
   "id": "72f4bcf7-9886-418e-96a1-cacce0b4cf9b",
   "metadata": {},
   "source": [
    "Let's plot the continous variable."
   ]
  },
  {
   "cell_type": "code",
   "execution_count": 44,
   "id": "f8e83cf8-3506-43ee-9012-4fc4c12330fd",
   "metadata": {},
   "outputs": [
    {
     "data": {
      "image/png": "[encoded data removed]",
      "text/plain": [
       "plot without title"
      ]
     },
     "metadata": {
      "image/png": {
       "height": 420,
       "width": 420
      }
     },
     "output_type": "display_data"
    }
   ],
   "source": [
    "plot(iris$Petal.Width)"
   ]
  },
  {
   "cell_type": "markdown",
   "id": "acdb9d37-7234-4518-9d87-b21666b96e7d",
   "metadata": {},
   "source": [
    "In the next code cell we are going to plot a categorical variable with continous variable using the `plot` function which will yield a box plot."
   ]
  },
  {
   "cell_type": "code",
   "execution_count": 54,
   "id": "c75adfdf-3d24-4fa2-b685-c973bc56c832",
   "metadata": {},
   "outputs": [
    {
     "data": {
      "image/png": "[encoded data removed]",
      "text/plain": [
       "plot without title"
      ]
     },
     "metadata": {
      "image/png": {
       "height": 420,
       "width": 420
      }
     },
     "output_type": "display_data"
    }
   ],
   "source": [
    "plot(iris$Species, iris$Petal.Width)"
   ]
  },
  {
   "cell_type": "markdown",
   "id": "0dd2ac67-ec1f-46ea-bdea-8462d2bc75f9",
   "metadata": {},
   "source": [
    "### Ploting Bar Graphs\n",
    "In this section we are going to plot the bar graph using the `mtcars` built in dataset."
   ]
  },
  {
   "cell_type": "code",
   "execution_count": 60,
   "id": "41cbd6b7-6c7d-4727-9450-bcd7c413df7f",
   "metadata": {},
   "outputs": [
    {
     "data": {
      "text/plain": [
       "\n",
       " 4  6  8 \n",
       "11  7 14 "
      ]
     },
     "metadata": {},
     "output_type": "display_data"
    }
   ],
   "source": [
    "cyl <- table(mtcars$cyl)\n",
    "cyl"
   ]
  },
  {
   "cell_type": "code",
   "execution_count": 64,
   "id": "fc6deed2-82d5-464e-94bc-36f16eb7887b",
   "metadata": {},
   "outputs": [
    {
     "data": {
      "image/png": "[encoded data removed]",
      "text/plain": [
       "Plot with title \"Car cylinders\""
      ]
     },
     "metadata": {
      "image/png": {
       "height": 420,
       "width": 420
      }
     },
     "output_type": "display_data"
    }
   ],
   "source": [
    "barplot(cyl, main=\"Car cylinders\", xlab=\"x\", ylab=\"y\", col=\"red\")"
   ]
  },
  {
   "cell_type": "markdown",
   "id": "876731a1-5bff-4a51-b598-b5be8c208fcd",
   "metadata": {},
   "source": [
    "### Ploting Histograms\n",
    "\n",
    "We are going to plot a histogram using the `iris` dataset from continous variables."
   ]
  },
  {
   "cell_type": "code",
   "execution_count": 66,
   "id": "2f68fe82-bc34-47c9-b08c-11c4f97b08e0",
   "metadata": {},
   "outputs": [
    {
     "data": {
      "image/png": "[encoded data removed]",
      "text/plain": [
       "Plot with title \"Histogram of iris$Sepal.Length\""
      ]
     },
     "metadata": {
      "image/png": {
       "height": 420,
       "width": 420
      }
     },
     "output_type": "display_data"
    }
   ],
   "source": [
    "hist(iris$Sepal.Length)"
   ]
  },
  {
   "cell_type": "markdown",
   "id": "52bba246-bf87-4c62-bc57-bfca7746b58c",
   "metadata": {},
   "source": [
    "Let's plot the multiple plots on a single axes, with `3` columns and `1` row."
   ]
  },
  {
   "cell_type": "code",
   "execution_count": 82,
   "id": "46f905b3-e7cf-4231-9d66-87bbe4fc0822",
   "metadata": {},
   "outputs": [],
   "source": [
    "par(mfrow=c(1, 3))"
   ]
  },
  {
   "cell_type": "code",
   "execution_count": 84,
   "id": "4c819d12-0320-47f5-a61f-cbbd63bbaae1",
   "metadata": {},
   "outputs": [
    {
     "data": {
      "image/png": "[encoded data removed]",
      "text/plain": [
       "Plot with title \"Histogram of iris$Petal.Length[iris$Species == \"setosa\"]\""
      ]
     },
     "metadata": {
      "image/png": {
       "height": 420,
       "width": 420
      }
     },
     "output_type": "display_data"
    },
    {
     "data": {
      "image/png": "[encoded data removed]",
      "text/plain": [
       "Plot with title \"Histogram of iris$Petal.Length[iris$Species == \"virginica\"]\""
      ]
     },
     "metadata": {
      "image/png": {
       "height": 420,
       "width": 420
      }
     },
     "output_type": "display_data"
    },
    {
     "data": {
      "image/png": "[encoded data removed]",
      "text/plain": [
       "Plot with title \"Histogram of iris$Petal.Length[iris$Species == \"versicolor\"]\""
      ]
     },
     "metadata": {
      "image/png": {
       "height": 420,
       "width": 420
      }
     },
     "output_type": "display_data"
    }
   ],
   "source": [
    "hist(iris$Petal.Length[iris$Species==\"setosa\"])\n",
    "hist(iris$Petal.Length[iris$Species==\"virginica\"])\n",
    "hist(iris$Petal.Length[iris$Species==\"versicolor\"])"
   ]
  },
  {
   "cell_type": "markdown",
   "id": "fbecd859-bc7a-434b-8239-267d45427cb1",
   "metadata": {},
   "source": [
    "### Overlaping Plots.\n",
    "\n",
    "In this section we are going to look at overlaping plots in `R` to give bettwer view on the data."
   ]
  },
  {
   "cell_type": "code",
   "execution_count": 90,
   "id": "7c456101-330d-4069-98a4-f004f8b8d98c",
   "metadata": {},
   "outputs": [
    {
     "data": {
      "image/png": "[encoded data removed]",
      "text/plain": [
       "Plot with title \"Weight\""
      ]
     },
     "metadata": {
      "image/png": {
       "height": 420,
       "width": 420
      }
     },
     "output_type": "display_data"
    }
   ],
   "source": [
    "hist(mtcars$wt, col=\"green\", freq=F, main=\"Weight\")\n",
    "curve(dnorm(x, mean=mean(mtcars$wt), sd = sd(mtcars$wt)), lwd=2, col=\"black\", add=T)"
   ]
  },
  {
   "cell_type": "markdown",
   "id": "137703c4-b966-452c-983a-5451cbfee9c7",
   "metadata": {},
   "source": [
    "### Describing data.\n",
    "\n",
    "We have a function called `describe` that describes the data, for us to use it we neeed to first by installing the package called `psych`."
   ]
  },
  {
   "cell_type": "code",
   "execution_count": 112,
   "id": "92d4db5c-f457-4232-9b65-522b4dce0cf8",
   "metadata": {},
   "outputs": [],
   "source": [
    "pacman::p_load(pacman, psych)"
   ]
  },
  {
   "cell_type": "code",
   "execution_count": 118,
   "id": "588629dd-3a32-4198-ad00-f14d05f102af",
   "metadata": {},
   "outputs": [
    {
     "data": {
      "text/html": [
       "<table class=\"dataframe\">\n",
       "<caption>A psych: 1 × 13</caption>\n",
       "<thead>\n",
       "\t<tr><th></th><th scope=col>vars</th><th scope=col>n</th><th scope=col>mean</th><th scope=col>sd</th><th scope=col>median</th><th scope=col>trimmed</th><th scope=col>mad</th><th scope=col>min</th><th scope=col>max</th><th scope=col>range</th><th scope=col>skew</th><th scope=col>kurtosis</th><th scope=col>se</th></tr>\n",
       "\t<tr><th></th><th scope=col>&lt;dbl&gt;</th><th scope=col>&lt;dbl&gt;</th><th scope=col>&lt;dbl&gt;</th><th scope=col>&lt;dbl&gt;</th><th scope=col>&lt;dbl&gt;</th><th scope=col>&lt;dbl&gt;</th><th scope=col>&lt;dbl&gt;</th><th scope=col>&lt;dbl&gt;</th><th scope=col>&lt;dbl&gt;</th><th scope=col>&lt;dbl&gt;</th><th scope=col>&lt;dbl&gt;</th><th scope=col>&lt;dbl&gt;</th><th scope=col>&lt;dbl&gt;</th></tr>\n",
       "</thead>\n",
       "<tbody>\n",
       "\t<tr><th scope=row>X1</th><td>1</td><td>150</td><td>3.057333</td><td>0.4358663</td><td>3</td><td>3.043333</td><td>0.44478</td><td>2</td><td>4.4</td><td>2.4</td><td>0.3126147</td><td>0.1387047</td><td>0.03558833</td></tr>\n",
       "</tbody>\n",
       "</table>\n"
      ],
      "text/latex": [
       "A psych: 1 × 13\n",
       "\\begin{tabular}{r|lllllllllllll}\n",
       "  & vars & n & mean & sd & median & trimmed & mad & min & max & range & skew & kurtosis & se\\\\\n",
       "  & <dbl> & <dbl> & <dbl> & <dbl> & <dbl> & <dbl> & <dbl> & <dbl> & <dbl> & <dbl> & <dbl> & <dbl> & <dbl>\\\\\n",
       "\\hline\n",
       "\tX1 & 1 & 150 & 3.057333 & 0.4358663 & 3 & 3.043333 & 0.44478 & 2 & 4.4 & 2.4 & 0.3126147 & 0.1387047 & 0.03558833\\\\\n",
       "\\end{tabular}\n"
      ],
      "text/markdown": [
       "\n",
       "A psych: 1 × 13\n",
       "\n",
       "| <!--/--> | vars &lt;dbl&gt; | n &lt;dbl&gt; | mean &lt;dbl&gt; | sd &lt;dbl&gt; | median &lt;dbl&gt; | trimmed &lt;dbl&gt; | mad &lt;dbl&gt; | min &lt;dbl&gt; | max &lt;dbl&gt; | range &lt;dbl&gt; | skew &lt;dbl&gt; | kurtosis &lt;dbl&gt; | se &lt;dbl&gt; |\n",
       "|---|---|---|---|---|---|---|---|---|---|---|---|---|---|\n",
       "| X1 | 1 | 150 | 3.057333 | 0.4358663 | 3 | 3.043333 | 0.44478 | 2 | 4.4 | 2.4 | 0.3126147 | 0.1387047 | 0.03558833 |\n",
       "\n"
      ],
      "text/plain": [
       "   vars n   mean     sd        median trimmed  mad     min max range skew     \n",
       "X1 1    150 3.057333 0.4358663 3      3.043333 0.44478 2   4.4 2.4   0.3126147\n",
       "   kurtosis  se        \n",
       "X1 0.1387047 0.03558833"
      ]
     },
     "metadata": {},
     "output_type": "display_data"
    }
   ],
   "source": [
    "describe(iris$Sepal.Width)"
   ]
  },
  {
   "cell_type": "markdown",
   "id": "e636dbb0-914d-45f7-bbc9-06954877c508",
   "metadata": {},
   "source": [
    "### Importing data to `R`\n",
    "In this section we are going to load the data using `R`"
   ]
  },
  {
   "cell_type": "code",
   "execution_count": 121,
   "id": "8c56bb71-e3dd-48ca-8e39-87ebb02d2a26",
   "metadata": {},
   "outputs": [
    {
     "data": {
      "text/html": [
       "<style>\n",
       ".list-inline {list-style: none; margin:0; padding: 0}\n",
       ".list-inline>li {display: inline-block}\n",
       ".list-inline>li:not(:last-child)::after {content: \"\\00b7\"; padding: 0 .5ex}\n",
       "</style>\n",
       "<ol class=list-inline><li>0</li><li>1</li><li>2</li><li>3</li><li>4</li><li>5</li><li>6</li><li>7</li><li>8</li><li>9</li><li>10</li></ol>\n"
      ],
      "text/latex": [
       "\\begin{enumerate*}\n",
       "\\item 0\n",
       "\\item 1\n",
       "\\item 2\n",
       "\\item 3\n",
       "\\item 4\n",
       "\\item 5\n",
       "\\item 6\n",
       "\\item 7\n",
       "\\item 8\n",
       "\\item 9\n",
       "\\item 10\n",
       "\\end{enumerate*}\n"
      ],
      "text/markdown": [
       "1. 0\n",
       "2. 1\n",
       "3. 2\n",
       "4. 3\n",
       "5. 4\n",
       "6. 5\n",
       "7. 6\n",
       "8. 7\n",
       "9. 8\n",
       "10. 9\n",
       "11. 10\n",
       "\n",
       "\n"
      ],
      "text/plain": [
       " [1]  0  1  2  3  4  5  6  7  8  9 10"
      ]
     },
     "metadata": {},
     "output_type": "display_data"
    }
   ],
   "source": [
    "x <- 0:10\n",
    "x"
   ]
  },
  {
   "cell_type": "code",
   "execution_count": 123,
   "id": "c673d760-f313-4a73-983c-babbc3a2eec9",
   "metadata": {},
   "outputs": [
    {
     "data": {
      "text/html": [
       "<style>\n",
       ".list-inline {list-style: none; margin:0; padding: 0}\n",
       ".list-inline>li {display: inline-block}\n",
       ".list-inline>li:not(:last-child)::after {content: \"\\00b7\"; padding: 0 .5ex}\n",
       "</style>\n",
       "<ol class=list-inline><li>12</li><li>11</li><li>10</li><li>9</li><li>8</li><li>7</li><li>6</li><li>5</li><li>4</li><li>3</li><li>2</li></ol>\n"
      ],
      "text/latex": [
       "\\begin{enumerate*}\n",
       "\\item 12\n",
       "\\item 11\n",
       "\\item 10\n",
       "\\item 9\n",
       "\\item 8\n",
       "\\item 7\n",
       "\\item 6\n",
       "\\item 5\n",
       "\\item 4\n",
       "\\item 3\n",
       "\\item 2\n",
       "\\end{enumerate*}\n"
      ],
      "text/markdown": [
       "1. 12\n",
       "2. 11\n",
       "3. 10\n",
       "4. 9\n",
       "5. 8\n",
       "6. 7\n",
       "7. 6\n",
       "8. 5\n",
       "9. 4\n",
       "10. 3\n",
       "11. 2\n",
       "\n",
       "\n"
      ],
      "text/plain": [
       " [1] 12 11 10  9  8  7  6  5  4  3  2"
      ]
     },
     "metadata": {},
     "output_type": "display_data"
    }
   ],
   "source": [
    "y <- 12:2\n",
    "y"
   ]
  },
  {
   "cell_type": "markdown",
   "id": "8545d13f-7d4c-406b-8757-30863aaa3776",
   "metadata": {},
   "source": [
    "We can generate the sequence of values using the `seq` operator."
   ]
  },
  {
   "cell_type": "code",
   "execution_count": 125,
   "id": "6fa72f32-9864-4d43-82bf-8e3d729b5902",
   "metadata": {},
   "outputs": [
    {
     "data": {
      "text/html": [
       "<style>\n",
       ".list-inline {list-style: none; margin:0; padding: 0}\n",
       ".list-inline>li {display: inline-block}\n",
       ".list-inline>li:not(:last-child)::after {content: \"\\00b7\"; padding: 0 .5ex}\n",
       "</style>\n",
       "<ol class=list-inline><li>2</li><li>3</li><li>4</li><li>5</li><li>6</li><li>7</li><li>8</li><li>9</li><li>10</li><li>11</li><li>12</li><li>13</li><li>14</li><li>15</li></ol>\n"
      ],
      "text/latex": [
       "\\begin{enumerate*}\n",
       "\\item 2\n",
       "\\item 3\n",
       "\\item 4\n",
       "\\item 5\n",
       "\\item 6\n",
       "\\item 7\n",
       "\\item 8\n",
       "\\item 9\n",
       "\\item 10\n",
       "\\item 11\n",
       "\\item 12\n",
       "\\item 13\n",
       "\\item 14\n",
       "\\item 15\n",
       "\\end{enumerate*}\n"
      ],
      "text/markdown": [
       "1. 2\n",
       "2. 3\n",
       "3. 4\n",
       "4. 5\n",
       "5. 6\n",
       "6. 7\n",
       "7. 8\n",
       "8. 9\n",
       "9. 10\n",
       "10. 11\n",
       "11. 12\n",
       "12. 13\n",
       "13. 14\n",
       "14. 15\n",
       "\n",
       "\n"
      ],
      "text/plain": [
       " [1]  2  3  4  5  6  7  8  9 10 11 12 13 14 15"
      ]
     },
     "metadata": {},
     "output_type": "display_data"
    }
   ],
   "source": [
    "seq(2, 15)"
   ]
  },
  {
   "cell_type": "code",
   "execution_count": 132,
   "id": "a223314f-1346-455a-ab46-114052588baa",
   "metadata": {},
   "outputs": [
    {
     "data": {
      "text/html": [
       "<style>\n",
       ".list-inline {list-style: none; margin:0; padding: 0}\n",
       ".list-inline>li {display: inline-block}\n",
       ".list-inline>li:not(:last-child)::after {content: \"\\00b7\"; padding: 0 .5ex}\n",
       "</style>\n",
       "<ol class=list-inline><li>15</li><li>13</li><li>11</li><li>9</li><li>7</li><li>5</li><li>3</li><li>1</li></ol>\n"
      ],
      "text/latex": [
       "\\begin{enumerate*}\n",
       "\\item 15\n",
       "\\item 13\n",
       "\\item 11\n",
       "\\item 9\n",
       "\\item 7\n",
       "\\item 5\n",
       "\\item 3\n",
       "\\item 1\n",
       "\\end{enumerate*}\n"
      ],
      "text/markdown": [
       "1. 15\n",
       "2. 13\n",
       "3. 11\n",
       "4. 9\n",
       "5. 7\n",
       "6. 5\n",
       "7. 3\n",
       "8. 1\n",
       "\n",
       "\n"
      ],
      "text/plain": [
       "[1] 15 13 11  9  7  5  3  1"
      ]
     },
     "metadata": {},
     "output_type": "display_data"
    }
   ],
   "source": [
    "seq(15, 0, by=-2) ## descending order."
   ]
  },
  {
   "cell_type": "markdown",
   "id": "51ca2494-b87d-4166-b969-713407c2d137",
   "metadata": {},
   "source": [
    "We can use the `c` command to do that as well."
   ]
  },
  {
   "cell_type": "code",
   "execution_count": 135,
   "id": "183e1e48-d2f9-4640-8261-8f51cacd7af9",
   "metadata": {},
   "outputs": [
    {
     "data": {
      "text/html": [
       "<style>\n",
       ".list-inline {list-style: none; margin:0; padding: 0}\n",
       ".list-inline>li {display: inline-block}\n",
       ".list-inline>li:not(:last-child)::after {content: \"\\00b7\"; padding: 0 .5ex}\n",
       "</style>\n",
       "<ol class=list-inline><li>2</li><li>2</li><li>3</li><li>5</li></ol>\n"
      ],
      "text/latex": [
       "\\begin{enumerate*}\n",
       "\\item 2\n",
       "\\item 2\n",
       "\\item 3\n",
       "\\item 5\n",
       "\\end{enumerate*}\n"
      ],
      "text/markdown": [
       "1. 2\n",
       "2. 2\n",
       "3. 3\n",
       "4. 5\n",
       "\n",
       "\n"
      ],
      "text/plain": [
       "[1] 2 2 3 5"
      ]
     },
     "metadata": {},
     "output_type": "display_data"
    }
   ],
   "source": [
    "z <- c(2, 2, 3, 5)\n",
    "z"
   ]
  },
  {
   "cell_type": "markdown",
   "id": "6a8da92c-0131-491f-8eb7-0ba4ac958c82",
   "metadata": {},
   "source": [
    "We can also use the `scan` to get input from the user. Here is an example:"
   ]
  },
  {
   "cell_type": "code",
   "execution_count": 142,
   "id": "59c728a7-8bda-41e9-9856-ffd16ab66519",
   "metadata": {},
   "outputs": [],
   "source": [
    "d <- scan()"
   ]
  },
  {
   "cell_type": "markdown",
   "id": "3077ec68-19d9-44a8-979f-d37bcc466c5c",
   "metadata": {},
   "source": [
    "We can use the `rep` function to repeat the data using the `rep` function for example."
   ]
  },
  {
   "cell_type": "code",
   "execution_count": 145,
   "id": "ba096ea5-127b-4650-86c7-5e7b008b76e1",
   "metadata": {},
   "outputs": [
    {
     "data": {
      "text/html": [
       "<style>\n",
       ".list-inline {list-style: none; margin:0; padding: 0}\n",
       ".list-inline>li {display: inline-block}\n",
       ".list-inline>li:not(:last-child)::after {content: \"\\00b7\"; padding: 0 .5ex}\n",
       "</style>\n",
       "<ol class=list-inline><li>'Ada'</li><li>'Ada'</li><li>'Ada'</li><li>'Ada'</li><li>'Ada'</li><li>'Ada'</li><li>'Ada'</li></ol>\n"
      ],
      "text/latex": [
       "\\begin{enumerate*}\n",
       "\\item 'Ada'\n",
       "\\item 'Ada'\n",
       "\\item 'Ada'\n",
       "\\item 'Ada'\n",
       "\\item 'Ada'\n",
       "\\item 'Ada'\n",
       "\\item 'Ada'\n",
       "\\end{enumerate*}\n"
      ],
      "text/markdown": [
       "1. 'Ada'\n",
       "2. 'Ada'\n",
       "3. 'Ada'\n",
       "4. 'Ada'\n",
       "5. 'Ada'\n",
       "6. 'Ada'\n",
       "7. 'Ada'\n",
       "\n",
       "\n"
      ],
      "text/plain": [
       "[1] \"Ada\" \"Ada\" \"Ada\" \"Ada\" \"Ada\" \"Ada\" \"Ada\""
      ]
     },
     "metadata": {},
     "output_type": "display_data"
    }
   ],
   "source": [
    "d <- rep(\"Ada\", time=7)\n",
    "d"
   ]
  },
  {
   "cell_type": "markdown",
   "id": "b624081e-a25c-4d45-a083-bf9802c66d9a",
   "metadata": {},
   "source": [
    "Reading the data in `csv` format in excel."
   ]
  },
  {
   "cell_type": "code",
   "execution_count": 150,
   "id": "107c83fa-7f49-4505-8a05-545e4fdaab14",
   "metadata": {},
   "outputs": [
    {
     "data": {
      "text/html": [
       "<table class=\"dataframe\">\n",
       "<caption>A data.frame: 6 × 9</caption>\n",
       "<thead>\n",
       "\t<tr><th></th><th scope=col>cement</th><th scope=col>slag</th><th scope=col>ash</th><th scope=col>water</th><th scope=col>superplastic</th><th scope=col>coarseagg</th><th scope=col>fineagg</th><th scope=col>age</th><th scope=col>strength</th></tr>\n",
       "\t<tr><th></th><th scope=col>&lt;dbl&gt;</th><th scope=col>&lt;dbl&gt;</th><th scope=col>&lt;dbl&gt;</th><th scope=col>&lt;dbl&gt;</th><th scope=col>&lt;dbl&gt;</th><th scope=col>&lt;dbl&gt;</th><th scope=col>&lt;dbl&gt;</th><th scope=col>&lt;int&gt;</th><th scope=col>&lt;dbl&gt;</th></tr>\n",
       "</thead>\n",
       "<tbody>\n",
       "\t<tr><th scope=row>1</th><td>540.0</td><td>  0.0</td><td>0</td><td>162</td><td>2.5</td><td>1040.0</td><td>676.0</td><td> 28</td><td>79.99</td></tr>\n",
       "\t<tr><th scope=row>2</th><td>540.0</td><td>  0.0</td><td>0</td><td>162</td><td>2.5</td><td>1055.0</td><td>676.0</td><td> 28</td><td>61.89</td></tr>\n",
       "\t<tr><th scope=row>3</th><td>332.5</td><td>142.5</td><td>0</td><td>228</td><td>0.0</td><td> 932.0</td><td>594.0</td><td>270</td><td>40.27</td></tr>\n",
       "\t<tr><th scope=row>4</th><td>332.5</td><td>142.5</td><td>0</td><td>228</td><td>0.0</td><td> 932.0</td><td>594.0</td><td>365</td><td>41.05</td></tr>\n",
       "\t<tr><th scope=row>5</th><td>198.6</td><td>132.4</td><td>0</td><td>192</td><td>0.0</td><td> 978.4</td><td>825.5</td><td>360</td><td>44.30</td></tr>\n",
       "\t<tr><th scope=row>6</th><td>266.0</td><td>114.0</td><td>0</td><td>228</td><td>0.0</td><td> 932.0</td><td>670.0</td><td> 90</td><td>47.03</td></tr>\n",
       "</tbody>\n",
       "</table>\n"
      ],
      "text/latex": [
       "A data.frame: 6 × 9\n",
       "\\begin{tabular}{r|lllllllll}\n",
       "  & cement & slag & ash & water & superplastic & coarseagg & fineagg & age & strength\\\\\n",
       "  & <dbl> & <dbl> & <dbl> & <dbl> & <dbl> & <dbl> & <dbl> & <int> & <dbl>\\\\\n",
       "\\hline\n",
       "\t1 & 540.0 &   0.0 & 0 & 162 & 2.5 & 1040.0 & 676.0 &  28 & 79.99\\\\\n",
       "\t2 & 540.0 &   0.0 & 0 & 162 & 2.5 & 1055.0 & 676.0 &  28 & 61.89\\\\\n",
       "\t3 & 332.5 & 142.5 & 0 & 228 & 0.0 &  932.0 & 594.0 & 270 & 40.27\\\\\n",
       "\t4 & 332.5 & 142.5 & 0 & 228 & 0.0 &  932.0 & 594.0 & 365 & 41.05\\\\\n",
       "\t5 & 198.6 & 132.4 & 0 & 192 & 0.0 &  978.4 & 825.5 & 360 & 44.30\\\\\n",
       "\t6 & 266.0 & 114.0 & 0 & 228 & 0.0 &  932.0 & 670.0 &  90 & 47.03\\\\\n",
       "\\end{tabular}\n"
      ],
      "text/markdown": [
       "\n",
       "A data.frame: 6 × 9\n",
       "\n",
       "| <!--/--> | cement &lt;dbl&gt; | slag &lt;dbl&gt; | ash &lt;dbl&gt; | water &lt;dbl&gt; | superplastic &lt;dbl&gt; | coarseagg &lt;dbl&gt; | fineagg &lt;dbl&gt; | age &lt;int&gt; | strength &lt;dbl&gt; |\n",
       "|---|---|---|---|---|---|---|---|---|---|\n",
       "| 1 | 540.0 |   0.0 | 0 | 162 | 2.5 | 1040.0 | 676.0 |  28 | 79.99 |\n",
       "| 2 | 540.0 |   0.0 | 0 | 162 | 2.5 | 1055.0 | 676.0 |  28 | 61.89 |\n",
       "| 3 | 332.5 | 142.5 | 0 | 228 | 0.0 |  932.0 | 594.0 | 270 | 40.27 |\n",
       "| 4 | 332.5 | 142.5 | 0 | 228 | 0.0 |  932.0 | 594.0 | 365 | 41.05 |\n",
       "| 5 | 198.6 | 132.4 | 0 | 192 | 0.0 |  978.4 | 825.5 | 360 | 44.30 |\n",
       "| 6 | 266.0 | 114.0 | 0 | 228 | 0.0 |  932.0 | 670.0 |  90 | 47.03 |\n",
       "\n"
      ],
      "text/plain": [
       "  cement slag  ash water superplastic coarseagg fineagg age strength\n",
       "1 540.0    0.0 0   162   2.5          1040.0    676.0    28 79.99   \n",
       "2 540.0    0.0 0   162   2.5          1055.0    676.0    28 61.89   \n",
       "3 332.5  142.5 0   228   0.0           932.0    594.0   270 40.27   \n",
       "4 332.5  142.5 0   228   0.0           932.0    594.0   365 41.05   \n",
       "5 198.6  132.4 0   192   0.0           978.4    825.5   360 44.30   \n",
       "6 266.0  114.0 0   228   0.0           932.0    670.0    90 47.03   "
      ]
     },
     "metadata": {},
     "output_type": "display_data"
    }
   ],
   "source": [
    "data <- read.csv(\"concrete.csv\")\n",
    "head(data)"
   ]
  },
  {
   "cell_type": "markdown",
   "id": "e8b22d1a-d62e-4070-9d3e-82c4c6f3595f",
   "metadata": {},
   "source": [
    "### Principal of Components\n",
    "Another components in `R` is the principal of components analyis. First when analysing pricipal of components you need to check if the dataset can be used for principal component and if the data is eligible.\n",
    "\n",
    "1. First we need to install the packages that we are going to need for this. Here are the packages that we need.\n",
    "   - stats\n",
    "   - dyplr"
   ]
  },
  {
   "cell_type": "code",
   "execution_count": 153,
   "id": "61fc780f-59ea-485c-9eba-cd5379e3a3d1",
   "metadata": {},
   "outputs": [
    {
     "name": "stderr",
     "output_type": "stream",
     "text": [
      "Installing package into 'C:/Users/crisp/AppData/Local/R/win-library/4.4'\n",
      "(as 'lib' is unspecified)\n",
      "\n",
      "Warning message:\n",
      "\"package 'dyplr' is not available for this version of R\n",
      "\n",
      "A version of this package for your version of R might be available elsewhere,\n",
      "see the ideas at\n",
      "https://cran.r-project.org/doc/manuals/r-patched/R-admin.html#Installing-packages\"\n",
      "Warning message:\n",
      "\"unable to access index for repository http://www.stats.ox.ac.uk/pub/RWin/bin/windows/contrib/4.4:\n",
      "  cannot open URL 'http://www.stats.ox.ac.uk/pub/RWin/bin/windows/contrib/4.4/PACKAGES'\"\n",
      "Warning message:\n",
      "\"'BiocManager' not available.  Could not check Bioconductor.\n",
      "\n",
      "Please use `install.packages('BiocManager')` and then retry.\"\n",
      "Warning message in p_install(package, character.only = TRUE, ...):\n",
      "\"\"\n",
      "Warning message in library(package, lib.loc = lib.loc, character.only = TRUE, logical.return = TRUE, :\n",
      "\"there is no package called 'dyplr'\"\n",
      "Warning message in pacman::p_load(pacman, stats, dyplr):\n",
      "\"Failed to install/load:\n",
      "dyplr\"\n"
     ]
    }
   ],
   "source": [
    "pacman::p_load(pacman, stats, dyplr)"
   ]
  },
  {
   "cell_type": "markdown",
   "id": "601b7d4d-f5e4-47e3-92c1-3b33e1f6e6b4",
   "metadata": {},
   "source": [
    "First we are going to select the numerical variables, from the `iris` dataset. For that we are going to use the `select` function as follows."
   ]
  },
  {
   "cell_type": "code",
   "execution_count": 158,
   "id": "ece952a3-eb55-4900-bc72-bbd196af24f0",
   "metadata": {},
   "outputs": [
    {
     "data": {
      "text/html": [
       "<table class=\"dataframe\">\n",
       "<caption>A data.frame: 6 × 4</caption>\n",
       "<thead>\n",
       "\t<tr><th></th><th scope=col>Sepal.Length</th><th scope=col>Sepal.Width</th><th scope=col>Petal.Length</th><th scope=col>Petal.Width</th></tr>\n",
       "\t<tr><th></th><th scope=col>&lt;dbl&gt;</th><th scope=col>&lt;dbl&gt;</th><th scope=col>&lt;dbl&gt;</th><th scope=col>&lt;dbl&gt;</th></tr>\n",
       "</thead>\n",
       "<tbody>\n",
       "\t<tr><th scope=row>1</th><td>5.1</td><td>3.5</td><td>1.4</td><td>0.2</td></tr>\n",
       "\t<tr><th scope=row>2</th><td>4.9</td><td>3.0</td><td>1.4</td><td>0.2</td></tr>\n",
       "\t<tr><th scope=row>3</th><td>4.7</td><td>3.2</td><td>1.3</td><td>0.2</td></tr>\n",
       "\t<tr><th scope=row>4</th><td>4.6</td><td>3.1</td><td>1.5</td><td>0.2</td></tr>\n",
       "\t<tr><th scope=row>5</th><td>5.0</td><td>3.6</td><td>1.4</td><td>0.2</td></tr>\n",
       "\t<tr><th scope=row>6</th><td>5.4</td><td>3.9</td><td>1.7</td><td>0.4</td></tr>\n",
       "</tbody>\n",
       "</table>\n"
      ],
      "text/latex": [
       "A data.frame: 6 × 4\n",
       "\\begin{tabular}{r|llll}\n",
       "  & Sepal.Length & Sepal.Width & Petal.Length & Petal.Width\\\\\n",
       "  & <dbl> & <dbl> & <dbl> & <dbl>\\\\\n",
       "\\hline\n",
       "\t1 & 5.1 & 3.5 & 1.4 & 0.2\\\\\n",
       "\t2 & 4.9 & 3.0 & 1.4 & 0.2\\\\\n",
       "\t3 & 4.7 & 3.2 & 1.3 & 0.2\\\\\n",
       "\t4 & 4.6 & 3.1 & 1.5 & 0.2\\\\\n",
       "\t5 & 5.0 & 3.6 & 1.4 & 0.2\\\\\n",
       "\t6 & 5.4 & 3.9 & 1.7 & 0.4\\\\\n",
       "\\end{tabular}\n"
      ],
      "text/markdown": [
       "\n",
       "A data.frame: 6 × 4\n",
       "\n",
       "| <!--/--> | Sepal.Length &lt;dbl&gt; | Sepal.Width &lt;dbl&gt; | Petal.Length &lt;dbl&gt; | Petal.Width &lt;dbl&gt; |\n",
       "|---|---|---|---|---|\n",
       "| 1 | 5.1 | 3.5 | 1.4 | 0.2 |\n",
       "| 2 | 4.9 | 3.0 | 1.4 | 0.2 |\n",
       "| 3 | 4.7 | 3.2 | 1.3 | 0.2 |\n",
       "| 4 | 4.6 | 3.1 | 1.5 | 0.2 |\n",
       "| 5 | 5.0 | 3.6 | 1.4 | 0.2 |\n",
       "| 6 | 5.4 | 3.9 | 1.7 | 0.4 |\n",
       "\n"
      ],
      "text/plain": [
       "  Sepal.Length Sepal.Width Petal.Length Petal.Width\n",
       "1 5.1          3.5         1.4          0.2        \n",
       "2 4.9          3.0         1.4          0.2        \n",
       "3 4.7          3.2         1.3          0.2        \n",
       "4 4.6          3.1         1.5          0.2        \n",
       "5 5.0          3.6         1.4          0.2        \n",
       "6 5.4          3.9         1.7          0.4        "
      ]
     },
     "metadata": {},
     "output_type": "display_data"
    }
   ],
   "source": [
    "dta = select(iris, c(1, 2, 3, 4))\n",
    "head(dta)"
   ]
  },
  {
   "cell_type": "markdown",
   "id": "dd582b09-3f10-46cf-ab47-5f6184b7dde8",
   "metadata": {},
   "source": [
    "Checking  if the data is eligible for `PCA` for that we are going to caculate the correlation as follows:"
   ]
  },
  {
   "cell_type": "code",
   "execution_count": 161,
   "id": "d1813cc7-c986-48e1-b7c9-75bc9246559c",
   "metadata": {},
   "outputs": [
    {
     "data": {
      "text/html": [
       "<table class=\"dataframe\">\n",
       "<caption>A matrix: 4 × 4 of type dbl</caption>\n",
       "<thead>\n",
       "\t<tr><th></th><th scope=col>Sepal.Length</th><th scope=col>Sepal.Width</th><th scope=col>Petal.Length</th><th scope=col>Petal.Width</th></tr>\n",
       "</thead>\n",
       "<tbody>\n",
       "\t<tr><th scope=row>Sepal.Length</th><td> 1.0000000</td><td>-0.1175698</td><td> 0.8717538</td><td> 0.8179411</td></tr>\n",
       "\t<tr><th scope=row>Sepal.Width</th><td>-0.1175698</td><td> 1.0000000</td><td>-0.4284401</td><td>-0.3661259</td></tr>\n",
       "\t<tr><th scope=row>Petal.Length</th><td> 0.8717538</td><td>-0.4284401</td><td> 1.0000000</td><td> 0.9628654</td></tr>\n",
       "\t<tr><th scope=row>Petal.Width</th><td> 0.8179411</td><td>-0.3661259</td><td> 0.9628654</td><td> 1.0000000</td></tr>\n",
       "</tbody>\n",
       "</table>\n"
      ],
      "text/latex": [
       "A matrix: 4 × 4 of type dbl\n",
       "\\begin{tabular}{r|llll}\n",
       "  & Sepal.Length & Sepal.Width & Petal.Length & Petal.Width\\\\\n",
       "\\hline\n",
       "\tSepal.Length &  1.0000000 & -0.1175698 &  0.8717538 &  0.8179411\\\\\n",
       "\tSepal.Width & -0.1175698 &  1.0000000 & -0.4284401 & -0.3661259\\\\\n",
       "\tPetal.Length &  0.8717538 & -0.4284401 &  1.0000000 &  0.9628654\\\\\n",
       "\tPetal.Width &  0.8179411 & -0.3661259 &  0.9628654 &  1.0000000\\\\\n",
       "\\end{tabular}\n"
      ],
      "text/markdown": [
       "\n",
       "A matrix: 4 × 4 of type dbl\n",
       "\n",
       "| <!--/--> | Sepal.Length | Sepal.Width | Petal.Length | Petal.Width |\n",
       "|---|---|---|---|---|\n",
       "| Sepal.Length |  1.0000000 | -0.1175698 |  0.8717538 |  0.8179411 |\n",
       "| Sepal.Width | -0.1175698 |  1.0000000 | -0.4284401 | -0.3661259 |\n",
       "| Petal.Length |  0.8717538 | -0.4284401 |  1.0000000 |  0.9628654 |\n",
       "| Petal.Width |  0.8179411 | -0.3661259 |  0.9628654 |  1.0000000 |\n",
       "\n"
      ],
      "text/plain": [
       "             Sepal.Length Sepal.Width Petal.Length Petal.Width\n",
       "Sepal.Length  1.0000000   -0.1175698   0.8717538    0.8179411 \n",
       "Sepal.Width  -0.1175698    1.0000000  -0.4284401   -0.3661259 \n",
       "Petal.Length  0.8717538   -0.4284401   1.0000000    0.9628654 \n",
       "Petal.Width   0.8179411   -0.3661259   0.9628654    1.0000000 "
      ]
     },
     "metadata": {},
     "output_type": "display_data"
    }
   ],
   "source": [
    "cor(dta)"
   ]
  },
  {
   "cell_type": "markdown",
   "id": "1539be44-2f49-4985-8bdb-f89dd5898c32",
   "metadata": {},
   "source": [
    "Next we neew to find the correlation mean, if the mean of the correlation matrix is greater than `0.3` that means that data is eligible for `PCA`"
   ]
  },
  {
   "cell_type": "code",
   "execution_count": 164,
   "id": "bf6a0bf0-227d-47f9-8b9c-e5bc55e24697",
   "metadata": {},
   "outputs": [
    {
     "data": {
      "text/html": [
       "0.467553064070122"
      ],
      "text/latex": [
       "0.467553064070122"
      ],
      "text/markdown": [
       "0.467553064070122"
      ],
      "text/plain": [
       "[1] 0.4675531"
      ]
     },
     "metadata": {},
     "output_type": "display_data"
    }
   ],
   "source": [
    "mean(cor(dta))"
   ]
  },
  {
   "cell_type": "markdown",
   "id": "c3d52a53-edb3-4b9e-8fe7-22111a0670e4",
   "metadata": {},
   "source": [
    "Next we are going to create the model that does that."
   ]
  },
  {
   "cell_type": "code",
   "execution_count": 167,
   "id": "00fd03fb-504d-4b7e-91ab-c3c037e880c6",
   "metadata": {},
   "outputs": [
    {
     "data": {
      "text/plain": [
       "Call:\n",
       "princomp(x = dta)\n",
       "\n",
       "Standard deviations:\n",
       "   Comp.1    Comp.2    Comp.3    Comp.4 \n",
       "2.0494032 0.4909714 0.2787259 0.1538707 \n",
       "\n",
       " 4  variables and  150 observations."
      ]
     },
     "metadata": {},
     "output_type": "display_data"
    }
   ],
   "source": [
    "pca <- princomp(dta)\n",
    "pca"
   ]
  },
  {
   "cell_type": "markdown",
   "id": "74f01cdb-edad-4ce5-a634-aa67dc0557e1",
   "metadata": {},
   "source": [
    "Then we are going to evaluate the results that we got. We are going to do it as follows:"
   ]
  },
  {
   "cell_type": "code",
   "execution_count": 170,
   "id": "c65e7a8c-7946-47a7-933f-03ca1b054137",
   "metadata": {},
   "outputs": [
    {
     "data": {
      "text/plain": [
       "\n",
       "Loadings:\n",
       "             Comp.1 Comp.2 Comp.3 Comp.4\n",
       "Sepal.Length  0.361  0.657  0.582  0.315\n",
       "Sepal.Width          0.730 -0.598 -0.320\n",
       "Petal.Length  0.857 -0.173        -0.480\n",
       "Petal.Width   0.358        -0.546  0.754\n",
       "\n",
       "               Comp.1 Comp.2 Comp.3 Comp.4\n",
       "SS loadings      1.00   1.00   1.00   1.00\n",
       "Proportion Var   0.25   0.25   0.25   0.25\n",
       "Cumulative Var   0.25   0.50   0.75   1.00"
      ]
     },
     "metadata": {},
     "output_type": "display_data"
    }
   ],
   "source": [
    "pca$loadings"
   ]
  },
  {
   "cell_type": "markdown",
   "id": "ce0939ee-0ebb-43a1-b185-12c425976b62",
   "metadata": {},
   "source": [
    "Next we are going to check if the PCs are independent inorder to do that we are going to get the `scores` as follows"
   ]
  },
  {
   "cell_type": "code",
   "execution_count": 181,
   "id": "2dab2110-7adb-4aae-9153-46cfea4b8174",
   "metadata": {},
   "outputs": [
    {
     "data": {
      "text/html": [
       "<table class=\"dataframe\">\n",
       "<caption>A matrix: 6 × 4 of type dbl</caption>\n",
       "<thead>\n",
       "\t<tr><th scope=col>Comp.1</th><th scope=col>Comp.2</th><th scope=col>Comp.3</th><th scope=col>Comp.4</th></tr>\n",
       "</thead>\n",
       "<tbody>\n",
       "\t<tr><td>-2.684126</td><td> 0.3193972</td><td> 0.02791483</td><td> 0.002262437</td></tr>\n",
       "\t<tr><td>-2.714142</td><td>-0.1770012</td><td> 0.21046427</td><td> 0.099026550</td></tr>\n",
       "\t<tr><td>-2.888991</td><td>-0.1449494</td><td>-0.01790026</td><td> 0.019968390</td></tr>\n",
       "\t<tr><td>-2.745343</td><td>-0.3182990</td><td>-0.03155937</td><td>-0.075575817</td></tr>\n",
       "\t<tr><td>-2.728717</td><td> 0.3267545</td><td>-0.09007924</td><td>-0.061258593</td></tr>\n",
       "\t<tr><td>-2.280860</td><td> 0.7413304</td><td>-0.16867766</td><td>-0.024200858</td></tr>\n",
       "</tbody>\n",
       "</table>\n"
      ],
      "text/latex": [
       "A matrix: 6 × 4 of type dbl\n",
       "\\begin{tabular}{llll}\n",
       " Comp.1 & Comp.2 & Comp.3 & Comp.4\\\\\n",
       "\\hline\n",
       "\t -2.684126 &  0.3193972 &  0.02791483 &  0.002262437\\\\\n",
       "\t -2.714142 & -0.1770012 &  0.21046427 &  0.099026550\\\\\n",
       "\t -2.888991 & -0.1449494 & -0.01790026 &  0.019968390\\\\\n",
       "\t -2.745343 & -0.3182990 & -0.03155937 & -0.075575817\\\\\n",
       "\t -2.728717 &  0.3267545 & -0.09007924 & -0.061258593\\\\\n",
       "\t -2.280860 &  0.7413304 & -0.16867766 & -0.024200858\\\\\n",
       "\\end{tabular}\n"
      ],
      "text/markdown": [
       "\n",
       "A matrix: 6 × 4 of type dbl\n",
       "\n",
       "| Comp.1 | Comp.2 | Comp.3 | Comp.4 |\n",
       "|---|---|---|---|\n",
       "| -2.684126 |  0.3193972 |  0.02791483 |  0.002262437 |\n",
       "| -2.714142 | -0.1770012 |  0.21046427 |  0.099026550 |\n",
       "| -2.888991 | -0.1449494 | -0.01790026 |  0.019968390 |\n",
       "| -2.745343 | -0.3182990 | -0.03155937 | -0.075575817 |\n",
       "| -2.728717 |  0.3267545 | -0.09007924 | -0.061258593 |\n",
       "| -2.280860 |  0.7413304 | -0.16867766 | -0.024200858 |\n",
       "\n"
      ],
      "text/plain": [
       "     Comp.1    Comp.2     Comp.3      Comp.4      \n",
       "[1,] -2.684126  0.3193972  0.02791483  0.002262437\n",
       "[2,] -2.714142 -0.1770012  0.21046427  0.099026550\n",
       "[3,] -2.888991 -0.1449494 -0.01790026  0.019968390\n",
       "[4,] -2.745343 -0.3182990 -0.03155937 -0.075575817\n",
       "[5,] -2.728717  0.3267545 -0.09007924 -0.061258593\n",
       "[6,] -2.280860  0.7413304 -0.16867766 -0.024200858"
      ]
     },
     "metadata": {},
     "output_type": "display_data"
    }
   ],
   "source": [
    "pc <- pca$scores\n",
    "View(head(pc))"
   ]
  },
  {
   "cell_type": "markdown",
   "id": "41c86dd3-adec-482c-9688-79c351312355",
   "metadata": {},
   "source": [
    "PCs are only independent if they have a correlation that is close to 0."
   ]
  },
  {
   "cell_type": "code",
   "execution_count": 184,
   "id": "43630304-0721-4f5d-b1c6-0c2e47c43a9d",
   "metadata": {},
   "outputs": [
    {
     "data": {
      "text/html": [
       "<table class=\"dataframe\">\n",
       "<caption>A matrix: 4 × 4 of type dbl</caption>\n",
       "<thead>\n",
       "\t<tr><th></th><th scope=col>Comp.1</th><th scope=col>Comp.2</th><th scope=col>Comp.3</th><th scope=col>Comp.4</th></tr>\n",
       "</thead>\n",
       "<tbody>\n",
       "\t<tr><th scope=row>Comp.1</th><td> 1.000000e+00</td><td>-1.137888e-16</td><td> 1.321836e-15</td><td> 1.374322e-15</td></tr>\n",
       "\t<tr><th scope=row>Comp.2</th><td>-1.137888e-16</td><td> 1.000000e+00</td><td>-6.259978e-16</td><td>-6.809170e-15</td></tr>\n",
       "\t<tr><th scope=row>Comp.3</th><td> 1.321836e-15</td><td>-6.259978e-16</td><td> 1.000000e+00</td><td>-4.848786e-15</td></tr>\n",
       "\t<tr><th scope=row>Comp.4</th><td> 1.374322e-15</td><td>-6.809170e-15</td><td>-4.848786e-15</td><td> 1.000000e+00</td></tr>\n",
       "</tbody>\n",
       "</table>\n"
      ],
      "text/latex": [
       "A matrix: 4 × 4 of type dbl\n",
       "\\begin{tabular}{r|llll}\n",
       "  & Comp.1 & Comp.2 & Comp.3 & Comp.4\\\\\n",
       "\\hline\n",
       "\tComp.1 &  1.000000e+00 & -1.137888e-16 &  1.321836e-15 &  1.374322e-15\\\\\n",
       "\tComp.2 & -1.137888e-16 &  1.000000e+00 & -6.259978e-16 & -6.809170e-15\\\\\n",
       "\tComp.3 &  1.321836e-15 & -6.259978e-16 &  1.000000e+00 & -4.848786e-15\\\\\n",
       "\tComp.4 &  1.374322e-15 & -6.809170e-15 & -4.848786e-15 &  1.000000e+00\\\\\n",
       "\\end{tabular}\n"
      ],
      "text/markdown": [
       "\n",
       "A matrix: 4 × 4 of type dbl\n",
       "\n",
       "| <!--/--> | Comp.1 | Comp.2 | Comp.3 | Comp.4 |\n",
       "|---|---|---|---|---|\n",
       "| Comp.1 |  1.000000e+00 | -1.137888e-16 |  1.321836e-15 |  1.374322e-15 |\n",
       "| Comp.2 | -1.137888e-16 |  1.000000e+00 | -6.259978e-16 | -6.809170e-15 |\n",
       "| Comp.3 |  1.321836e-15 | -6.259978e-16 |  1.000000e+00 | -4.848786e-15 |\n",
       "| Comp.4 |  1.374322e-15 | -6.809170e-15 | -4.848786e-15 |  1.000000e+00 |\n",
       "\n"
      ],
      "text/plain": [
       "       Comp.1        Comp.2        Comp.3        Comp.4       \n",
       "Comp.1  1.000000e+00 -1.137888e-16  1.321836e-15  1.374322e-15\n",
       "Comp.2 -1.137888e-16  1.000000e+00 -6.259978e-16 -6.809170e-15\n",
       "Comp.3  1.321836e-15 -6.259978e-16  1.000000e+00 -4.848786e-15\n",
       "Comp.4  1.374322e-15 -6.809170e-15 -4.848786e-15  1.000000e+00"
      ]
     },
     "metadata": {},
     "output_type": "display_data"
    }
   ],
   "source": [
    "cor(pc)"
   ]
  },
  {
   "cell_type": "markdown",
   "id": "b46be074-f86c-4e76-a552-ba059dc95c3e",
   "metadata": {},
   "source": [
    "Hence these components are indepentent. We can do some plot to see these components."
   ]
  },
  {
   "cell_type": "code",
   "execution_count": 188,
   "id": "dc6582c3-0059-4b0f-b33b-70246ab0f60a",
   "metadata": {},
   "outputs": [
    {
     "data": {
      "image/png": "[encoded data removed]",
      "text/plain": [
       "Plot with title \"pca\""
      ]
     },
     "metadata": {
      "image/png": {
       "height": 420,
       "width": 420
      }
     },
     "output_type": "display_data"
    }
   ],
   "source": [
    "plot(pca)"
   ]
  },
  {
   "cell_type": "markdown",
   "id": "090f52cc-9ae8-404e-ae96-0cab0eb261ff",
   "metadata": {},
   "source": [
    "We can plot that using a line graph as follows:"
   ]
  },
  {
   "cell_type": "code",
   "execution_count": 191,
   "id": "93cfb4fb-5932-444e-99b2-38b7672b7112",
   "metadata": {},
   "outputs": [
    {
     "data": {
      "image/png": "[encoded data removed]",
      "text/plain": [
       "Plot with title \"pca\""
      ]
     },
     "metadata": {
      "image/png": {
       "height": 420,
       "width": 420
      }
     },
     "output_type": "display_data"
    }
   ],
   "source": [
    "plot(pca, type=\"line\")"
   ]
  },
  {
   "cell_type": "markdown",
   "id": "2bcab7d8-6a54-46fc-bcc7-14160542cab9",
   "metadata": {},
   "source": [
    "This shows that component `1` has much importance than the rest of the components. Even if we just used component 1 we are still going to get the significance of the model. We can get the summary of our `pca`"
   ]
  },
  {
   "cell_type": "code",
   "execution_count": 194,
   "id": "4be8ed8f-41fc-472e-825f-a146ff0a76b6",
   "metadata": {},
   "outputs": [
    {
     "data": {
      "text/plain": [
       "Importance of components:\n",
       "                          Comp.1     Comp.2     Comp.3      Comp.4\n",
       "Standard deviation     2.0494032 0.49097143 0.27872586 0.153870700\n",
       "Proportion of Variance 0.9246187 0.05306648 0.01710261 0.005212184\n",
       "Cumulative Proportion  0.9246187 0.97768521 0.99478782 1.000000000"
      ]
     },
     "metadata": {},
     "output_type": "display_data"
    }
   ],
   "source": [
    "summary(pca)"
   ]
  },
  {
   "cell_type": "markdown",
   "id": "4c986867-95cb-47f0-a194-fa1fd63d8193",
   "metadata": {},
   "source": [
    "We can see that component 1 has a lot of weights than other components with variance of `0.9246187`."
   ]
  },
  {
   "cell_type": "markdown",
   "id": "b928ffa4-e6f3-4383-af74-cf3e87f33615",
   "metadata": {},
   "source": [
    "### Regregression\n",
    "In statistic a regression is a technique that relates a dependent variable to one or more independentent variables."
   ]
  },
  {
   "cell_type": "code",
   "execution_count": 198,
   "id": "2a65c3d5-17b0-4e64-b654-59242136e80c",
   "metadata": {},
   "outputs": [
    {
     "name": "stderr",
     "output_type": "stream",
     "text": [
      "Installing package into 'C:/Users/crisp/AppData/Local/R/win-library/4.4'\n",
      "(as 'lib' is unspecified)\n",
      "\n",
      "Warning message:\n",
      "\"package 'pcman' is not available for this version of R\n",
      "\n",
      "A version of this package for your version of R might be available elsewhere,\n",
      "see the ideas at\n",
      "https://cran.r-project.org/doc/manuals/r-patched/R-admin.html#Installing-packages\"\n",
      "Warning message:\n",
      "\"unable to access index for repository http://www.stats.ox.ac.uk/pub/RWin/bin/windows/contrib/4.4:\n",
      "  cannot open URL 'http://www.stats.ox.ac.uk/pub/RWin/bin/windows/contrib/4.4/PACKAGES'\"\n",
      "Warning message:\n",
      "\"'BiocManager' not available.  Could not check Bioconductor.\n",
      "\n",
      "Please use `install.packages('BiocManager')` and then retry.\"\n",
      "Warning message in p_install(package, character.only = TRUE, ...):\n",
      "\"\"\n",
      "Warning message in library(package, lib.loc = lib.loc, character.only = TRUE, logical.return = TRUE, :\n",
      "\"there is no package called 'pcman'\"\n",
      "Installing package into 'C:/Users/crisp/AppData/Local/R/win-library/4.4'\n",
      "(as 'lib' is unspecified)\n",
      "\n",
      "also installing the dependencies 'listenv', 'parallelly', 'future', 'globals', 'shape', 'future.apply', 'numDeriv', 'progressr', 'SQUAREM', 'diagram', 'lava', 'prodlim', 'timechange', 'proxy', 'iterators', 'clock', 'gower', 'hardhat', 'ipred', 'lubridate', 'purrr', 'sparsevctrs', 'tidyr', 'timeDate', 'e1071', 'foreach', 'ModelMetrics', 'pROC', 'recipes'\n",
      "\n",
      "\n",
      "Warning message:\n",
      "\"unable to access index for repository http://www.stats.ox.ac.uk/pub/RWin/bin/windows/contrib/4.4:\n",
      "  cannot open URL 'http://www.stats.ox.ac.uk/pub/RWin/bin/windows/contrib/4.4/PACKAGES'\"\n"
     ]
    },
    {
     "name": "stdout",
     "output_type": "stream",
     "text": [
      "package 'listenv' successfully unpacked and MD5 sums checked\n",
      "package 'parallelly' successfully unpacked and MD5 sums checked\n",
      "package 'future' successfully unpacked and MD5 sums checked\n",
      "package 'globals' successfully unpacked and MD5 sums checked\n",
      "package 'shape' successfully unpacked and MD5 sums checked\n",
      "package 'future.apply' successfully unpacked and MD5 sums checked\n",
      "package 'numDeriv' successfully unpacked and MD5 sums checked\n",
      "package 'progressr' successfully unpacked and MD5 sums checked\n",
      "package 'SQUAREM' successfully unpacked and MD5 sums checked\n",
      "package 'diagram' successfully unpacked and MD5 sums checked\n",
      "package 'lava' successfully unpacked and MD5 sums checked\n",
      "package 'prodlim' successfully unpacked and MD5 sums checked\n",
      "package 'timechange' successfully unpacked and MD5 sums checked\n",
      "package 'proxy' successfully unpacked and MD5 sums checked\n",
      "package 'iterators' successfully unpacked and MD5 sums checked\n",
      "package 'clock' successfully unpacked and MD5 sums checked\n",
      "package 'gower' successfully unpacked and MD5 sums checked\n",
      "package 'hardhat' successfully unpacked and MD5 sums checked\n",
      "package 'ipred' successfully unpacked and MD5 sums checked\n",
      "package 'lubridate' successfully unpacked and MD5 sums checked\n",
      "package 'purrr' successfully unpacked and MD5 sums checked\n",
      "package 'sparsevctrs' successfully unpacked and MD5 sums checked\n",
      "package 'tidyr' successfully unpacked and MD5 sums checked\n",
      "package 'timeDate' successfully unpacked and MD5 sums checked\n",
      "package 'e1071' successfully unpacked and MD5 sums checked\n",
      "package 'foreach' successfully unpacked and MD5 sums checked\n",
      "package 'ModelMetrics' successfully unpacked and MD5 sums checked\n",
      "package 'pROC' successfully unpacked and MD5 sums checked\n",
      "package 'recipes' successfully unpacked and MD5 sums checked\n",
      "package 'caret' successfully unpacked and MD5 sums checked\n",
      "\n",
      "The downloaded binary packages are in\n",
      "\tC:\\Users\\crisp\\AppData\\Local\\Temp\\RtmpQ7qblA\\downloaded_packages\n"
     ]
    },
    {
     "name": "stderr",
     "output_type": "stream",
     "text": [
      "\n",
      "caret installed\n",
      "\n",
      "Warning message:\n",
      "\"package 'caret' was built under R version 4.4.3\"\n",
      "Installing package into 'C:/Users/crisp/AppData/Local/R/win-library/4.4'\n",
      "(as 'lib' is unspecified)\n",
      "\n",
      "Warning message:\n",
      "\"unable to access index for repository http://www.stats.ox.ac.uk/pub/RWin/bin/windows/contrib/4.4:\n",
      "  cannot open URL 'http://www.stats.ox.ac.uk/pub/RWin/bin/windows/contrib/4.4/PACKAGES'\"\n"
     ]
    },
    {
     "name": "stdout",
     "output_type": "stream",
     "text": [
      "package 'lars' successfully unpacked and MD5 sums checked\n",
      "\n",
      "The downloaded binary packages are in\n",
      "\tC:\\Users\\crisp\\AppData\\Local\\Temp\\RtmpQ7qblA\\downloaded_packages\n"
     ]
    },
    {
     "name": "stderr",
     "output_type": "stream",
     "text": [
      "\n",
      "lars installed\n",
      "\n",
      "Warning message in pacman::p_load(pcman, caret, lars):\n",
      "\"Failed to install/load:\n",
      "pcman\"\n"
     ]
    }
   ],
   "source": [
    "pacman::p_load(pcman, caret, lars)"
   ]
  },
  {
   "cell_type": "markdown",
   "id": "2c46a651-a62b-4302-b7a2-c8a6bb38df24",
   "metadata": {},
   "source": [
    "So we want to see the relationship between `hp` and the rest of the variables that are in the `mtcars` dataset. So first we need to seperate features and labels."
   ]
  },
  {
   "cell_type": "code",
   "execution_count": 206,
   "id": "6fe3c035-41ac-49b6-848a-22375902dde0",
   "metadata": {},
   "outputs": [],
   "source": [
    "X <- as.matrix(mtcars[, -4])\n",
    "y <- mtcars[,4]"
   ]
  },
  {
   "cell_type": "code",
   "execution_count": 204,
   "id": "fa3c2e75-8140-4b1a-80a0-8cd0c0daa4fc",
   "metadata": {},
   "outputs": [
    {
     "data": {
      "text/html": [
       "<table class=\"dataframe\">\n",
       "<caption>A matrix: 32 × 10 of type dbl</caption>\n",
       "<thead>\n",
       "\t<tr><th></th><th scope=col>mpg</th><th scope=col>cyl</th><th scope=col>disp</th><th scope=col>drat</th><th scope=col>wt</th><th scope=col>qsec</th><th scope=col>vs</th><th scope=col>am</th><th scope=col>gear</th><th scope=col>carb</th></tr>\n",
       "</thead>\n",
       "<tbody>\n",
       "\t<tr><th scope=row>Mazda RX4</th><td>21.0</td><td>6</td><td>160.0</td><td>3.90</td><td>2.620</td><td>16.46</td><td>0</td><td>1</td><td>4</td><td>4</td></tr>\n",
       "\t<tr><th scope=row>Mazda RX4 Wag</th><td>21.0</td><td>6</td><td>160.0</td><td>3.90</td><td>2.875</td><td>17.02</td><td>0</td><td>1</td><td>4</td><td>4</td></tr>\n",
       "\t<tr><th scope=row>Datsun 710</th><td>22.8</td><td>4</td><td>108.0</td><td>3.85</td><td>2.320</td><td>18.61</td><td>1</td><td>1</td><td>4</td><td>1</td></tr>\n",
       "\t<tr><th scope=row>Hornet 4 Drive</th><td>21.4</td><td>6</td><td>258.0</td><td>3.08</td><td>3.215</td><td>19.44</td><td>1</td><td>0</td><td>3</td><td>1</td></tr>\n",
       "\t<tr><th scope=row>Hornet Sportabout</th><td>18.7</td><td>8</td><td>360.0</td><td>3.15</td><td>3.440</td><td>17.02</td><td>0</td><td>0</td><td>3</td><td>2</td></tr>\n",
       "\t<tr><th scope=row>Valiant</th><td>18.1</td><td>6</td><td>225.0</td><td>2.76</td><td>3.460</td><td>20.22</td><td>1</td><td>0</td><td>3</td><td>1</td></tr>\n",
       "\t<tr><th scope=row>Duster 360</th><td>14.3</td><td>8</td><td>360.0</td><td>3.21</td><td>3.570</td><td>15.84</td><td>0</td><td>0</td><td>3</td><td>4</td></tr>\n",
       "\t<tr><th scope=row>Merc 240D</th><td>24.4</td><td>4</td><td>146.7</td><td>3.69</td><td>3.190</td><td>20.00</td><td>1</td><td>0</td><td>4</td><td>2</td></tr>\n",
       "\t<tr><th scope=row>Merc 230</th><td>22.8</td><td>4</td><td>140.8</td><td>3.92</td><td>3.150</td><td>22.90</td><td>1</td><td>0</td><td>4</td><td>2</td></tr>\n",
       "\t<tr><th scope=row>Merc 280</th><td>19.2</td><td>6</td><td>167.6</td><td>3.92</td><td>3.440</td><td>18.30</td><td>1</td><td>0</td><td>4</td><td>4</td></tr>\n",
       "\t<tr><th scope=row>Merc 280C</th><td>17.8</td><td>6</td><td>167.6</td><td>3.92</td><td>3.440</td><td>18.90</td><td>1</td><td>0</td><td>4</td><td>4</td></tr>\n",
       "\t<tr><th scope=row>Merc 450SE</th><td>16.4</td><td>8</td><td>275.8</td><td>3.07</td><td>4.070</td><td>17.40</td><td>0</td><td>0</td><td>3</td><td>3</td></tr>\n",
       "\t<tr><th scope=row>Merc 450SL</th><td>17.3</td><td>8</td><td>275.8</td><td>3.07</td><td>3.730</td><td>17.60</td><td>0</td><td>0</td><td>3</td><td>3</td></tr>\n",
       "\t<tr><th scope=row>Merc 450SLC</th><td>15.2</td><td>8</td><td>275.8</td><td>3.07</td><td>3.780</td><td>18.00</td><td>0</td><td>0</td><td>3</td><td>3</td></tr>\n",
       "\t<tr><th scope=row>Cadillac Fleetwood</th><td>10.4</td><td>8</td><td>472.0</td><td>2.93</td><td>5.250</td><td>17.98</td><td>0</td><td>0</td><td>3</td><td>4</td></tr>\n",
       "\t<tr><th scope=row>Lincoln Continental</th><td>10.4</td><td>8</td><td>460.0</td><td>3.00</td><td>5.424</td><td>17.82</td><td>0</td><td>0</td><td>3</td><td>4</td></tr>\n",
       "\t<tr><th scope=row>Chrysler Imperial</th><td>14.7</td><td>8</td><td>440.0</td><td>3.23</td><td>5.345</td><td>17.42</td><td>0</td><td>0</td><td>3</td><td>4</td></tr>\n",
       "\t<tr><th scope=row>Fiat 128</th><td>32.4</td><td>4</td><td> 78.7</td><td>4.08</td><td>2.200</td><td>19.47</td><td>1</td><td>1</td><td>4</td><td>1</td></tr>\n",
       "\t<tr><th scope=row>Honda Civic</th><td>30.4</td><td>4</td><td> 75.7</td><td>4.93</td><td>1.615</td><td>18.52</td><td>1</td><td>1</td><td>4</td><td>2</td></tr>\n",
       "\t<tr><th scope=row>Toyota Corolla</th><td>33.9</td><td>4</td><td> 71.1</td><td>4.22</td><td>1.835</td><td>19.90</td><td>1</td><td>1</td><td>4</td><td>1</td></tr>\n",
       "\t<tr><th scope=row>Toyota Corona</th><td>21.5</td><td>4</td><td>120.1</td><td>3.70</td><td>2.465</td><td>20.01</td><td>1</td><td>0</td><td>3</td><td>1</td></tr>\n",
       "\t<tr><th scope=row>Dodge Challenger</th><td>15.5</td><td>8</td><td>318.0</td><td>2.76</td><td>3.520</td><td>16.87</td><td>0</td><td>0</td><td>3</td><td>2</td></tr>\n",
       "\t<tr><th scope=row>AMC Javelin</th><td>15.2</td><td>8</td><td>304.0</td><td>3.15</td><td>3.435</td><td>17.30</td><td>0</td><td>0</td><td>3</td><td>2</td></tr>\n",
       "\t<tr><th scope=row>Camaro Z28</th><td>13.3</td><td>8</td><td>350.0</td><td>3.73</td><td>3.840</td><td>15.41</td><td>0</td><td>0</td><td>3</td><td>4</td></tr>\n",
       "\t<tr><th scope=row>Pontiac Firebird</th><td>19.2</td><td>8</td><td>400.0</td><td>3.08</td><td>3.845</td><td>17.05</td><td>0</td><td>0</td><td>3</td><td>2</td></tr>\n",
       "\t<tr><th scope=row>Fiat X1-9</th><td>27.3</td><td>4</td><td> 79.0</td><td>4.08</td><td>1.935</td><td>18.90</td><td>1</td><td>1</td><td>4</td><td>1</td></tr>\n",
       "\t<tr><th scope=row>Porsche 914-2</th><td>26.0</td><td>4</td><td>120.3</td><td>4.43</td><td>2.140</td><td>16.70</td><td>0</td><td>1</td><td>5</td><td>2</td></tr>\n",
       "\t<tr><th scope=row>Lotus Europa</th><td>30.4</td><td>4</td><td> 95.1</td><td>3.77</td><td>1.513</td><td>16.90</td><td>1</td><td>1</td><td>5</td><td>2</td></tr>\n",
       "\t<tr><th scope=row>Ford Pantera L</th><td>15.8</td><td>8</td><td>351.0</td><td>4.22</td><td>3.170</td><td>14.50</td><td>0</td><td>1</td><td>5</td><td>4</td></tr>\n",
       "\t<tr><th scope=row>Ferrari Dino</th><td>19.7</td><td>6</td><td>145.0</td><td>3.62</td><td>2.770</td><td>15.50</td><td>0</td><td>1</td><td>5</td><td>6</td></tr>\n",
       "\t<tr><th scope=row>Maserati Bora</th><td>15.0</td><td>8</td><td>301.0</td><td>3.54</td><td>3.570</td><td>14.60</td><td>0</td><td>1</td><td>5</td><td>8</td></tr>\n",
       "\t<tr><th scope=row>Volvo 142E</th><td>21.4</td><td>4</td><td>121.0</td><td>4.11</td><td>2.780</td><td>18.60</td><td>1</td><td>1</td><td>4</td><td>2</td></tr>\n",
       "</tbody>\n",
       "</table>\n"
      ],
      "text/latex": [
       "A matrix: 32 × 10 of type dbl\n",
       "\\begin{tabular}{r|llllllllll}\n",
       "  & mpg & cyl & disp & drat & wt & qsec & vs & am & gear & carb\\\\\n",
       "\\hline\n",
       "\tMazda RX4 & 21.0 & 6 & 160.0 & 3.90 & 2.620 & 16.46 & 0 & 1 & 4 & 4\\\\\n",
       "\tMazda RX4 Wag & 21.0 & 6 & 160.0 & 3.90 & 2.875 & 17.02 & 0 & 1 & 4 & 4\\\\\n",
       "\tDatsun 710 & 22.8 & 4 & 108.0 & 3.85 & 2.320 & 18.61 & 1 & 1 & 4 & 1\\\\\n",
       "\tHornet 4 Drive & 21.4 & 6 & 258.0 & 3.08 & 3.215 & 19.44 & 1 & 0 & 3 & 1\\\\\n",
       "\tHornet Sportabout & 18.7 & 8 & 360.0 & 3.15 & 3.440 & 17.02 & 0 & 0 & 3 & 2\\\\\n",
       "\tValiant & 18.1 & 6 & 225.0 & 2.76 & 3.460 & 20.22 & 1 & 0 & 3 & 1\\\\\n",
       "\tDuster 360 & 14.3 & 8 & 360.0 & 3.21 & 3.570 & 15.84 & 0 & 0 & 3 & 4\\\\\n",
       "\tMerc 240D & 24.4 & 4 & 146.7 & 3.69 & 3.190 & 20.00 & 1 & 0 & 4 & 2\\\\\n",
       "\tMerc 230 & 22.8 & 4 & 140.8 & 3.92 & 3.150 & 22.90 & 1 & 0 & 4 & 2\\\\\n",
       "\tMerc 280 & 19.2 & 6 & 167.6 & 3.92 & 3.440 & 18.30 & 1 & 0 & 4 & 4\\\\\n",
       "\tMerc 280C & 17.8 & 6 & 167.6 & 3.92 & 3.440 & 18.90 & 1 & 0 & 4 & 4\\\\\n",
       "\tMerc 450SE & 16.4 & 8 & 275.8 & 3.07 & 4.070 & 17.40 & 0 & 0 & 3 & 3\\\\\n",
       "\tMerc 450SL & 17.3 & 8 & 275.8 & 3.07 & 3.730 & 17.60 & 0 & 0 & 3 & 3\\\\\n",
       "\tMerc 450SLC & 15.2 & 8 & 275.8 & 3.07 & 3.780 & 18.00 & 0 & 0 & 3 & 3\\\\\n",
       "\tCadillac Fleetwood & 10.4 & 8 & 472.0 & 2.93 & 5.250 & 17.98 & 0 & 0 & 3 & 4\\\\\n",
       "\tLincoln Continental & 10.4 & 8 & 460.0 & 3.00 & 5.424 & 17.82 & 0 & 0 & 3 & 4\\\\\n",
       "\tChrysler Imperial & 14.7 & 8 & 440.0 & 3.23 & 5.345 & 17.42 & 0 & 0 & 3 & 4\\\\\n",
       "\tFiat 128 & 32.4 & 4 &  78.7 & 4.08 & 2.200 & 19.47 & 1 & 1 & 4 & 1\\\\\n",
       "\tHonda Civic & 30.4 & 4 &  75.7 & 4.93 & 1.615 & 18.52 & 1 & 1 & 4 & 2\\\\\n",
       "\tToyota Corolla & 33.9 & 4 &  71.1 & 4.22 & 1.835 & 19.90 & 1 & 1 & 4 & 1\\\\\n",
       "\tToyota Corona & 21.5 & 4 & 120.1 & 3.70 & 2.465 & 20.01 & 1 & 0 & 3 & 1\\\\\n",
       "\tDodge Challenger & 15.5 & 8 & 318.0 & 2.76 & 3.520 & 16.87 & 0 & 0 & 3 & 2\\\\\n",
       "\tAMC Javelin & 15.2 & 8 & 304.0 & 3.15 & 3.435 & 17.30 & 0 & 0 & 3 & 2\\\\\n",
       "\tCamaro Z28 & 13.3 & 8 & 350.0 & 3.73 & 3.840 & 15.41 & 0 & 0 & 3 & 4\\\\\n",
       "\tPontiac Firebird & 19.2 & 8 & 400.0 & 3.08 & 3.845 & 17.05 & 0 & 0 & 3 & 2\\\\\n",
       "\tFiat X1-9 & 27.3 & 4 &  79.0 & 4.08 & 1.935 & 18.90 & 1 & 1 & 4 & 1\\\\\n",
       "\tPorsche 914-2 & 26.0 & 4 & 120.3 & 4.43 & 2.140 & 16.70 & 0 & 1 & 5 & 2\\\\\n",
       "\tLotus Europa & 30.4 & 4 &  95.1 & 3.77 & 1.513 & 16.90 & 1 & 1 & 5 & 2\\\\\n",
       "\tFord Pantera L & 15.8 & 8 & 351.0 & 4.22 & 3.170 & 14.50 & 0 & 1 & 5 & 4\\\\\n",
       "\tFerrari Dino & 19.7 & 6 & 145.0 & 3.62 & 2.770 & 15.50 & 0 & 1 & 5 & 6\\\\\n",
       "\tMaserati Bora & 15.0 & 8 & 301.0 & 3.54 & 3.570 & 14.60 & 0 & 1 & 5 & 8\\\\\n",
       "\tVolvo 142E & 21.4 & 4 & 121.0 & 4.11 & 2.780 & 18.60 & 1 & 1 & 4 & 2\\\\\n",
       "\\end{tabular}\n"
      ],
      "text/markdown": [
       "\n",
       "A matrix: 32 × 10 of type dbl\n",
       "\n",
       "| <!--/--> | mpg | cyl | disp | drat | wt | qsec | vs | am | gear | carb |\n",
       "|---|---|---|---|---|---|---|---|---|---|---|\n",
       "| Mazda RX4 | 21.0 | 6 | 160.0 | 3.90 | 2.620 | 16.46 | 0 | 1 | 4 | 4 |\n",
       "| Mazda RX4 Wag | 21.0 | 6 | 160.0 | 3.90 | 2.875 | 17.02 | 0 | 1 | 4 | 4 |\n",
       "| Datsun 710 | 22.8 | 4 | 108.0 | 3.85 | 2.320 | 18.61 | 1 | 1 | 4 | 1 |\n",
       "| Hornet 4 Drive | 21.4 | 6 | 258.0 | 3.08 | 3.215 | 19.44 | 1 | 0 | 3 | 1 |\n",
       "| Hornet Sportabout | 18.7 | 8 | 360.0 | 3.15 | 3.440 | 17.02 | 0 | 0 | 3 | 2 |\n",
       "| Valiant | 18.1 | 6 | 225.0 | 2.76 | 3.460 | 20.22 | 1 | 0 | 3 | 1 |\n",
       "| Duster 360 | 14.3 | 8 | 360.0 | 3.21 | 3.570 | 15.84 | 0 | 0 | 3 | 4 |\n",
       "| Merc 240D | 24.4 | 4 | 146.7 | 3.69 | 3.190 | 20.00 | 1 | 0 | 4 | 2 |\n",
       "| Merc 230 | 22.8 | 4 | 140.8 | 3.92 | 3.150 | 22.90 | 1 | 0 | 4 | 2 |\n",
       "| Merc 280 | 19.2 | 6 | 167.6 | 3.92 | 3.440 | 18.30 | 1 | 0 | 4 | 4 |\n",
       "| Merc 280C | 17.8 | 6 | 167.6 | 3.92 | 3.440 | 18.90 | 1 | 0 | 4 | 4 |\n",
       "| Merc 450SE | 16.4 | 8 | 275.8 | 3.07 | 4.070 | 17.40 | 0 | 0 | 3 | 3 |\n",
       "| Merc 450SL | 17.3 | 8 | 275.8 | 3.07 | 3.730 | 17.60 | 0 | 0 | 3 | 3 |\n",
       "| Merc 450SLC | 15.2 | 8 | 275.8 | 3.07 | 3.780 | 18.00 | 0 | 0 | 3 | 3 |\n",
       "| Cadillac Fleetwood | 10.4 | 8 | 472.0 | 2.93 | 5.250 | 17.98 | 0 | 0 | 3 | 4 |\n",
       "| Lincoln Continental | 10.4 | 8 | 460.0 | 3.00 | 5.424 | 17.82 | 0 | 0 | 3 | 4 |\n",
       "| Chrysler Imperial | 14.7 | 8 | 440.0 | 3.23 | 5.345 | 17.42 | 0 | 0 | 3 | 4 |\n",
       "| Fiat 128 | 32.4 | 4 |  78.7 | 4.08 | 2.200 | 19.47 | 1 | 1 | 4 | 1 |\n",
       "| Honda Civic | 30.4 | 4 |  75.7 | 4.93 | 1.615 | 18.52 | 1 | 1 | 4 | 2 |\n",
       "| Toyota Corolla | 33.9 | 4 |  71.1 | 4.22 | 1.835 | 19.90 | 1 | 1 | 4 | 1 |\n",
       "| Toyota Corona | 21.5 | 4 | 120.1 | 3.70 | 2.465 | 20.01 | 1 | 0 | 3 | 1 |\n",
       "| Dodge Challenger | 15.5 | 8 | 318.0 | 2.76 | 3.520 | 16.87 | 0 | 0 | 3 | 2 |\n",
       "| AMC Javelin | 15.2 | 8 | 304.0 | 3.15 | 3.435 | 17.30 | 0 | 0 | 3 | 2 |\n",
       "| Camaro Z28 | 13.3 | 8 | 350.0 | 3.73 | 3.840 | 15.41 | 0 | 0 | 3 | 4 |\n",
       "| Pontiac Firebird | 19.2 | 8 | 400.0 | 3.08 | 3.845 | 17.05 | 0 | 0 | 3 | 2 |\n",
       "| Fiat X1-9 | 27.3 | 4 |  79.0 | 4.08 | 1.935 | 18.90 | 1 | 1 | 4 | 1 |\n",
       "| Porsche 914-2 | 26.0 | 4 | 120.3 | 4.43 | 2.140 | 16.70 | 0 | 1 | 5 | 2 |\n",
       "| Lotus Europa | 30.4 | 4 |  95.1 | 3.77 | 1.513 | 16.90 | 1 | 1 | 5 | 2 |\n",
       "| Ford Pantera L | 15.8 | 8 | 351.0 | 4.22 | 3.170 | 14.50 | 0 | 1 | 5 | 4 |\n",
       "| Ferrari Dino | 19.7 | 6 | 145.0 | 3.62 | 2.770 | 15.50 | 0 | 1 | 5 | 6 |\n",
       "| Maserati Bora | 15.0 | 8 | 301.0 | 3.54 | 3.570 | 14.60 | 0 | 1 | 5 | 8 |\n",
       "| Volvo 142E | 21.4 | 4 | 121.0 | 4.11 | 2.780 | 18.60 | 1 | 1 | 4 | 2 |\n",
       "\n"
      ],
      "text/plain": [
       "                    mpg  cyl disp  drat wt    qsec  vs am gear carb\n",
       "Mazda RX4           21.0 6   160.0 3.90 2.620 16.46 0  1  4    4   \n",
       "Mazda RX4 Wag       21.0 6   160.0 3.90 2.875 17.02 0  1  4    4   \n",
       "Datsun 710          22.8 4   108.0 3.85 2.320 18.61 1  1  4    1   \n",
       "Hornet 4 Drive      21.4 6   258.0 3.08 3.215 19.44 1  0  3    1   \n",
       "Hornet Sportabout   18.7 8   360.0 3.15 3.440 17.02 0  0  3    2   \n",
       "Valiant             18.1 6   225.0 2.76 3.460 20.22 1  0  3    1   \n",
       "Duster 360          14.3 8   360.0 3.21 3.570 15.84 0  0  3    4   \n",
       "Merc 240D           24.4 4   146.7 3.69 3.190 20.00 1  0  4    2   \n",
       "Merc 230            22.8 4   140.8 3.92 3.150 22.90 1  0  4    2   \n",
       "Merc 280            19.2 6   167.6 3.92 3.440 18.30 1  0  4    4   \n",
       "Merc 280C           17.8 6   167.6 3.92 3.440 18.90 1  0  4    4   \n",
       "Merc 450SE          16.4 8   275.8 3.07 4.070 17.40 0  0  3    3   \n",
       "Merc 450SL          17.3 8   275.8 3.07 3.730 17.60 0  0  3    3   \n",
       "Merc 450SLC         15.2 8   275.8 3.07 3.780 18.00 0  0  3    3   \n",
       "Cadillac Fleetwood  10.4 8   472.0 2.93 5.250 17.98 0  0  3    4   \n",
       "Lincoln Continental 10.4 8   460.0 3.00 5.424 17.82 0  0  3    4   \n",
       "Chrysler Imperial   14.7 8   440.0 3.23 5.345 17.42 0  0  3    4   \n",
       "Fiat 128            32.4 4    78.7 4.08 2.200 19.47 1  1  4    1   \n",
       "Honda Civic         30.4 4    75.7 4.93 1.615 18.52 1  1  4    2   \n",
       "Toyota Corolla      33.9 4    71.1 4.22 1.835 19.90 1  1  4    1   \n",
       "Toyota Corona       21.5 4   120.1 3.70 2.465 20.01 1  0  3    1   \n",
       "Dodge Challenger    15.5 8   318.0 2.76 3.520 16.87 0  0  3    2   \n",
       "AMC Javelin         15.2 8   304.0 3.15 3.435 17.30 0  0  3    2   \n",
       "Camaro Z28          13.3 8   350.0 3.73 3.840 15.41 0  0  3    4   \n",
       "Pontiac Firebird    19.2 8   400.0 3.08 3.845 17.05 0  0  3    2   \n",
       "Fiat X1-9           27.3 4    79.0 4.08 1.935 18.90 1  1  4    1   \n",
       "Porsche 914-2       26.0 4   120.3 4.43 2.140 16.70 0  1  5    2   \n",
       "Lotus Europa        30.4 4    95.1 3.77 1.513 16.90 1  1  5    2   \n",
       "Ford Pantera L      15.8 8   351.0 4.22 3.170 14.50 0  1  5    4   \n",
       "Ferrari Dino        19.7 6   145.0 3.62 2.770 15.50 0  1  5    6   \n",
       "Maserati Bora       15.0 8   301.0 3.54 3.570 14.60 0  1  5    8   \n",
       "Volvo 142E          21.4 4   121.0 4.11 2.780 18.60 1  1  4    2   "
      ]
     },
     "metadata": {},
     "output_type": "display_data"
    }
   ],
   "source": [
    "X"
   ]
  },
  {
   "cell_type": "code",
   "execution_count": 208,
   "id": "81fcedd5-f1af-4948-8d19-c7ab5e2f7378",
   "metadata": {},
   "outputs": [
    {
     "data": {
      "text/html": [
       "<style>\n",
       ".list-inline {list-style: none; margin:0; padding: 0}\n",
       ".list-inline>li {display: inline-block}\n",
       ".list-inline>li:not(:last-child)::after {content: \"\\00b7\"; padding: 0 .5ex}\n",
       "</style>\n",
       "<ol class=list-inline><li>110</li><li>110</li><li>93</li><li>110</li><li>175</li><li>105</li><li>245</li><li>62</li><li>95</li><li>123</li><li>123</li><li>180</li><li>180</li><li>180</li><li>205</li><li>215</li><li>230</li><li>66</li><li>52</li><li>65</li><li>97</li><li>150</li><li>150</li><li>245</li><li>175</li><li>66</li><li>91</li><li>113</li><li>264</li><li>175</li><li>335</li><li>109</li></ol>\n"
      ],
      "text/latex": [
       "\\begin{enumerate*}\n",
       "\\item 110\n",
       "\\item 110\n",
       "\\item 93\n",
       "\\item 110\n",
       "\\item 175\n",
       "\\item 105\n",
       "\\item 245\n",
       "\\item 62\n",
       "\\item 95\n",
       "\\item 123\n",
       "\\item 123\n",
       "\\item 180\n",
       "\\item 180\n",
       "\\item 180\n",
       "\\item 205\n",
       "\\item 215\n",
       "\\item 230\n",
       "\\item 66\n",
       "\\item 52\n",
       "\\item 65\n",
       "\\item 97\n",
       "\\item 150\n",
       "\\item 150\n",
       "\\item 245\n",
       "\\item 175\n",
       "\\item 66\n",
       "\\item 91\n",
       "\\item 113\n",
       "\\item 264\n",
       "\\item 175\n",
       "\\item 335\n",
       "\\item 109\n",
       "\\end{enumerate*}\n"
      ],
      "text/markdown": [
       "1. 110\n",
       "2. 110\n",
       "3. 93\n",
       "4. 110\n",
       "5. 175\n",
       "6. 105\n",
       "7. 245\n",
       "8. 62\n",
       "9. 95\n",
       "10. 123\n",
       "11. 123\n",
       "12. 180\n",
       "13. 180\n",
       "14. 180\n",
       "15. 205\n",
       "16. 215\n",
       "17. 230\n",
       "18. 66\n",
       "19. 52\n",
       "20. 65\n",
       "21. 97\n",
       "22. 150\n",
       "23. 150\n",
       "24. 245\n",
       "25. 175\n",
       "26. 66\n",
       "27. 91\n",
       "28. 113\n",
       "29. 264\n",
       "30. 175\n",
       "31. 335\n",
       "32. 109\n",
       "\n",
       "\n"
      ],
      "text/plain": [
       " [1] 110 110  93 110 175 105 245  62  95 123 123 180 180 180 205 215 230  66  52\n",
       "[20]  65  97 150 150 245 175  66  91 113 264 175 335 109"
      ]
     },
     "metadata": {},
     "output_type": "display_data"
    }
   ],
   "source": [
    "y"
   ]
  },
  {
   "cell_type": "markdown",
   "id": "6974bbb0-d4c0-4f42-979d-2de67a30d858",
   "metadata": {},
   "source": [
    "Next we are going to create a regression model using the `lm` function as follows."
   ]
  },
  {
   "cell_type": "code",
   "execution_count": 213,
   "id": "25638e73-1977-4ed1-9027-4247084f267f",
   "metadata": {},
   "outputs": [
    {
     "data": {
      "text/plain": [
       "Response mpg :\n",
       "\n",
       "Call:\n",
       "lm(formula = mpg ~ y)\n",
       "\n",
       "Residuals:\n",
       "    Min      1Q  Median      3Q     Max \n",
       "-5.7121 -2.1122 -0.8854  1.5819  8.2360 \n",
       "\n",
       "Coefficients:\n",
       "            Estimate Std. Error t value Pr(>|t|)    \n",
       "(Intercept) 30.09886    1.63392  18.421  < 2e-16 ***\n",
       "y           -0.06823    0.01012  -6.742 1.79e-07 ***\n",
       "---\n",
       "Signif. codes:  0 '***' 0.001 '**' 0.01 '*' 0.05 '.' 0.1 ' ' 1\n",
       "\n",
       "Residual standard error: 3.863 on 30 degrees of freedom\n",
       "Multiple R-squared:  0.6024,\tAdjusted R-squared:  0.5892 \n",
       "F-statistic: 45.46 on 1 and 30 DF,  p-value: 1.788e-07\n",
       "\n",
       "\n",
       "Response cyl :\n",
       "\n",
       "Call:\n",
       "lm(formula = cyl ~ y)\n",
       "\n",
       "Residuals:\n",
       "     Min       1Q   Median       3Q      Max \n",
       "-2.27078 -0.74879 -0.06417  0.63512  1.74067 \n",
       "\n",
       "Coefficients:\n",
       "            Estimate Std. Error t value Pr(>|t|)    \n",
       "(Intercept) 3.006795   0.425485   7.067 7.41e-08 ***\n",
       "y           0.021684   0.002635   8.229 3.48e-09 ***\n",
       "---\n",
       "Signif. codes:  0 '***' 0.001 '**' 0.01 '*' 0.05 '.' 0.1 ' ' 1\n",
       "\n",
       "Residual standard error: 1.006 on 30 degrees of freedom\n",
       "Multiple R-squared:  0.693,\tAdjusted R-squared:  0.6827 \n",
       "F-statistic: 67.71 on 1 and 30 DF,  p-value: 3.478e-09\n",
       "\n",
       "\n",
       "Response disp :\n",
       "\n",
       "Call:\n",
       "lm(formula = disp ~ y)\n",
       "\n",
       "Residuals:\n",
       "    Min      1Q  Median      3Q     Max \n",
       "-198.97  -37.39  -18.27   57.55  157.91 \n",
       "\n",
       "Coefficients:\n",
       "            Estimate Std. Error t value Pr(>|t|)    \n",
       "(Intercept)  20.9925    32.6066   0.644    0.525    \n",
       "y             1.4298     0.2019   7.080 7.14e-08 ***\n",
       "---\n",
       "Signif. codes:  0 '***' 0.001 '**' 0.01 '*' 0.05 '.' 0.1 ' ' 1\n",
       "\n",
       "Residual standard error: 77.09 on 30 degrees of freedom\n",
       "Multiple R-squared:  0.6256,\tAdjusted R-squared:  0.6131 \n",
       "F-statistic: 50.13 on 1 and 30 DF,  p-value: 7.143e-08\n",
       "\n",
       "\n",
       "Response drat :\n",
       "\n",
       "Call:\n",
       "lm(formula = drat ~ y)\n",
       "\n",
       "Residuals:\n",
       "     Min       1Q   Median       3Q      Max \n",
       "-0.98245 -0.40998  0.06055  0.24054  1.03398 \n",
       "\n",
       "Coefficients:\n",
       "             Estimate Std. Error t value Pr(>|t|)    \n",
       "(Intercept)  4.109909   0.205444   20.00  < 2e-16 ***\n",
       "y           -0.003500   0.001272   -2.75  0.00999 ** \n",
       "---\n",
       "Signif. codes:  0 '***' 0.001 '**' 0.01 '*' 0.05 '.' 0.1 ' ' 1\n",
       "\n",
       "Residual standard error: 0.4857 on 30 degrees of freedom\n",
       "Multiple R-squared:  0.2014,\tAdjusted R-squared:  0.1748 \n",
       "F-statistic: 7.565 on 1 and 30 DF,  p-value: 0.009989\n",
       "\n",
       "\n",
       "Response wt :\n",
       "\n",
       "Call:\n",
       "lm(formula = wt ~ y)\n",
       "\n",
       "Residuals:\n",
       "     Min       1Q   Median       3Q      Max \n",
       "-1.41757 -0.53122 -0.02038  0.42536  1.56455 \n",
       "\n",
       "Coefficients:\n",
       "            Estimate Std. Error t value Pr(>|t|)    \n",
       "(Intercept) 1.838247   0.316520   5.808 2.39e-06 ***\n",
       "y           0.009401   0.001960   4.796 4.15e-05 ***\n",
       "---\n",
       "Signif. codes:  0 '***' 0.001 '**' 0.01 '*' 0.05 '.' 0.1 ' ' 1\n",
       "\n",
       "Residual standard error: 0.7483 on 30 degrees of freedom\n",
       "Multiple R-squared:  0.4339,\tAdjusted R-squared:  0.4151 \n",
       "F-statistic:    23 on 1 and 30 DF,  p-value: 4.146e-05\n",
       "\n",
       "\n",
       "Response qsec :\n",
       "\n",
       "Call:\n",
       "lm(formula = qsec ~ y)\n",
       "\n",
       "Residuals:\n",
       "    Min      1Q  Median      3Q     Max \n",
       "-2.1766 -0.6975  0.0348  0.6520  4.0972 \n",
       "\n",
       "Coefficients:\n",
       "             Estimate Std. Error t value Pr(>|t|)    \n",
       "(Intercept) 20.556354   0.542424  37.897  < 2e-16 ***\n",
       "y           -0.018458   0.003359  -5.495 5.77e-06 ***\n",
       "---\n",
       "Signif. codes:  0 '***' 0.001 '**' 0.01 '*' 0.05 '.' 0.1 ' ' 1\n",
       "\n",
       "Residual standard error: 1.282 on 30 degrees of freedom\n",
       "Multiple R-squared:  0.5016,\tAdjusted R-squared:  0.485 \n",
       "F-statistic: 30.19 on 1 and 30 DF,  p-value: 5.766e-06\n",
       "\n",
       "\n",
       "Response vs :\n",
       "\n",
       "Call:\n",
       "lm(formula = vs ~ y)\n",
       "\n",
       "Residuals:\n",
       "     Min       1Q   Median       3Q      Max \n",
       "-0.73351 -0.26707  0.08509  0.29041  0.56349 \n",
       "\n",
       "Coefficients:\n",
       "              Estimate Std. Error t value Pr(>|t|)    \n",
       "(Intercept)  1.2172313  0.1496905   8.132 4.46e-09 ***\n",
       "y           -0.0053156  0.0009271  -5.734 2.94e-06 ***\n",
       "---\n",
       "Signif. codes:  0 '***' 0.001 '**' 0.01 '*' 0.05 '.' 0.1 ' ' 1\n",
       "\n",
       "Residual standard error: 0.3539 on 30 degrees of freedom\n",
       "Multiple R-squared:  0.5229,\tAdjusted R-squared:  0.507 \n",
       "F-statistic: 32.88 on 1 and 30 DF,  p-value: 2.941e-06\n",
       "\n",
       "\n",
       "Response am :\n",
       "\n",
       "Call:\n",
       "lm(formula = am ~ y)\n",
       "\n",
       "Residuals:\n",
       "    Min      1Q  Median      3Q     Max \n",
       "-0.5562 -0.4004 -0.2721  0.4961  0.9271 \n",
       "\n",
       "Coefficients:\n",
       "             Estimate Std. Error t value Pr(>|t|)   \n",
       "(Intercept)  0.665888   0.208106   3.200  0.00324 **\n",
       "y           -0.001770   0.001289  -1.373  0.17983   \n",
       "---\n",
       "Signif. codes:  0 '***' 0.001 '**' 0.01 '*' 0.05 '.' 0.1 ' ' 1\n",
       "\n",
       "Residual standard error: 0.492 on 30 degrees of freedom\n",
       "Multiple R-squared:  0.05915,\tAdjusted R-squared:  0.02779 \n",
       "F-statistic: 1.886 on 1 and 30 DF,  p-value: 0.1798\n",
       "\n",
       "\n",
       "Response gear :\n",
       "\n",
       "Call:\n",
       "lm(formula = gear ~ y)\n",
       "\n",
       "Residuals:\n",
       "    Min      1Q  Median      3Q     Max \n",
       "-0.7547 -0.6424  0.1912  0.2629  1.5672 \n",
       "\n",
       "Coefficients:\n",
       "             Estimate Std. Error t value Pr(>|t|)    \n",
       "(Intercept)  3.885924   0.314712  12.348 2.72e-13 ***\n",
       "y           -0.001353   0.001949  -0.694    0.493    \n",
       "---\n",
       "Signif. codes:  0 '***' 0.001 '**' 0.01 '*' 0.05 '.' 0.1 ' ' 1\n",
       "\n",
       "Residual standard error: 0.7441 on 30 degrees of freedom\n",
       "Multiple R-squared:  0.0158,\tAdjusted R-squared:  -0.01701 \n",
       "F-statistic: 0.4817 on 1 and 30 DF,  p-value: 0.493\n",
       "\n",
       "\n",
       "Response carb :\n",
       "\n",
       "Call:\n",
       "lm(formula = carb ~ y)\n",
       "\n",
       "Residuals:\n",
       "    Min      1Q  Median      3Q     Max \n",
       "-1.3126 -0.8659 -0.3784  0.2992  2.6874 \n",
       "\n",
       "Coefficients:\n",
       "            Estimate Std. Error t value Pr(>|t|)    \n",
       "(Intercept) 0.221406   0.459500   0.482    0.633    \n",
       "y           0.017664   0.002846   6.207 7.83e-07 ***\n",
       "---\n",
       "Signif. codes:  0 '***' 0.001 '**' 0.01 '*' 0.05 '.' 0.1 ' ' 1\n",
       "\n",
       "Residual standard error: 1.086 on 30 degrees of freedom\n",
       "Multiple R-squared:  0.5622,\tAdjusted R-squared:  0.5476 \n",
       "F-statistic: 38.53 on 1 and 30 DF,  p-value: 7.828e-07\n",
       "\n"
      ]
     },
     "metadata": {},
     "output_type": "display_data"
    }
   ],
   "source": [
    "reg <- lm(X~y)\n",
    "summary(reg)"
   ]
  },
  {
   "cell_type": "markdown",
   "id": "5646627a-5fa8-45a4-bb06-06c20512de8c",
   "metadata": {},
   "source": [
    "Next we are going to visualize the residuals using the `resid` function as follows:"
   ]
  },
  {
   "cell_type": "code",
   "execution_count": 218,
   "id": "cf307be0-9592-4c23-b74d-aa1c33d97315",
   "metadata": {},
   "outputs": [
    {
     "data": {
      "text/html": [
       "<table class=\"dataframe\">\n",
       "<caption>A matrix: 32 × 10 of type dbl</caption>\n",
       "<thead>\n",
       "\t<tr><th></th><th scope=col>mpg</th><th scope=col>cyl</th><th scope=col>disp</th><th scope=col>drat</th><th scope=col>wt</th><th scope=col>qsec</th><th scope=col>vs</th><th scope=col>am</th><th scope=col>gear</th><th scope=col>carb</th></tr>\n",
       "</thead>\n",
       "<tbody>\n",
       "\t<tr><th scope=row>Mazda RX4</th><td>-1.59374995</td><td> 0.608014994</td><td> -18.267187</td><td> 0.17504628</td><td>-0.252352286</td><td>-2.06593942</td><td>-0.632515879</td><td> 0.5288129</td><td> 0.2628728</td><td> 1.83554938</td></tr>\n",
       "\t<tr><th scope=row>Mazda RX4 Wag</th><td>-1.59374995</td><td> 0.608014994</td><td> -18.267187</td><td> 0.17504628</td><td> 0.002647714</td><td>-1.50593942</td><td>-0.632515879</td><td> 0.5288129</td><td> 0.2628728</td><td> 1.83554938</td></tr>\n",
       "\t<tr><th scope=row>Datsun 710</th><td>-0.95363068</td><td>-1.023364771</td><td> -45.961096</td><td> 0.06555324</td><td>-0.392535968</td><td>-0.22973076</td><td> 0.277119011</td><td> 0.4987228</td><td> 0.2398768</td><td>-0.86416198</td></tr>\n",
       "\t<tr><th scope=row>Hornet 4 Drive</th><td>-1.19374995</td><td> 0.608014994</td><td>  79.732813</td><td>-0.64495372</td><td> 0.342647714</td><td> 0.91406058</td><td> 0.367484121</td><td>-0.4711871</td><td>-0.7371272</td><td>-1.16445062</td></tr>\n",
       "\t<tr><th scope=row>Hornet Sportabout</th><td> 0.54108812</td><td> 1.198584681</td><td>  88.797761</td><td>-0.34748035</td><td>-0.043414676</td><td>-0.30614897</td><td>-0.287002226</td><td>-0.3561367</td><td>-0.6492016</td><td>-1.31261306</td></tr>\n",
       "\t<tr><th scope=row>Valiant</th><td>-4.83489134</td><td> 0.716432710</td><td>  53.881663</td><td>-0.98245168</td><td> 0.634652513</td><td> 1.60176901</td><td> 0.340906147</td><td>-0.4800371</td><td>-0.7438908</td><td>-1.07613043</td></tr>\n",
       "\t<tr><th scope=row>Duster 360</th><td> 0.91706759</td><td>-0.319263348</td><td> -11.286141</td><td>-0.04250902</td><td>-0.571481865</td><td>-0.19406695</td><td> 0.085089401</td><td>-0.2322362</td><td>-0.5545125</td><td>-0.54909570</td></tr>\n",
       "\t<tr><th scope=row>Merc 240D</th><td>-1.46870730</td><td>-0.351174929</td><td>  37.061775</td><td>-0.20293406</td><td> 0.768893787</td><td> 0.58806148</td><td> 0.112335576</td><td>-0.5561474</td><td> 0.1979431</td><td> 0.68342318</td></tr>\n",
       "\t<tr><th scope=row>Merc 230</th><td>-0.81717412</td><td>-1.066731857</td><td> -16.020636</td><td> 0.14255242</td><td> 0.418662112</td><td> 4.09718587</td><td> 0.287750201</td><td>-0.4977372</td><td> 0.2425822</td><td> 0.10050994</td></tr>\n",
       "\t<tr><th scope=row>Merc 280</th><td>-2.50678234</td><td> 0.326128931</td><td> -29.254197</td><td> 0.24054095</td><td> 0.445435236</td><td> 0.01401867</td><td> 0.436586851</td><td>-0.4481770</td><td> 0.2804579</td><td> 1.60591689</td></tr>\n",
       "\t<tr><th scope=row>Merc 280C</th><td>-3.90678234</td><td> 0.326128931</td><td> -29.254197</td><td> 0.24054095</td><td> 0.445435236</td><td> 0.61401867</td><td> 0.436586851</td><td>-0.4481770</td><td> 0.2804579</td><td> 1.60591689</td></tr>\n",
       "\t<tr><th scope=row>Merc 450SE</th><td>-1.41777049</td><td> 1.090166965</td><td>  -2.551089</td><td>-0.40998239</td><td> 0.539580525</td><td> 0.16614260</td><td>-0.260424253</td><td>-0.3472867</td><td>-0.6424381</td><td>-0.40093325</td></tr>\n",
       "\t<tr><th scope=row>Merc 450SL</th><td>-0.51777049</td><td> 1.090166965</td><td>  -2.551089</td><td>-0.40998239</td><td> 0.199580525</td><td> 0.36614260</td><td>-0.260424253</td><td>-0.3472867</td><td>-0.6424381</td><td>-0.40093325</td></tr>\n",
       "\t<tr><th scope=row>Merc 450SLC</th><td>-2.61777049</td><td> 1.090166965</td><td>  -2.551089</td><td>-0.40998239</td><td> 0.249580525</td><td> 0.76614260</td><td>-0.260424253</td><td>-0.3472867</td><td>-0.6424381</td><td>-0.40093325</td></tr>\n",
       "\t<tr><th scope=row>Cadillac Fleetwood</th><td>-5.71206353</td><td> 0.548078383</td><td> 157.904660</td><td>-0.46249263</td><td> 1.484556529</td><td> 1.20760047</td><td>-0.127534386</td><td>-0.3030365</td><td>-0.6086206</td><td> 0.15746581</td></tr>\n",
       "\t<tr><th scope=row>Lincoln Continental</th><td>-5.02978075</td><td> 0.331242950</td><td> 131.606960</td><td>-0.35749673</td><td> 1.564546931</td><td> 1.23218361</td><td>-0.074378439</td><td>-0.2853364</td><td>-0.5950936</td><td>-0.01917457</td></tr>\n",
       "\t<tr><th scope=row>Chrysler Imperial</th><td> 0.29364342</td><td> 0.005989801</td><td>  90.160409</td><td>-0.07500287</td><td> 1.344532533</td><td> 1.10905833</td><td> 0.005355481</td><td>-0.2587863</td><td>-0.5748030</td><td>-0.28413513</td></tr>\n",
       "\t<tr><th scope=row>Fiat 128</th><td> 6.80420581</td><td>-0.437909102</td><td> -36.657306</td><td> 0.20106430</td><td>-0.258710053</td><td> 0.13189474</td><td> 0.133597955</td><td> 0.4509326</td><td> 0.2033539</td><td>-0.38723297</td></tr>\n",
       "\t<tr><th scope=row>Honda Civic</th><td> 3.84900992</td><td>-0.134339496</td><td> -19.640525</td><td> 1.00207003</td><td>-0.712096615</td><td>-1.07652166</td><td> 0.059179630</td><td> 0.4261525</td><td> 0.1844161</td><td> 0.86006356</td></tr>\n",
       "\t<tr><th scope=row>Toyota Corolla</th><td> 8.23597754</td><td>-0.416225559</td><td> -42.827536</td><td> 0.33756471</td><td>-0.614309093</td><td> 0.54343643</td><td> 0.128282360</td><td> 0.4491626</td><td> 0.2020012</td><td>-0.36956893</td></tr>\n",
       "\t<tr><th scope=row>Toyota Corona</th><td>-1.98071757</td><td>-1.110098944</td><td> -39.580177</td><td>-0.07044840</td><td>-0.285139808</td><td> 1.24410249</td><td> 0.298381390</td><td>-0.4941972</td><td>-0.7547124</td><td>-0.93481813</td></tr>\n",
       "\t<tr><th scope=row>Dodge Challenger</th><td>-4.36461883</td><td> 1.740673263</td><td>  82.542012</td><td>-0.82497011</td><td> 0.271609321</td><td>-0.91760683</td><td>-0.419892093</td><td>-0.4003869</td><td>-0.6830192</td><td>-0.87101212</td></tr>\n",
       "\t<tr><th scope=row>AMC Javelin</th><td>-4.66461883</td><td> 1.740673263</td><td>  68.542012</td><td>-0.43497011</td><td> 0.186609321</td><td>-0.48760683</td><td>-0.419892093</td><td>-0.4003869</td><td>-0.6830192</td><td>-0.87101212</td></tr>\n",
       "\t<tr><th scope=row>Camaro Z28</th><td>-0.08293241</td><td>-0.319263348</td><td> -21.286141</td><td> 0.47749098</td><td>-0.301481865</td><td>-0.62406695</td><td> 0.085089401</td><td>-0.2322362</td><td>-0.5545125</td><td>-0.54909570</td></tr>\n",
       "\t<tr><th scope=row>Pontiac Firebird</th><td> 1.04108812</td><td> 1.198584681</td><td> 128.797761</td><td>-0.41748035</td><td> 0.361585324</td><td>-0.27614897</td><td>-0.287002226</td><td>-0.3561367</td><td>-0.6492016</td><td>-1.31261306</td></tr>\n",
       "\t<tr><th scope=row>Fiat X1-9</th><td> 1.70420581</td><td>-0.437909102</td><td> -36.357306</td><td> 0.20106430</td><td>-0.523710053</td><td>-0.43810526</td><td> 0.133597955</td><td> 0.4509326</td><td> 0.2033539</td><td>-0.38723297</td></tr>\n",
       "\t<tr><th scope=row>Porsche 914-2</th><td> 2.10991276</td><td>-0.979997684</td><td> -30.801556</td><td> 0.63855406</td><td>-0.553734049</td><td>-2.17664739</td><td>-0.733512178</td><td> 0.4951828</td><td> 1.2371714</td><td> 0.17116609</td></tr>\n",
       "\t<tr><th scope=row>Lotus Europa</th><td> 8.01093488</td><td>-1.457035636</td><td> -87.456497</td><td> 0.05554505</td><td>-1.387555165</td><td>-1.57056447</td><td> 0.383430905</td><td> 0.5341229</td><td> 1.2669309</td><td>-0.21744273</td></tr>\n",
       "\t<tr><th scope=row>Ford Pantera L</th><td> 3.71340487</td><td>-0.731250670</td><td> -47.451772</td><td> 1.03398320</td><td>-1.150100102</td><td>-1.18335897</td><td> 0.186085700</td><td> 0.8013939</td><td> 1.4711888</td><td>-0.88471241</td></tr>\n",
       "\t<tr><th scope=row>Ferrari Dino</th><td> 1.54108812</td><td>-0.801415319</td><td>-126.202239</td><td> 0.12251965</td><td>-0.713414676</td><td>-1.82614897</td><td>-0.287002226</td><td> 0.6438633</td><td> 1.3507984</td><td> 2.68738694</td></tr>\n",
       "\t<tr><th scope=row>Maserati Bora</th><td> 7.75761261</td><td>-2.270782242</td><td>-198.965444</td><td> 0.60245412</td><td>-1.417568251</td><td> 0.22718136</td><td> 0.563492921</td><td> 0.9270643</td><td> 1.5672306</td><td> 1.86114092</td></tr>\n",
       "\t<tr><th scope=row>Volvo 142E</th><td>-1.26197823</td><td>-1.370301463</td><td> -55.837417</td><td> 0.38154669</td><td>-0.082951326</td><td> 0.05560227</td><td> 0.362168526</td><td> 0.5270429</td><td> 0.2615201</td><td>-0.14678658</td></tr>\n",
       "</tbody>\n",
       "</table>\n"
      ],
      "text/latex": [
       "A matrix: 32 × 10 of type dbl\n",
       "\\begin{tabular}{r|llllllllll}\n",
       "  & mpg & cyl & disp & drat & wt & qsec & vs & am & gear & carb\\\\\n",
       "\\hline\n",
       "\tMazda RX4 & -1.59374995 &  0.608014994 &  -18.267187 &  0.17504628 & -0.252352286 & -2.06593942 & -0.632515879 &  0.5288129 &  0.2628728 &  1.83554938\\\\\n",
       "\tMazda RX4 Wag & -1.59374995 &  0.608014994 &  -18.267187 &  0.17504628 &  0.002647714 & -1.50593942 & -0.632515879 &  0.5288129 &  0.2628728 &  1.83554938\\\\\n",
       "\tDatsun 710 & -0.95363068 & -1.023364771 &  -45.961096 &  0.06555324 & -0.392535968 & -0.22973076 &  0.277119011 &  0.4987228 &  0.2398768 & -0.86416198\\\\\n",
       "\tHornet 4 Drive & -1.19374995 &  0.608014994 &   79.732813 & -0.64495372 &  0.342647714 &  0.91406058 &  0.367484121 & -0.4711871 & -0.7371272 & -1.16445062\\\\\n",
       "\tHornet Sportabout &  0.54108812 &  1.198584681 &   88.797761 & -0.34748035 & -0.043414676 & -0.30614897 & -0.287002226 & -0.3561367 & -0.6492016 & -1.31261306\\\\\n",
       "\tValiant & -4.83489134 &  0.716432710 &   53.881663 & -0.98245168 &  0.634652513 &  1.60176901 &  0.340906147 & -0.4800371 & -0.7438908 & -1.07613043\\\\\n",
       "\tDuster 360 &  0.91706759 & -0.319263348 &  -11.286141 & -0.04250902 & -0.571481865 & -0.19406695 &  0.085089401 & -0.2322362 & -0.5545125 & -0.54909570\\\\\n",
       "\tMerc 240D & -1.46870730 & -0.351174929 &   37.061775 & -0.20293406 &  0.768893787 &  0.58806148 &  0.112335576 & -0.5561474 &  0.1979431 &  0.68342318\\\\\n",
       "\tMerc 230 & -0.81717412 & -1.066731857 &  -16.020636 &  0.14255242 &  0.418662112 &  4.09718587 &  0.287750201 & -0.4977372 &  0.2425822 &  0.10050994\\\\\n",
       "\tMerc 280 & -2.50678234 &  0.326128931 &  -29.254197 &  0.24054095 &  0.445435236 &  0.01401867 &  0.436586851 & -0.4481770 &  0.2804579 &  1.60591689\\\\\n",
       "\tMerc 280C & -3.90678234 &  0.326128931 &  -29.254197 &  0.24054095 &  0.445435236 &  0.61401867 &  0.436586851 & -0.4481770 &  0.2804579 &  1.60591689\\\\\n",
       "\tMerc 450SE & -1.41777049 &  1.090166965 &   -2.551089 & -0.40998239 &  0.539580525 &  0.16614260 & -0.260424253 & -0.3472867 & -0.6424381 & -0.40093325\\\\\n",
       "\tMerc 450SL & -0.51777049 &  1.090166965 &   -2.551089 & -0.40998239 &  0.199580525 &  0.36614260 & -0.260424253 & -0.3472867 & -0.6424381 & -0.40093325\\\\\n",
       "\tMerc 450SLC & -2.61777049 &  1.090166965 &   -2.551089 & -0.40998239 &  0.249580525 &  0.76614260 & -0.260424253 & -0.3472867 & -0.6424381 & -0.40093325\\\\\n",
       "\tCadillac Fleetwood & -5.71206353 &  0.548078383 &  157.904660 & -0.46249263 &  1.484556529 &  1.20760047 & -0.127534386 & -0.3030365 & -0.6086206 &  0.15746581\\\\\n",
       "\tLincoln Continental & -5.02978075 &  0.331242950 &  131.606960 & -0.35749673 &  1.564546931 &  1.23218361 & -0.074378439 & -0.2853364 & -0.5950936 & -0.01917457\\\\\n",
       "\tChrysler Imperial &  0.29364342 &  0.005989801 &   90.160409 & -0.07500287 &  1.344532533 &  1.10905833 &  0.005355481 & -0.2587863 & -0.5748030 & -0.28413513\\\\\n",
       "\tFiat 128 &  6.80420581 & -0.437909102 &  -36.657306 &  0.20106430 & -0.258710053 &  0.13189474 &  0.133597955 &  0.4509326 &  0.2033539 & -0.38723297\\\\\n",
       "\tHonda Civic &  3.84900992 & -0.134339496 &  -19.640525 &  1.00207003 & -0.712096615 & -1.07652166 &  0.059179630 &  0.4261525 &  0.1844161 &  0.86006356\\\\\n",
       "\tToyota Corolla &  8.23597754 & -0.416225559 &  -42.827536 &  0.33756471 & -0.614309093 &  0.54343643 &  0.128282360 &  0.4491626 &  0.2020012 & -0.36956893\\\\\n",
       "\tToyota Corona & -1.98071757 & -1.110098944 &  -39.580177 & -0.07044840 & -0.285139808 &  1.24410249 &  0.298381390 & -0.4941972 & -0.7547124 & -0.93481813\\\\\n",
       "\tDodge Challenger & -4.36461883 &  1.740673263 &   82.542012 & -0.82497011 &  0.271609321 & -0.91760683 & -0.419892093 & -0.4003869 & -0.6830192 & -0.87101212\\\\\n",
       "\tAMC Javelin & -4.66461883 &  1.740673263 &   68.542012 & -0.43497011 &  0.186609321 & -0.48760683 & -0.419892093 & -0.4003869 & -0.6830192 & -0.87101212\\\\\n",
       "\tCamaro Z28 & -0.08293241 & -0.319263348 &  -21.286141 &  0.47749098 & -0.301481865 & -0.62406695 &  0.085089401 & -0.2322362 & -0.5545125 & -0.54909570\\\\\n",
       "\tPontiac Firebird &  1.04108812 &  1.198584681 &  128.797761 & -0.41748035 &  0.361585324 & -0.27614897 & -0.287002226 & -0.3561367 & -0.6492016 & -1.31261306\\\\\n",
       "\tFiat X1-9 &  1.70420581 & -0.437909102 &  -36.357306 &  0.20106430 & -0.523710053 & -0.43810526 &  0.133597955 &  0.4509326 &  0.2033539 & -0.38723297\\\\\n",
       "\tPorsche 914-2 &  2.10991276 & -0.979997684 &  -30.801556 &  0.63855406 & -0.553734049 & -2.17664739 & -0.733512178 &  0.4951828 &  1.2371714 &  0.17116609\\\\\n",
       "\tLotus Europa &  8.01093488 & -1.457035636 &  -87.456497 &  0.05554505 & -1.387555165 & -1.57056447 &  0.383430905 &  0.5341229 &  1.2669309 & -0.21744273\\\\\n",
       "\tFord Pantera L &  3.71340487 & -0.731250670 &  -47.451772 &  1.03398320 & -1.150100102 & -1.18335897 &  0.186085700 &  0.8013939 &  1.4711888 & -0.88471241\\\\\n",
       "\tFerrari Dino &  1.54108812 & -0.801415319 & -126.202239 &  0.12251965 & -0.713414676 & -1.82614897 & -0.287002226 &  0.6438633 &  1.3507984 &  2.68738694\\\\\n",
       "\tMaserati Bora &  7.75761261 & -2.270782242 & -198.965444 &  0.60245412 & -1.417568251 &  0.22718136 &  0.563492921 &  0.9270643 &  1.5672306 &  1.86114092\\\\\n",
       "\tVolvo 142E & -1.26197823 & -1.370301463 &  -55.837417 &  0.38154669 & -0.082951326 &  0.05560227 &  0.362168526 &  0.5270429 &  0.2615201 & -0.14678658\\\\\n",
       "\\end{tabular}\n"
      ],
      "text/markdown": [
       "\n",
       "A matrix: 32 × 10 of type dbl\n",
       "\n",
       "| <!--/--> | mpg | cyl | disp | drat | wt | qsec | vs | am | gear | carb |\n",
       "|---|---|---|---|---|---|---|---|---|---|---|\n",
       "| Mazda RX4 | -1.59374995 |  0.608014994 |  -18.267187 |  0.17504628 | -0.252352286 | -2.06593942 | -0.632515879 |  0.5288129 |  0.2628728 |  1.83554938 |\n",
       "| Mazda RX4 Wag | -1.59374995 |  0.608014994 |  -18.267187 |  0.17504628 |  0.002647714 | -1.50593942 | -0.632515879 |  0.5288129 |  0.2628728 |  1.83554938 |\n",
       "| Datsun 710 | -0.95363068 | -1.023364771 |  -45.961096 |  0.06555324 | -0.392535968 | -0.22973076 |  0.277119011 |  0.4987228 |  0.2398768 | -0.86416198 |\n",
       "| Hornet 4 Drive | -1.19374995 |  0.608014994 |   79.732813 | -0.64495372 |  0.342647714 |  0.91406058 |  0.367484121 | -0.4711871 | -0.7371272 | -1.16445062 |\n",
       "| Hornet Sportabout |  0.54108812 |  1.198584681 |   88.797761 | -0.34748035 | -0.043414676 | -0.30614897 | -0.287002226 | -0.3561367 | -0.6492016 | -1.31261306 |\n",
       "| Valiant | -4.83489134 |  0.716432710 |   53.881663 | -0.98245168 |  0.634652513 |  1.60176901 |  0.340906147 | -0.4800371 | -0.7438908 | -1.07613043 |\n",
       "| Duster 360 |  0.91706759 | -0.319263348 |  -11.286141 | -0.04250902 | -0.571481865 | -0.19406695 |  0.085089401 | -0.2322362 | -0.5545125 | -0.54909570 |\n",
       "| Merc 240D | -1.46870730 | -0.351174929 |   37.061775 | -0.20293406 |  0.768893787 |  0.58806148 |  0.112335576 | -0.5561474 |  0.1979431 |  0.68342318 |\n",
       "| Merc 230 | -0.81717412 | -1.066731857 |  -16.020636 |  0.14255242 |  0.418662112 |  4.09718587 |  0.287750201 | -0.4977372 |  0.2425822 |  0.10050994 |\n",
       "| Merc 280 | -2.50678234 |  0.326128931 |  -29.254197 |  0.24054095 |  0.445435236 |  0.01401867 |  0.436586851 | -0.4481770 |  0.2804579 |  1.60591689 |\n",
       "| Merc 280C | -3.90678234 |  0.326128931 |  -29.254197 |  0.24054095 |  0.445435236 |  0.61401867 |  0.436586851 | -0.4481770 |  0.2804579 |  1.60591689 |\n",
       "| Merc 450SE | -1.41777049 |  1.090166965 |   -2.551089 | -0.40998239 |  0.539580525 |  0.16614260 | -0.260424253 | -0.3472867 | -0.6424381 | -0.40093325 |\n",
       "| Merc 450SL | -0.51777049 |  1.090166965 |   -2.551089 | -0.40998239 |  0.199580525 |  0.36614260 | -0.260424253 | -0.3472867 | -0.6424381 | -0.40093325 |\n",
       "| Merc 450SLC | -2.61777049 |  1.090166965 |   -2.551089 | -0.40998239 |  0.249580525 |  0.76614260 | -0.260424253 | -0.3472867 | -0.6424381 | -0.40093325 |\n",
       "| Cadillac Fleetwood | -5.71206353 |  0.548078383 |  157.904660 | -0.46249263 |  1.484556529 |  1.20760047 | -0.127534386 | -0.3030365 | -0.6086206 |  0.15746581 |\n",
       "| Lincoln Continental | -5.02978075 |  0.331242950 |  131.606960 | -0.35749673 |  1.564546931 |  1.23218361 | -0.074378439 | -0.2853364 | -0.5950936 | -0.01917457 |\n",
       "| Chrysler Imperial |  0.29364342 |  0.005989801 |   90.160409 | -0.07500287 |  1.344532533 |  1.10905833 |  0.005355481 | -0.2587863 | -0.5748030 | -0.28413513 |\n",
       "| Fiat 128 |  6.80420581 | -0.437909102 |  -36.657306 |  0.20106430 | -0.258710053 |  0.13189474 |  0.133597955 |  0.4509326 |  0.2033539 | -0.38723297 |\n",
       "| Honda Civic |  3.84900992 | -0.134339496 |  -19.640525 |  1.00207003 | -0.712096615 | -1.07652166 |  0.059179630 |  0.4261525 |  0.1844161 |  0.86006356 |\n",
       "| Toyota Corolla |  8.23597754 | -0.416225559 |  -42.827536 |  0.33756471 | -0.614309093 |  0.54343643 |  0.128282360 |  0.4491626 |  0.2020012 | -0.36956893 |\n",
       "| Toyota Corona | -1.98071757 | -1.110098944 |  -39.580177 | -0.07044840 | -0.285139808 |  1.24410249 |  0.298381390 | -0.4941972 | -0.7547124 | -0.93481813 |\n",
       "| Dodge Challenger | -4.36461883 |  1.740673263 |   82.542012 | -0.82497011 |  0.271609321 | -0.91760683 | -0.419892093 | -0.4003869 | -0.6830192 | -0.87101212 |\n",
       "| AMC Javelin | -4.66461883 |  1.740673263 |   68.542012 | -0.43497011 |  0.186609321 | -0.48760683 | -0.419892093 | -0.4003869 | -0.6830192 | -0.87101212 |\n",
       "| Camaro Z28 | -0.08293241 | -0.319263348 |  -21.286141 |  0.47749098 | -0.301481865 | -0.62406695 |  0.085089401 | -0.2322362 | -0.5545125 | -0.54909570 |\n",
       "| Pontiac Firebird |  1.04108812 |  1.198584681 |  128.797761 | -0.41748035 |  0.361585324 | -0.27614897 | -0.287002226 | -0.3561367 | -0.6492016 | -1.31261306 |\n",
       "| Fiat X1-9 |  1.70420581 | -0.437909102 |  -36.357306 |  0.20106430 | -0.523710053 | -0.43810526 |  0.133597955 |  0.4509326 |  0.2033539 | -0.38723297 |\n",
       "| Porsche 914-2 |  2.10991276 | -0.979997684 |  -30.801556 |  0.63855406 | -0.553734049 | -2.17664739 | -0.733512178 |  0.4951828 |  1.2371714 |  0.17116609 |\n",
       "| Lotus Europa |  8.01093488 | -1.457035636 |  -87.456497 |  0.05554505 | -1.387555165 | -1.57056447 |  0.383430905 |  0.5341229 |  1.2669309 | -0.21744273 |\n",
       "| Ford Pantera L |  3.71340487 | -0.731250670 |  -47.451772 |  1.03398320 | -1.150100102 | -1.18335897 |  0.186085700 |  0.8013939 |  1.4711888 | -0.88471241 |\n",
       "| Ferrari Dino |  1.54108812 | -0.801415319 | -126.202239 |  0.12251965 | -0.713414676 | -1.82614897 | -0.287002226 |  0.6438633 |  1.3507984 |  2.68738694 |\n",
       "| Maserati Bora |  7.75761261 | -2.270782242 | -198.965444 |  0.60245412 | -1.417568251 |  0.22718136 |  0.563492921 |  0.9270643 |  1.5672306 |  1.86114092 |\n",
       "| Volvo 142E | -1.26197823 | -1.370301463 |  -55.837417 |  0.38154669 | -0.082951326 |  0.05560227 |  0.362168526 |  0.5270429 |  0.2615201 | -0.14678658 |\n",
       "\n"
      ],
      "text/plain": [
       "                    mpg         cyl          disp        drat       \n",
       "Mazda RX4           -1.59374995  0.608014994  -18.267187  0.17504628\n",
       "Mazda RX4 Wag       -1.59374995  0.608014994  -18.267187  0.17504628\n",
       "Datsun 710          -0.95363068 -1.023364771  -45.961096  0.06555324\n",
       "Hornet 4 Drive      -1.19374995  0.608014994   79.732813 -0.64495372\n",
       "Hornet Sportabout    0.54108812  1.198584681   88.797761 -0.34748035\n",
       "Valiant             -4.83489134  0.716432710   53.881663 -0.98245168\n",
       "Duster 360           0.91706759 -0.319263348  -11.286141 -0.04250902\n",
       "Merc 240D           -1.46870730 -0.351174929   37.061775 -0.20293406\n",
       "Merc 230            -0.81717412 -1.066731857  -16.020636  0.14255242\n",
       "Merc 280            -2.50678234  0.326128931  -29.254197  0.24054095\n",
       "Merc 280C           -3.90678234  0.326128931  -29.254197  0.24054095\n",
       "Merc 450SE          -1.41777049  1.090166965   -2.551089 -0.40998239\n",
       "Merc 450SL          -0.51777049  1.090166965   -2.551089 -0.40998239\n",
       "Merc 450SLC         -2.61777049  1.090166965   -2.551089 -0.40998239\n",
       "Cadillac Fleetwood  -5.71206353  0.548078383  157.904660 -0.46249263\n",
       "Lincoln Continental -5.02978075  0.331242950  131.606960 -0.35749673\n",
       "Chrysler Imperial    0.29364342  0.005989801   90.160409 -0.07500287\n",
       "Fiat 128             6.80420581 -0.437909102  -36.657306  0.20106430\n",
       "Honda Civic          3.84900992 -0.134339496  -19.640525  1.00207003\n",
       "Toyota Corolla       8.23597754 -0.416225559  -42.827536  0.33756471\n",
       "Toyota Corona       -1.98071757 -1.110098944  -39.580177 -0.07044840\n",
       "Dodge Challenger    -4.36461883  1.740673263   82.542012 -0.82497011\n",
       "AMC Javelin         -4.66461883  1.740673263   68.542012 -0.43497011\n",
       "Camaro Z28          -0.08293241 -0.319263348  -21.286141  0.47749098\n",
       "Pontiac Firebird     1.04108812  1.198584681  128.797761 -0.41748035\n",
       "Fiat X1-9            1.70420581 -0.437909102  -36.357306  0.20106430\n",
       "Porsche 914-2        2.10991276 -0.979997684  -30.801556  0.63855406\n",
       "Lotus Europa         8.01093488 -1.457035636  -87.456497  0.05554505\n",
       "Ford Pantera L       3.71340487 -0.731250670  -47.451772  1.03398320\n",
       "Ferrari Dino         1.54108812 -0.801415319 -126.202239  0.12251965\n",
       "Maserati Bora        7.75761261 -2.270782242 -198.965444  0.60245412\n",
       "Volvo 142E          -1.26197823 -1.370301463  -55.837417  0.38154669\n",
       "                    wt           qsec        vs           am         gear      \n",
       "Mazda RX4           -0.252352286 -2.06593942 -0.632515879  0.5288129  0.2628728\n",
       "Mazda RX4 Wag        0.002647714 -1.50593942 -0.632515879  0.5288129  0.2628728\n",
       "Datsun 710          -0.392535968 -0.22973076  0.277119011  0.4987228  0.2398768\n",
       "Hornet 4 Drive       0.342647714  0.91406058  0.367484121 -0.4711871 -0.7371272\n",
       "Hornet Sportabout   -0.043414676 -0.30614897 -0.287002226 -0.3561367 -0.6492016\n",
       "Valiant              0.634652513  1.60176901  0.340906147 -0.4800371 -0.7438908\n",
       "Duster 360          -0.571481865 -0.19406695  0.085089401 -0.2322362 -0.5545125\n",
       "Merc 240D            0.768893787  0.58806148  0.112335576 -0.5561474  0.1979431\n",
       "Merc 230             0.418662112  4.09718587  0.287750201 -0.4977372  0.2425822\n",
       "Merc 280             0.445435236  0.01401867  0.436586851 -0.4481770  0.2804579\n",
       "Merc 280C            0.445435236  0.61401867  0.436586851 -0.4481770  0.2804579\n",
       "Merc 450SE           0.539580525  0.16614260 -0.260424253 -0.3472867 -0.6424381\n",
       "Merc 450SL           0.199580525  0.36614260 -0.260424253 -0.3472867 -0.6424381\n",
       "Merc 450SLC          0.249580525  0.76614260 -0.260424253 -0.3472867 -0.6424381\n",
       "Cadillac Fleetwood   1.484556529  1.20760047 -0.127534386 -0.3030365 -0.6086206\n",
       "Lincoln Continental  1.564546931  1.23218361 -0.074378439 -0.2853364 -0.5950936\n",
       "Chrysler Imperial    1.344532533  1.10905833  0.005355481 -0.2587863 -0.5748030\n",
       "Fiat 128            -0.258710053  0.13189474  0.133597955  0.4509326  0.2033539\n",
       "Honda Civic         -0.712096615 -1.07652166  0.059179630  0.4261525  0.1844161\n",
       "Toyota Corolla      -0.614309093  0.54343643  0.128282360  0.4491626  0.2020012\n",
       "Toyota Corona       -0.285139808  1.24410249  0.298381390 -0.4941972 -0.7547124\n",
       "Dodge Challenger     0.271609321 -0.91760683 -0.419892093 -0.4003869 -0.6830192\n",
       "AMC Javelin          0.186609321 -0.48760683 -0.419892093 -0.4003869 -0.6830192\n",
       "Camaro Z28          -0.301481865 -0.62406695  0.085089401 -0.2322362 -0.5545125\n",
       "Pontiac Firebird     0.361585324 -0.27614897 -0.287002226 -0.3561367 -0.6492016\n",
       "Fiat X1-9           -0.523710053 -0.43810526  0.133597955  0.4509326  0.2033539\n",
       "Porsche 914-2       -0.553734049 -2.17664739 -0.733512178  0.4951828  1.2371714\n",
       "Lotus Europa        -1.387555165 -1.57056447  0.383430905  0.5341229  1.2669309\n",
       "Ford Pantera L      -1.150100102 -1.18335897  0.186085700  0.8013939  1.4711888\n",
       "Ferrari Dino        -0.713414676 -1.82614897 -0.287002226  0.6438633  1.3507984\n",
       "Maserati Bora       -1.417568251  0.22718136  0.563492921  0.9270643  1.5672306\n",
       "Volvo 142E          -0.082951326  0.05560227  0.362168526  0.5270429  0.2615201\n",
       "                    carb       \n",
       "Mazda RX4            1.83554938\n",
       "Mazda RX4 Wag        1.83554938\n",
       "Datsun 710          -0.86416198\n",
       "Hornet 4 Drive      -1.16445062\n",
       "Hornet Sportabout   -1.31261306\n",
       "Valiant             -1.07613043\n",
       "Duster 360          -0.54909570\n",
       "Merc 240D            0.68342318\n",
       "Merc 230             0.10050994\n",
       "Merc 280             1.60591689\n",
       "Merc 280C            1.60591689\n",
       "Merc 450SE          -0.40093325\n",
       "Merc 450SL          -0.40093325\n",
       "Merc 450SLC         -0.40093325\n",
       "Cadillac Fleetwood   0.15746581\n",
       "Lincoln Continental -0.01917457\n",
       "Chrysler Imperial   -0.28413513\n",
       "Fiat 128            -0.38723297\n",
       "Honda Civic          0.86006356\n",
       "Toyota Corolla      -0.36956893\n",
       "Toyota Corona       -0.93481813\n",
       "Dodge Challenger    -0.87101212\n",
       "AMC Javelin         -0.87101212\n",
       "Camaro Z28          -0.54909570\n",
       "Pontiac Firebird    -1.31261306\n",
       "Fiat X1-9           -0.38723297\n",
       "Porsche 914-2        0.17116609\n",
       "Lotus Europa        -0.21744273\n",
       "Ford Pantera L      -0.88471241\n",
       "Ferrari Dino         2.68738694\n",
       "Maserati Bora        1.86114092\n",
       "Volvo 142E          -0.14678658"
      ]
     },
     "metadata": {},
     "output_type": "display_data"
    }
   ],
   "source": [
    "resid(reg)"
   ]
  },
  {
   "cell_type": "markdown",
   "id": "c4959b31-b251-4ba6-8981-58fbec6e4a4f",
   "metadata": {},
   "source": [
    "We can plot the residuals as follows using a histogram."
   ]
  },
  {
   "cell_type": "code",
   "execution_count": 227,
   "id": "bb045767-4c5a-469b-8f2f-4d98855e8964",
   "metadata": {},
   "outputs": [
    {
     "data": {
      "image/png": "[encoded data removed]",
      "text/plain": [
       "Plot with title \"Histogram of resid(reg)\""
      ]
     },
     "metadata": {
      "image/png": {
       "height": 420,
       "width": 420
      }
     },
     "output_type": "display_data"
    }
   ],
   "source": [
    "hist(resid(reg), col=\"green\", freq=F)\n",
    "curve(dnorm(x, mean=mean(resid(reg)), sd=sd(resid(reg))),col=\"black\", add=T, lwd = 3)"
   ]
  }
 ],
 "metadata": {
  "kernelspec": {
   "display_name": "R",
   "language": "R",
   "name": "ir"
  },
  "language_info": {
   "codemirror_mode": "r",
   "file_extension": ".r",
   "mimetype": "text/x-r-source",
   "name": "R",
   "pygments_lexer": "r",
   "version": "4.4.2"
  }
 },
 "nbformat": 4,
 "nbformat_minor": 5
}
