{
 "cells": [
  {
   "cell_type": "markdown",
   "id": "b2fbc901-1fc7-4425-bd51-cfb7bfb4c4d2",
   "metadata": {},
   "source": [
    "### Data Manupilation\n",
    "\n",
    "In this notebook we are going to do some data manupilation using the `R` programming language. We are going to use the package [`dplyr`](https://dplyr.tidyverse.org/) to do that. First we need to makesure that it is installed, to install it we neeed to run the command.\n",
    "\n",
    "```shell\n",
    "pacman::p_load(pacman, dplyr)\n",
    "```\n",
    "\n",
    "https://dplyr.tidyverse.org/\n",
    "\n",
    "We are going to look at the basic data gramma manupilations such as:\n",
    "\n",
    "1. `mutate()` adds new variables that are functions of existing variables\n",
    "2. `select()` picks variables based on their names.\n",
    "3. `filter()` picks cases based on their values.\n",
    "4. `summarise()` reduces multiple values down to a single summary.\n",
    "5. `arrange()` changes the ordering of the rows."
   ]
  },
  {
   "cell_type": "code",
   "execution_count": 19,
   "id": "ae58c5c0-5f57-4482-8632-8173ec888948",
   "metadata": {},
   "outputs": [],
   "source": [
    "pacman::p_load(pacman, dplyr)"
   ]
  },
  {
   "cell_type": "code",
   "execution_count": 5,
   "id": "338fbfec-0d3a-45d0-84fa-2f0505c590e2",
   "metadata": {},
   "outputs": [
    {
     "data": {
      "text/html": [
       "<table class=\"dataframe\">\n",
       "<caption>A data.frame: 6 × 5</caption>\n",
       "<thead>\n",
       "\t<tr><th></th><th scope=col>Sepal.Length</th><th scope=col>Sepal.Width</th><th scope=col>Petal.Length</th><th scope=col>Petal.Width</th><th scope=col>Species</th></tr>\n",
       "\t<tr><th></th><th scope=col>&lt;dbl&gt;</th><th scope=col>&lt;dbl&gt;</th><th scope=col>&lt;dbl&gt;</th><th scope=col>&lt;dbl&gt;</th><th scope=col>&lt;fct&gt;</th></tr>\n",
       "</thead>\n",
       "<tbody>\n",
       "\t<tr><th scope=row>1</th><td>5.1</td><td>3.5</td><td>1.4</td><td>0.2</td><td>setosa</td></tr>\n",
       "\t<tr><th scope=row>2</th><td>4.9</td><td>3.0</td><td>1.4</td><td>0.2</td><td>setosa</td></tr>\n",
       "\t<tr><th scope=row>3</th><td>4.7</td><td>3.2</td><td>1.3</td><td>0.2</td><td>setosa</td></tr>\n",
       "\t<tr><th scope=row>4</th><td>4.6</td><td>3.1</td><td>1.5</td><td>0.2</td><td>setosa</td></tr>\n",
       "\t<tr><th scope=row>5</th><td>5.0</td><td>3.6</td><td>1.4</td><td>0.2</td><td>setosa</td></tr>\n",
       "\t<tr><th scope=row>6</th><td>5.4</td><td>3.9</td><td>1.7</td><td>0.4</td><td>setosa</td></tr>\n",
       "</tbody>\n",
       "</table>\n"
      ],
      "text/latex": [
       "A data.frame: 6 × 5\n",
       "\\begin{tabular}{r|lllll}\n",
       "  & Sepal.Length & Sepal.Width & Petal.Length & Petal.Width & Species\\\\\n",
       "  & <dbl> & <dbl> & <dbl> & <dbl> & <fct>\\\\\n",
       "\\hline\n",
       "\t1 & 5.1 & 3.5 & 1.4 & 0.2 & setosa\\\\\n",
       "\t2 & 4.9 & 3.0 & 1.4 & 0.2 & setosa\\\\\n",
       "\t3 & 4.7 & 3.2 & 1.3 & 0.2 & setosa\\\\\n",
       "\t4 & 4.6 & 3.1 & 1.5 & 0.2 & setosa\\\\\n",
       "\t5 & 5.0 & 3.6 & 1.4 & 0.2 & setosa\\\\\n",
       "\t6 & 5.4 & 3.9 & 1.7 & 0.4 & setosa\\\\\n",
       "\\end{tabular}\n"
      ],
      "text/markdown": [
       "\n",
       "A data.frame: 6 × 5\n",
       "\n",
       "| <!--/--> | Sepal.Length &lt;dbl&gt; | Sepal.Width &lt;dbl&gt; | Petal.Length &lt;dbl&gt; | Petal.Width &lt;dbl&gt; | Species &lt;fct&gt; |\n",
       "|---|---|---|---|---|---|\n",
       "| 1 | 5.1 | 3.5 | 1.4 | 0.2 | setosa |\n",
       "| 2 | 4.9 | 3.0 | 1.4 | 0.2 | setosa |\n",
       "| 3 | 4.7 | 3.2 | 1.3 | 0.2 | setosa |\n",
       "| 4 | 4.6 | 3.1 | 1.5 | 0.2 | setosa |\n",
       "| 5 | 5.0 | 3.6 | 1.4 | 0.2 | setosa |\n",
       "| 6 | 5.4 | 3.9 | 1.7 | 0.4 | setosa |\n",
       "\n"
      ],
      "text/plain": [
       "  Sepal.Length Sepal.Width Petal.Length Petal.Width Species\n",
       "1 5.1          3.5         1.4          0.2         setosa \n",
       "2 4.9          3.0         1.4          0.2         setosa \n",
       "3 4.7          3.2         1.3          0.2         setosa \n",
       "4 4.6          3.1         1.5          0.2         setosa \n",
       "5 5.0          3.6         1.4          0.2         setosa \n",
       "6 5.4          3.9         1.7          0.4         setosa "
      ]
     },
     "metadata": {},
     "output_type": "display_data"
    }
   ],
   "source": [
    "head(iris)"
   ]
  },
  {
   "cell_type": "markdown",
   "id": "f757c6e5-9b45-4ca3-8dba-fc14ae2d90a0",
   "metadata": {},
   "source": [
    "### 1. `filter()` \n",
    "- Subset rows based on condition"
   ]
  },
  {
   "cell_type": "code",
   "execution_count": 25,
   "id": "62afe90d-307c-476b-b1e5-1f6da0c469a3",
   "metadata": {},
   "outputs": [
    {
     "data": {
      "text/plain": [
       "\n",
       "    setosa versicolor  virginica \n",
       "        50          0         50 "
      ]
     },
     "metadata": {},
     "output_type": "display_data"
    }
   ],
   "source": [
    "df <- filter(iris, Species == \"setosa\" | Species == \"virginica\")\n",
    "table(df$Species)"
   ]
  },
  {
   "cell_type": "markdown",
   "id": "fb005ee0-0d2c-4a02-84da-8af948731e8d",
   "metadata": {},
   "source": [
    "Or we can do it as follows."
   ]
  },
  {
   "cell_type": "code",
   "execution_count": 28,
   "id": "004f5b7a-c890-467f-a5b8-40b66844c80c",
   "metadata": {},
   "outputs": [
    {
     "data": {
      "text/plain": [
       "\n",
       "    setosa versicolor  virginica \n",
       "        50          0         50 "
      ]
     },
     "metadata": {},
     "output_type": "display_data"
    }
   ],
   "source": [
    "df <- filter(iris, Species %in% c(\"setosa\", \"virginica\"))\n",
    "table(df$Species)"
   ]
  },
  {
   "cell_type": "code",
   "execution_count": 32,
   "id": "7c42eb42-108c-4a90-b317-57dabcce8fc3",
   "metadata": {},
   "outputs": [
    {
     "data": {
      "text/html": [
       "<style>\n",
       ".dl-inline {width: auto; margin:0; padding: 0}\n",
       ".dl-inline>dt, .dl-inline>dd {float: none; width: auto; display: inline-block}\n",
       ".dl-inline>dt::after {content: \":\\0020\"; padding-right: .5ex}\n",
       ".dl-inline>dt:not(:first-of-type) {padding-left: .5ex}\n",
       "</style><dl class=dl-inline><dt>setosa</dt><dd>50</dd><dt>versicolor</dt><dd>0</dd><dt>virginica</dt><dd>0</dd></dl>\n"
      ],
      "text/latex": [
       "\\begin{description*}\n",
       "\\item[setosa] 50\n",
       "\\item[versicolor] 0\n",
       "\\item[virginica] 0\n",
       "\\end{description*}\n"
      ],
      "text/markdown": [
       "setosa\n",
       ":   50versicolor\n",
       ":   0virginica\n",
       ":   0\n",
       "\n"
      ],
      "text/plain": [
       "    setosa versicolor  virginica \n",
       "        50          0          0 "
      ]
     },
     "metadata": {},
     "output_type": "display_data"
    }
   ],
   "source": [
    "df2 <- iris %>% filter(Species == \"setosa\")\n",
    "summary(df2$Species)"
   ]
  },
  {
   "cell_type": "markdown",
   "id": "84a6e7bb-edd0-4548-8076-26282ed55226",
   "metadata": {},
   "source": [
    "### 2. select()\n",
    "- Choose columns\n",
    "\n"
   ]
  },
  {
   "cell_type": "code",
   "execution_count": 35,
   "id": "bbbdd12b-6782-4099-8f71-ff4e8c9d305f",
   "metadata": {},
   "outputs": [
    {
     "data": {
      "text/html": [
       "<table class=\"dataframe\">\n",
       "<caption>A data.frame: 6 × 2</caption>\n",
       "<thead>\n",
       "\t<tr><th></th><th scope=col>Sepal.Length</th><th scope=col>Species</th></tr>\n",
       "\t<tr><th></th><th scope=col>&lt;dbl&gt;</th><th scope=col>&lt;fct&gt;</th></tr>\n",
       "</thead>\n",
       "<tbody>\n",
       "\t<tr><th scope=row>1</th><td>5.1</td><td>setosa</td></tr>\n",
       "\t<tr><th scope=row>2</th><td>4.9</td><td>setosa</td></tr>\n",
       "\t<tr><th scope=row>3</th><td>4.7</td><td>setosa</td></tr>\n",
       "\t<tr><th scope=row>4</th><td>4.6</td><td>setosa</td></tr>\n",
       "\t<tr><th scope=row>5</th><td>5.0</td><td>setosa</td></tr>\n",
       "\t<tr><th scope=row>6</th><td>5.4</td><td>setosa</td></tr>\n",
       "</tbody>\n",
       "</table>\n"
      ],
      "text/latex": [
       "A data.frame: 6 × 2\n",
       "\\begin{tabular}{r|ll}\n",
       "  & Sepal.Length & Species\\\\\n",
       "  & <dbl> & <fct>\\\\\n",
       "\\hline\n",
       "\t1 & 5.1 & setosa\\\\\n",
       "\t2 & 4.9 & setosa\\\\\n",
       "\t3 & 4.7 & setosa\\\\\n",
       "\t4 & 4.6 & setosa\\\\\n",
       "\t5 & 5.0 & setosa\\\\\n",
       "\t6 & 5.4 & setosa\\\\\n",
       "\\end{tabular}\n"
      ],
      "text/markdown": [
       "\n",
       "A data.frame: 6 × 2\n",
       "\n",
       "| <!--/--> | Sepal.Length &lt;dbl&gt; | Species &lt;fct&gt; |\n",
       "|---|---|---|\n",
       "| 1 | 5.1 | setosa |\n",
       "| 2 | 4.9 | setosa |\n",
       "| 3 | 4.7 | setosa |\n",
       "| 4 | 4.6 | setosa |\n",
       "| 5 | 5.0 | setosa |\n",
       "| 6 | 5.4 | setosa |\n",
       "\n"
      ],
      "text/plain": [
       "  Sepal.Length Species\n",
       "1 5.1          setosa \n",
       "2 4.9          setosa \n",
       "3 4.7          setosa \n",
       "4 4.6          setosa \n",
       "5 5.0          setosa \n",
       "6 5.4          setosa "
      ]
     },
     "metadata": {},
     "output_type": "display_data"
    }
   ],
   "source": [
    "df3 = iris %>% select(Sepal.Length, Species)\n",
    "head(df3)"
   ]
  },
  {
   "cell_type": "markdown",
   "id": "82ffccfe-4bdf-4aa1-9d25-bf11f3b40963",
   "metadata": {},
   "source": [
    "Or you can use column numbers."
   ]
  },
  {
   "cell_type": "code",
   "execution_count": 37,
   "id": "f748341f-6d7c-400f-adee-362f104f3999",
   "metadata": {},
   "outputs": [
    {
     "data": {
      "text/html": [
       "<style>\n",
       ".list-inline {list-style: none; margin:0; padding: 0}\n",
       ".list-inline>li {display: inline-block}\n",
       ".list-inline>li:not(:last-child)::after {content: \"\\00b7\"; padding: 0 .5ex}\n",
       "</style>\n",
       "<ol class=list-inline><li>'Sepal.Length'</li><li>'Sepal.Width'</li><li>'Petal.Length'</li></ol>\n"
      ],
      "text/latex": [
       "\\begin{enumerate*}\n",
       "\\item 'Sepal.Length'\n",
       "\\item 'Sepal.Width'\n",
       "\\item 'Petal.Length'\n",
       "\\end{enumerate*}\n"
      ],
      "text/markdown": [
       "1. 'Sepal.Length'\n",
       "2. 'Sepal.Width'\n",
       "3. 'Petal.Length'\n",
       "\n",
       "\n"
      ],
      "text/plain": [
       "[1] \"Sepal.Length\" \"Sepal.Width\"  \"Petal.Length\""
      ]
     },
     "metadata": {},
     "output_type": "display_data"
    }
   ],
   "source": [
    "df3 <- select(iris, 1, 2, 3)\n",
    "names(df3)"
   ]
  },
  {
   "cell_type": "markdown",
   "id": "1b23bb53-eb38-42cb-add8-a67585cc0785",
   "metadata": {},
   "source": [
    "### 3. mutate() \n",
    "- Create or modify columns"
   ]
  },
  {
   "cell_type": "code",
   "execution_count": 49,
   "id": "21d6bc9a-a4e1-4303-a640-5a6ce4a56b9b",
   "metadata": {},
   "outputs": [
    {
     "data": {
      "text/html": [
       "<style>\n",
       ".list-inline {list-style: none; margin:0; padding: 0}\n",
       ".list-inline>li {display: inline-block}\n",
       ".list-inline>li:not(:last-child)::after {content: \"\\00b7\"; padding: 0 .5ex}\n",
       "</style>\n",
       "<ol class=list-inline><li>'Sepal.Length'</li><li>'Sepal.Width'</li><li>'Petal.Length'</li><li>'Petal.Width'</li><li>'Species'</li><li>'Sepal.Area'</li></ol>\n"
      ],
      "text/latex": [
       "\\begin{enumerate*}\n",
       "\\item 'Sepal.Length'\n",
       "\\item 'Sepal.Width'\n",
       "\\item 'Petal.Length'\n",
       "\\item 'Petal.Width'\n",
       "\\item 'Species'\n",
       "\\item 'Sepal.Area'\n",
       "\\end{enumerate*}\n"
      ],
      "text/markdown": [
       "1. 'Sepal.Length'\n",
       "2. 'Sepal.Width'\n",
       "3. 'Petal.Length'\n",
       "4. 'Petal.Width'\n",
       "5. 'Species'\n",
       "6. 'Sepal.Area'\n",
       "\n",
       "\n"
      ],
      "text/plain": [
       "[1] \"Sepal.Length\" \"Sepal.Width\"  \"Petal.Length\" \"Petal.Width\"  \"Species\"     \n",
       "[6] \"Sepal.Area\"  "
      ]
     },
     "metadata": {},
     "output_type": "display_data"
    }
   ],
   "source": [
    "iris %>% mutate(Sepal.Area = Sepal.Length * Sepal.Width) -> df6\n",
    "names(df6)"
   ]
  },
  {
   "cell_type": "markdown",
   "id": "4faf1c3b-d07d-48ca-8d7e-011b65182cf8",
   "metadata": {},
   "source": [
    "Or you can do it as follows."
   ]
  },
  {
   "cell_type": "code",
   "execution_count": 51,
   "id": "7ac6ddac-8dfd-4518-a431-9affa7bb8db4",
   "metadata": {},
   "outputs": [
    {
     "data": {
      "text/html": [
       "<style>\n",
       ".list-inline {list-style: none; margin:0; padding: 0}\n",
       ".list-inline>li {display: inline-block}\n",
       ".list-inline>li:not(:last-child)::after {content: \"\\00b7\"; padding: 0 .5ex}\n",
       "</style>\n",
       "<ol class=list-inline><li>'Sepal.Length'</li><li>'Sepal.Width'</li><li>'Petal.Length'</li><li>'Petal.Width'</li><li>'Species'</li><li>'Sepal.Area'</li></ol>\n"
      ],
      "text/latex": [
       "\\begin{enumerate*}\n",
       "\\item 'Sepal.Length'\n",
       "\\item 'Sepal.Width'\n",
       "\\item 'Petal.Length'\n",
       "\\item 'Petal.Width'\n",
       "\\item 'Species'\n",
       "\\item 'Sepal.Area'\n",
       "\\end{enumerate*}\n"
      ],
      "text/markdown": [
       "1. 'Sepal.Length'\n",
       "2. 'Sepal.Width'\n",
       "3. 'Petal.Length'\n",
       "4. 'Petal.Width'\n",
       "5. 'Species'\n",
       "6. 'Sepal.Area'\n",
       "\n",
       "\n"
      ],
      "text/plain": [
       "[1] \"Sepal.Length\" \"Sepal.Width\"  \"Petal.Length\" \"Petal.Width\"  \"Species\"     \n",
       "[6] \"Sepal.Area\"  "
      ]
     },
     "metadata": {},
     "output_type": "display_data"
    }
   ],
   "source": [
    "df7 <- mutate(iris, Sepal.Area = Sepal.Length * Sepal.Width)\n",
    "names(df7)"
   ]
  },
  {
   "cell_type": "markdown",
   "id": "ddec5011-5320-4930-9541-340aa02a6cb3",
   "metadata": {},
   "source": [
    "### 4. `arrange()` \n",
    "- Sort rows"
   ]
  },
  {
   "cell_type": "code",
   "execution_count": 55,
   "id": "642fabbe-8840-4b7e-9e9d-c56751f228e0",
   "metadata": {},
   "outputs": [],
   "source": [
    "df <- iris %>% arrange(Sepal.Length)\n",
    "\n",
    "# Sort by Sepal.Length (descending)\n",
    "df10 <- iris %>% arrange(desc(Sepal.Length))"
   ]
  },
  {
   "cell_type": "markdown",
   "id": "7fb4d532-ca17-499b-97ae-6a0c5e8ef24a",
   "metadata": {},
   "source": [
    "### 5. `summarise()` + `group_by()` \n",
    "- Aggregate/group data"
   ]
  },
  {
   "cell_type": "code",
   "execution_count": 58,
   "id": "a74eb682-6a3d-4480-9e37-e6e2e4a795c9",
   "metadata": {},
   "outputs": [
    {
     "data": {
      "text/html": [
       "<table class=\"dataframe\">\n",
       "<caption>A tibble: 3 × 2</caption>\n",
       "<thead>\n",
       "\t<tr><th scope=col>Species</th><th scope=col>Avg_Sepal_Length</th></tr>\n",
       "\t<tr><th scope=col>&lt;fct&gt;</th><th scope=col>&lt;dbl&gt;</th></tr>\n",
       "</thead>\n",
       "<tbody>\n",
       "\t<tr><td>setosa    </td><td>5.006</td></tr>\n",
       "\t<tr><td>versicolor</td><td>5.936</td></tr>\n",
       "\t<tr><td>virginica </td><td>6.588</td></tr>\n",
       "</tbody>\n",
       "</table>\n"
      ],
      "text/latex": [
       "A tibble: 3 × 2\n",
       "\\begin{tabular}{ll}\n",
       " Species & Avg\\_Sepal\\_Length\\\\\n",
       " <fct> & <dbl>\\\\\n",
       "\\hline\n",
       "\t setosa     & 5.006\\\\\n",
       "\t versicolor & 5.936\\\\\n",
       "\t virginica  & 6.588\\\\\n",
       "\\end{tabular}\n"
      ],
      "text/markdown": [
       "\n",
       "A tibble: 3 × 2\n",
       "\n",
       "| Species &lt;fct&gt; | Avg_Sepal_Length &lt;dbl&gt; |\n",
       "|---|---|\n",
       "| setosa     | 5.006 |\n",
       "| versicolor | 5.936 |\n",
       "| virginica  | 6.588 |\n",
       "\n"
      ],
      "text/plain": [
       "  Species    Avg_Sepal_Length\n",
       "1 setosa     5.006           \n",
       "2 versicolor 5.936           \n",
       "3 virginica  6.588           "
      ]
     },
     "metadata": {},
     "output_type": "display_data"
    }
   ],
   "source": [
    "df8 = iris %>%\n",
    "  group_by(Species) %>%\n",
    "  summarise(Avg_Sepal_Length = mean(Sepal.Length))\n",
    "head(df8)"
   ]
  },
  {
   "cell_type": "markdown",
   "id": "4dd1b7db-966e-42b8-b635-2979c2a0ad6d",
   "metadata": {},
   "source": [
    "Or you can do it as follows."
   ]
  },
  {
   "cell_type": "code",
   "execution_count": 60,
   "id": "2d7c6bb7-6ffb-4a21-be3c-a84403b68000",
   "metadata": {},
   "outputs": [
    {
     "data": {
      "text/html": [
       "<table class=\"dataframe\">\n",
       "<caption>A tibble: 3 × 2</caption>\n",
       "<thead>\n",
       "\t<tr><th scope=col>Species</th><th scope=col>Avg_Sepal_Length</th></tr>\n",
       "\t<tr><th scope=col>&lt;fct&gt;</th><th scope=col>&lt;dbl&gt;</th></tr>\n",
       "</thead>\n",
       "<tbody>\n",
       "\t<tr><td>setosa    </td><td>5.006</td></tr>\n",
       "\t<tr><td>versicolor</td><td>5.936</td></tr>\n",
       "\t<tr><td>virginica </td><td>6.588</td></tr>\n",
       "</tbody>\n",
       "</table>\n"
      ],
      "text/latex": [
       "A tibble: 3 × 2\n",
       "\\begin{tabular}{ll}\n",
       " Species & Avg\\_Sepal\\_Length\\\\\n",
       " <fct> & <dbl>\\\\\n",
       "\\hline\n",
       "\t setosa     & 5.006\\\\\n",
       "\t versicolor & 5.936\\\\\n",
       "\t virginica  & 6.588\\\\\n",
       "\\end{tabular}\n"
      ],
      "text/markdown": [
       "\n",
       "A tibble: 3 × 2\n",
       "\n",
       "| Species &lt;fct&gt; | Avg_Sepal_Length &lt;dbl&gt; |\n",
       "|---|---|\n",
       "| setosa     | 5.006 |\n",
       "| versicolor | 5.936 |\n",
       "| virginica  | 6.588 |\n",
       "\n"
      ],
      "text/plain": [
       "  Species    Avg_Sepal_Length\n",
       "1 setosa     5.006           \n",
       "2 versicolor 5.936           \n",
       "3 virginica  6.588           "
      ]
     },
     "metadata": {},
     "output_type": "display_data"
    }
   ],
   "source": [
    "df8 = group_by(iris, Species) %>%\n",
    "  summarise(Avg_Sepal_Length = mean(Sepal.Length))\n",
    "head(df8)"
   ]
  },
  {
   "cell_type": "markdown",
   "id": "a55bfed2-0193-487e-bedc-ea130f170cd9",
   "metadata": {},
   "source": [
    "#### 6. `rename()` \n",
    "- Rename columns"
   ]
  },
  {
   "cell_type": "code",
   "execution_count": 70,
   "id": "baa48229-fa73-482b-a065-61a7ebaa0082",
   "metadata": {},
   "outputs": [
    {
     "data": {
      "text/html": [
       "<style>\n",
       ".list-inline {list-style: none; margin:0; padding: 0}\n",
       ".list-inline>li {display: inline-block}\n",
       ".list-inline>li:not(:last-child)::after {content: \"\\00b7\"; padding: 0 .5ex}\n",
       "</style>\n",
       "<ol class=list-inline><li>'Sepal_Length'</li><li>'Sepal_Width'</li><li>'Petal.Length'</li><li>'Petal.Width'</li><li>'Species'</li></ol>\n"
      ],
      "text/latex": [
       "\\begin{enumerate*}\n",
       "\\item 'Sepal\\_Length'\n",
       "\\item 'Sepal\\_Width'\n",
       "\\item 'Petal.Length'\n",
       "\\item 'Petal.Width'\n",
       "\\item 'Species'\n",
       "\\end{enumerate*}\n"
      ],
      "text/markdown": [
       "1. 'Sepal_Length'\n",
       "2. 'Sepal_Width'\n",
       "3. 'Petal.Length'\n",
       "4. 'Petal.Width'\n",
       "5. 'Species'\n",
       "\n",
       "\n"
      ],
      "text/plain": [
       "[1] \"Sepal_Length\" \"Sepal_Width\"  \"Petal.Length\" \"Petal.Width\"  \"Species\"     "
      ]
     },
     "metadata": {},
     "output_type": "display_data"
    }
   ],
   "source": [
    "# Rename Sepal.Length to Sepal_Length\n",
    "df9<-iris %>% rename(Sepal_Length = Sepal.Length, Sepal_Width = Sepal.Width)\n",
    "colnames(df9)"
   ]
  },
  {
   "cell_type": "markdown",
   "id": "fe729b8e-0968-4138-8865-479f21006363",
   "metadata": {},
   "source": [
    "### 🧠 Notes:\n",
    "- `%>%` is the pipe operator. It passes the left-hand side as the first argument to the function on the right.\n",
    "- Each function returns a new dataframe; original data isn't modified unless reassigned.\n",
    "\n",
    "\n",
    "- For each species, calculate:\n",
    "    - mean Sepal.Length\n",
    "    - max Petal.Width\n",
    "    - and sort them by mean Sepal.Length (descending)"
   ]
  },
  {
   "cell_type": "code",
   "execution_count": 76,
   "id": "715d6756-c1c3-4b1d-84c5-56daf78f4147",
   "metadata": {},
   "outputs": [
    {
     "data": {
      "text/html": [
       "<table class=\"dataframe\">\n",
       "<caption>A tibble: 3 × 3</caption>\n",
       "<thead>\n",
       "\t<tr><th scope=col>Species</th><th scope=col>Mean_Sepal</th><th scope=col>Max_Petal_Width</th></tr>\n",
       "\t<tr><th scope=col>&lt;fct&gt;</th><th scope=col>&lt;dbl&gt;</th><th scope=col>&lt;dbl&gt;</th></tr>\n",
       "</thead>\n",
       "<tbody>\n",
       "\t<tr><td>virginica </td><td>6.588</td><td>2.5</td></tr>\n",
       "\t<tr><td>versicolor</td><td>5.936</td><td>1.8</td></tr>\n",
       "\t<tr><td>setosa    </td><td>5.006</td><td>0.6</td></tr>\n",
       "</tbody>\n",
       "</table>\n"
      ],
      "text/latex": [
       "A tibble: 3 × 3\n",
       "\\begin{tabular}{lll}\n",
       " Species & Mean\\_Sepal & Max\\_Petal\\_Width\\\\\n",
       " <fct> & <dbl> & <dbl>\\\\\n",
       "\\hline\n",
       "\t virginica  & 6.588 & 2.5\\\\\n",
       "\t versicolor & 5.936 & 1.8\\\\\n",
       "\t setosa     & 5.006 & 0.6\\\\\n",
       "\\end{tabular}\n"
      ],
      "text/markdown": [
       "\n",
       "A tibble: 3 × 3\n",
       "\n",
       "| Species &lt;fct&gt; | Mean_Sepal &lt;dbl&gt; | Max_Petal_Width &lt;dbl&gt; |\n",
       "|---|---|---|\n",
       "| virginica  | 6.588 | 2.5 |\n",
       "| versicolor | 5.936 | 1.8 |\n",
       "| setosa     | 5.006 | 0.6 |\n",
       "\n"
      ],
      "text/plain": [
       "  Species    Mean_Sepal Max_Petal_Width\n",
       "1 virginica  6.588      2.5            \n",
       "2 versicolor 5.936      1.8            \n",
       "3 setosa     5.006      0.6            "
      ]
     },
     "metadata": {},
     "output_type": "display_data"
    }
   ],
   "source": [
    "iris %>%\n",
    "  group_by(Species) %>%\n",
    "  summarise(\n",
    "    Mean_Sepal = mean(Sepal.Length),\n",
    "    Max_Petal_Width = max(Petal.Width)\n",
    "  ) %>%\n",
    "  arrange(desc(Mean_Sepal))"
   ]
  },
  {
   "cell_type": "code",
   "execution_count": null,
   "id": "233c5658-e4f3-4afa-bda1-5f16efce365d",
   "metadata": {},
   "outputs": [],
   "source": []
  }
 ],
 "metadata": {
  "kernelspec": {
   "display_name": "R",
   "language": "R",
   "name": "ir"
  },
  "language_info": {
   "codemirror_mode": "r",
   "file_extension": ".r",
   "mimetype": "text/x-r-source",
   "name": "R",
   "pygments_lexer": "r",
   "version": "4.4.2"
  }
 },
 "nbformat": 4,
 "nbformat_minor": 5
}
