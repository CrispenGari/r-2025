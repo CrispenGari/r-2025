{
 "cells": [
  {
   "cell_type": "code",
   "execution_count": null,
   "id": "45758963-f866-448b-8e87-3bd53b8ce037",
   "metadata": {},
   "outputs": [],
   "source": [
    "### Linear Regression \n",
    "\n",
    "In this notebook we are going to create a linear regression model.\n",
    "\n",
    "First we are going to load the following packages using `pacman`:\n",
    "\n",
    "1. `tidyverse` - For data wrangling and visualization\n",
    "2. `caret` - For data splitting and model evaluation\n",
    "3. `Metrics` - For calculating MSE, MAE, RMSE\n"
   ]
  },
  {
   "cell_type": "code",
   "execution_count": 1,
   "id": "f363c467-ad2c-485c-92d7-22899f70c5ff",
   "metadata": {},
   "outputs": [
    {
     "name": "stderr",
     "output_type": "stream",
     "text": [
      "Installing package into 'C:/Users/crisp/AppData/Local/R/win-library/4.4'\n",
      "(as 'lib' is unspecified)\n",
      "\n",
      "also installing the dependencies 'sys', 'ps', 'sass', 'cachem', 'rappdirs', 'askpass', 'processx', 'highr', 'xfun', 'yaml', 'bslib', 'fontawesome', 'jquerylib', 'tinytex', 'backports', 'memoise', 'blob', 'DBI', 'gargle', 'ids', 'rematch2', 'mime', 'openssl', 'systemfonts', 'textshaping', 'callr', 'fs', 'knitr', 'rmarkdown', 'selectr', 'broom', 'conflicted', 'dbplyr', 'dtplyr', 'googledrive', 'googlesheets4', 'httr', 'modelr', 'ragg', 'reprex', 'rstudioapi', 'rvest', 'xml2'\n",
      "\n",
      "\n",
      "Warning message:\n",
      "\"unable to access index for repository http://www.stats.ox.ac.uk/pub/RWin/bin/windows/contrib/4.4:\n",
      "  cannot open URL 'http://www.stats.ox.ac.uk/pub/RWin/bin/windows/contrib/4.4/PACKAGES'\"\n",
      "Warning message in download.file(url, destfile, method, mode = \"wb\", ...):\n",
      "\"downloaded length 247928 != reported length 1608387\"\n",
      "Warning message in download.file(url, destfile, method, mode = \"wb\", ...):\n",
      "\"URL 'https://cran.r-project.org/bin/windows/contrib/4.4/xml2_1.3.8.zip': status was 'Failure when receiving data from the peer'\"\n"
     ]
    },
    {
     "name": "stdout",
     "output_type": "stream",
     "text": [
      "Error in download.file(url, destfile, method, mode = \"wb\", ...) : \n",
      "  download from 'https://cran.r-project.org/bin/windows/contrib/4.4/xml2_1.3.8.zip' failed\n"
     ]
    },
    {
     "name": "stderr",
     "output_type": "stream",
     "text": [
      "Warning message in download.packages(pkgs, destdir = tmpd, available = available, :\n",
      "\"download of package 'xml2' failed\"\n"
     ]
    },
    {
     "name": "stdout",
     "output_type": "stream",
     "text": [
      "package 'sys' successfully unpacked and MD5 sums checked\n",
      "package 'ps' successfully unpacked and MD5 sums checked\n",
      "package 'sass' successfully unpacked and MD5 sums checked\n",
      "package 'cachem' successfully unpacked and MD5 sums checked\n",
      "package 'rappdirs' successfully unpacked and MD5 sums checked\n",
      "package 'askpass' successfully unpacked and MD5 sums checked\n",
      "package 'processx' successfully unpacked and MD5 sums checked\n",
      "package 'highr' successfully unpacked and MD5 sums checked\n",
      "package 'xfun' successfully unpacked and MD5 sums checked\n",
      "package 'yaml' successfully unpacked and MD5 sums checked\n",
      "package 'bslib' successfully unpacked and MD5 sums checked\n",
      "package 'fontawesome' successfully unpacked and MD5 sums checked\n",
      "package 'jquerylib' successfully unpacked and MD5 sums checked\n",
      "package 'tinytex' successfully unpacked and MD5 sums checked\n",
      "package 'backports' successfully unpacked and MD5 sums checked\n",
      "package 'memoise' successfully unpacked and MD5 sums checked\n",
      "package 'blob' successfully unpacked and MD5 sums checked\n",
      "package 'DBI' successfully unpacked and MD5 sums checked\n",
      "package 'gargle' successfully unpacked and MD5 sums checked\n",
      "package 'ids' successfully unpacked and MD5 sums checked\n",
      "package 'rematch2' successfully unpacked and MD5 sums checked\n",
      "package 'mime' successfully unpacked and MD5 sums checked\n",
      "package 'openssl' successfully unpacked and MD5 sums checked\n",
      "package 'systemfonts' successfully unpacked and MD5 sums checked\n",
      "package 'textshaping' successfully unpacked and MD5 sums checked\n",
      "package 'callr' successfully unpacked and MD5 sums checked\n",
      "package 'fs' successfully unpacked and MD5 sums checked\n",
      "package 'knitr' successfully unpacked and MD5 sums checked\n",
      "package 'rmarkdown' successfully unpacked and MD5 sums checked\n",
      "package 'selectr' successfully unpacked and MD5 sums checked\n",
      "package 'broom' successfully unpacked and MD5 sums checked\n",
      "package 'conflicted' successfully unpacked and MD5 sums checked\n",
      "package 'dbplyr' successfully unpacked and MD5 sums checked\n",
      "package 'dtplyr' successfully unpacked and MD5 sums checked\n",
      "package 'googledrive' successfully unpacked and MD5 sums checked\n",
      "package 'googlesheets4' successfully unpacked and MD5 sums checked\n",
      "package 'httr' successfully unpacked and MD5 sums checked\n",
      "package 'modelr' successfully unpacked and MD5 sums checked\n",
      "package 'ragg' successfully unpacked and MD5 sums checked\n",
      "package 'reprex' successfully unpacked and MD5 sums checked\n",
      "package 'rstudioapi' successfully unpacked and MD5 sums checked\n",
      "package 'rvest' successfully unpacked and MD5 sums checked\n",
      "package 'tidyverse' successfully unpacked and MD5 sums checked\n",
      "\n",
      "The downloaded binary packages are in\n",
      "\tC:\\Users\\crisp\\AppData\\Local\\Temp\\Rtmp0k8Lyv\\downloaded_packages\n"
     ]
    },
    {
     "name": "stderr",
     "output_type": "stream",
     "text": [
      "\n",
      "tidyverse installed\n",
      "\n",
      "Warning message:\n",
      "\"package 'tidyverse' was built under R version 4.4.3\"\n",
      "Warning message:\n",
      "\"package 'ggplot2' was built under R version 4.4.3\"\n",
      "Warning message:\n",
      "\"package 'tibble' was built under R version 4.4.3\"\n",
      "Warning message:\n",
      "\"package 'tidyr' was built under R version 4.4.3\"\n",
      "Warning message:\n",
      "\"package 'readr' was built under R version 4.4.3\"\n",
      "Warning message:\n",
      "\"package 'purrr' was built under R version 4.4.3\"\n",
      "Warning message:\n",
      "\"package 'dplyr' was built under R version 4.4.3\"\n",
      "Warning message:\n",
      "\"package 'stringr' was built under R version 4.4.3\"\n",
      "Warning message:\n",
      "\"package 'forcats' was built under R version 4.4.3\"\n",
      "Warning message:\n",
      "\"package 'lubridate' was built under R version 4.4.3\"\n",
      "Installing package into 'C:/Users/crisp/AppData/Local/R/win-library/4.4'\n",
      "(as 'lib' is unspecified)\n",
      "\n",
      "Warning message:\n",
      "\"unable to access index for repository http://www.stats.ox.ac.uk/pub/RWin/bin/windows/contrib/4.4:\n",
      "  cannot open URL 'http://www.stats.ox.ac.uk/pub/RWin/bin/windows/contrib/4.4/PACKAGES'\"\n"
     ]
    },
    {
     "name": "stdout",
     "output_type": "stream",
     "text": [
      "package 'Metrics' successfully unpacked and MD5 sums checked\n",
      "\n",
      "The downloaded binary packages are in\n",
      "\tC:\\Users\\crisp\\AppData\\Local\\Temp\\Rtmp0k8Lyv\\downloaded_packages\n"
     ]
    },
    {
     "name": "stderr",
     "output_type": "stream",
     "text": [
      "\n",
      "Metrics installed\n",
      "\n",
      "Warning message:\n",
      "\"package 'Metrics' was built under R version 4.4.3\"\n"
     ]
    }
   ],
   "source": [
    "pacman::p_load(pacman, tidyverse, caret, Metrics)"
   ]
  },
  {
   "cell_type": "markdown",
   "id": "0d35b627-a650-4ac9-b0ef-ba31b46f7f67",
   "metadata": {},
   "source": [
    "### Dataset\n",
    "Next we are going to load the dataset from a csv file into a dataframe"
   ]
  },
  {
   "cell_type": "code",
   "execution_count": 3,
   "id": "2232dd3f-4017-4185-ab49-4c1612a451a8",
   "metadata": {},
   "outputs": [
    {
     "data": {
      "text/html": [
       "<table class=\"dataframe\">\n",
       "<caption>A data.frame: 6 × 7</caption>\n",
       "<thead>\n",
       "\t<tr><th></th><th scope=col>age</th><th scope=col>sex</th><th scope=col>bmi</th><th scope=col>children</th><th scope=col>smoker</th><th scope=col>region</th><th scope=col>charges</th></tr>\n",
       "\t<tr><th></th><th scope=col>&lt;int&gt;</th><th scope=col>&lt;fct&gt;</th><th scope=col>&lt;dbl&gt;</th><th scope=col>&lt;int&gt;</th><th scope=col>&lt;fct&gt;</th><th scope=col>&lt;fct&gt;</th><th scope=col>&lt;dbl&gt;</th></tr>\n",
       "</thead>\n",
       "<tbody>\n",
       "\t<tr><th scope=row>1</th><td>19</td><td>female</td><td>27.900</td><td>0</td><td>yes</td><td>southwest</td><td>16884.924</td></tr>\n",
       "\t<tr><th scope=row>2</th><td>18</td><td>male  </td><td>33.770</td><td>1</td><td>no </td><td>southeast</td><td> 1725.552</td></tr>\n",
       "\t<tr><th scope=row>3</th><td>28</td><td>male  </td><td>33.000</td><td>3</td><td>no </td><td>southeast</td><td> 4449.462</td></tr>\n",
       "\t<tr><th scope=row>4</th><td>33</td><td>male  </td><td>22.705</td><td>0</td><td>no </td><td>northwest</td><td>21984.471</td></tr>\n",
       "\t<tr><th scope=row>5</th><td>32</td><td>male  </td><td>28.880</td><td>0</td><td>no </td><td>northwest</td><td> 3866.855</td></tr>\n",
       "\t<tr><th scope=row>6</th><td>31</td><td>female</td><td>25.740</td><td>0</td><td>no </td><td>southeast</td><td> 3756.622</td></tr>\n",
       "</tbody>\n",
       "</table>\n"
      ],
      "text/latex": [
       "A data.frame: 6 × 7\n",
       "\\begin{tabular}{r|lllllll}\n",
       "  & age & sex & bmi & children & smoker & region & charges\\\\\n",
       "  & <int> & <fct> & <dbl> & <int> & <fct> & <fct> & <dbl>\\\\\n",
       "\\hline\n",
       "\t1 & 19 & female & 27.900 & 0 & yes & southwest & 16884.924\\\\\n",
       "\t2 & 18 & male   & 33.770 & 1 & no  & southeast &  1725.552\\\\\n",
       "\t3 & 28 & male   & 33.000 & 3 & no  & southeast &  4449.462\\\\\n",
       "\t4 & 33 & male   & 22.705 & 0 & no  & northwest & 21984.471\\\\\n",
       "\t5 & 32 & male   & 28.880 & 0 & no  & northwest &  3866.855\\\\\n",
       "\t6 & 31 & female & 25.740 & 0 & no  & southeast &  3756.622\\\\\n",
       "\\end{tabular}\n"
      ],
      "text/markdown": [
       "\n",
       "A data.frame: 6 × 7\n",
       "\n",
       "| <!--/--> | age &lt;int&gt; | sex &lt;fct&gt; | bmi &lt;dbl&gt; | children &lt;int&gt; | smoker &lt;fct&gt; | region &lt;fct&gt; | charges &lt;dbl&gt; |\n",
       "|---|---|---|---|---|---|---|---|\n",
       "| 1 | 19 | female | 27.900 | 0 | yes | southwest | 16884.924 |\n",
       "| 2 | 18 | male   | 33.770 | 1 | no  | southeast |  1725.552 |\n",
       "| 3 | 28 | male   | 33.000 | 3 | no  | southeast |  4449.462 |\n",
       "| 4 | 33 | male   | 22.705 | 0 | no  | northwest | 21984.471 |\n",
       "| 5 | 32 | male   | 28.880 | 0 | no  | northwest |  3866.855 |\n",
       "| 6 | 31 | female | 25.740 | 0 | no  | southeast |  3756.622 |\n",
       "\n"
      ],
      "text/plain": [
       "  age sex    bmi    children smoker region    charges  \n",
       "1 19  female 27.900 0        yes    southwest 16884.924\n",
       "2 18  male   33.770 1        no     southeast  1725.552\n",
       "3 28  male   33.000 3        no     southeast  4449.462\n",
       "4 33  male   22.705 0        no     northwest 21984.471\n",
       "5 32  male   28.880 0        no     northwest  3866.855\n",
       "6 31  female 25.740 0        no     southeast  3756.622"
      ]
     },
     "metadata": {},
     "output_type": "display_data"
    }
   ],
   "source": [
    "data <- read.csv(\"insurance.csv\", stringsAsFactors=T)\n",
    "View(head(data))"
   ]
  },
  {
   "cell_type": "markdown",
   "id": "6048b30f-118e-4425-b570-5b82d5806812",
   "metadata": {},
   "source": [
    "### Check for Missing Values\n",
    "Before training, we need to ensure data quality by checking for null values."
   ]
  },
  {
   "cell_type": "code",
   "execution_count": 5,
   "id": "444f6459-e11c-4bd1-9436-35b6cefd3a58",
   "metadata": {},
   "outputs": [
    {
     "data": {
      "text/html": [
       "<style>\n",
       ".dl-inline {width: auto; margin:0; padding: 0}\n",
       ".dl-inline>dt, .dl-inline>dd {float: none; width: auto; display: inline-block}\n",
       ".dl-inline>dt::after {content: \":\\0020\"; padding-right: .5ex}\n",
       ".dl-inline>dt:not(:first-of-type) {padding-left: .5ex}\n",
       "</style><dl class=dl-inline><dt>age</dt><dd>0</dd><dt>sex</dt><dd>0</dd><dt>bmi</dt><dd>0</dd><dt>children</dt><dd>0</dd><dt>smoker</dt><dd>0</dd><dt>region</dt><dd>0</dd><dt>charges</dt><dd>0</dd></dl>\n"
      ],
      "text/latex": [
       "\\begin{description*}\n",
       "\\item[age] 0\n",
       "\\item[sex] 0\n",
       "\\item[bmi] 0\n",
       "\\item[children] 0\n",
       "\\item[smoker] 0\n",
       "\\item[region] 0\n",
       "\\item[charges] 0\n",
       "\\end{description*}\n"
      ],
      "text/markdown": [
       "age\n",
       ":   0sex\n",
       ":   0bmi\n",
       ":   0children\n",
       ":   0smoker\n",
       ":   0region\n",
       ":   0charges\n",
       ":   0\n",
       "\n"
      ],
      "text/plain": [
       "     age      sex      bmi children   smoker   region  charges \n",
       "       0        0        0        0        0        0        0 "
      ]
     },
     "metadata": {},
     "output_type": "display_data"
    }
   ],
   "source": [
    "colSums(is.na(data))"
   ]
  },
  {
   "cell_type": "markdown",
   "id": "90856bdf-377f-4a4b-8490-a139e3210c9c",
   "metadata": {},
   "source": [
    "To remove na values if they exists we do it as follows:"
   ]
  },
  {
   "cell_type": "code",
   "execution_count": 8,
   "id": "ad13ce88-873b-4c21-a96e-21d271ea4103",
   "metadata": {},
   "outputs": [],
   "source": [
    "data <- na.omit(data)"
   ]
  },
  {
   "cell_type": "markdown",
   "id": "c93f3b5a-0f84-491e-b0af-2e75a6c669ad",
   "metadata": {},
   "source": [
    "In the following code cewll we are going to check the summary of the data."
   ]
  },
  {
   "cell_type": "code",
   "execution_count": 11,
   "id": "d34f5485-e701-4eff-8bd3-67e6ec5251da",
   "metadata": {},
   "outputs": [
    {
     "data": {
      "text/plain": [
       "      age            sex           bmi           children     smoker    \n",
       " Min.   :18.00   female:662   Min.   :15.96   Min.   :0.000   no :1064  \n",
       " 1st Qu.:27.00   male  :676   1st Qu.:26.30   1st Qu.:0.000   yes: 274  \n",
       " Median :39.00                Median :30.40   Median :1.000             \n",
       " Mean   :39.21                Mean   :30.66   Mean   :1.095             \n",
       " 3rd Qu.:51.00                3rd Qu.:34.69   3rd Qu.:2.000             \n",
       " Max.   :64.00                Max.   :53.13   Max.   :5.000             \n",
       "       region       charges     \n",
       " northeast:324   Min.   : 1122  \n",
       " northwest:325   1st Qu.: 4740  \n",
       " southeast:364   Median : 9382  \n",
       " southwest:325   Mean   :13270  \n",
       "                 3rd Qu.:16640  \n",
       "                 Max.   :63770  "
      ]
     },
     "metadata": {},
     "output_type": "display_data"
    }
   ],
   "source": [
    "summary(data)"
   ]
  },
  {
   "cell_type": "markdown",
   "id": "ce06cab2-8816-4187-91a9-a791110f3409",
   "metadata": {},
   "source": [
    "#### Visualize the Data\n",
    "Visualizing helps you understand relationships, spot outliers, and guide feature engineering. Here's a plot of `bmi` vs `charges`, `colored` by `smoker` status."
   ]
  },
  {
   "cell_type": "code",
   "execution_count": 13,
   "id": "5038c031-542d-41d7-865d-4000f9d3772a",
   "metadata": {},
   "outputs": [
    {
     "data": {
      "image/png": "[encoded data removed]",
      "text/plain": [
       "plot without title"
      ]
     },
     "metadata": {
      "image/png": {
       "height": 420,
       "width": 420
      }
     },
     "output_type": "display_data"
    }
   ],
   "source": [
    "ggplot(data, aes(x = bmi, y = charges, color = smoker)) +\n",
    "  geom_point(size = 3) +\n",
    "  theme_minimal() +\n",
    "  labs(title = \"Charges vs BMI\", x = \"BMI\", y = \"Charges\")"
   ]
  },
  {
   "cell_type": "markdown",
   "id": "287dcd3b-0040-41c2-bbf0-7f3657f09e26",
   "metadata": {},
   "source": [
    "###  Split Data into Training and Testing Sets\n",
    "We split the dataset to train the model on one part and evaluate it on the other."
   ]
  },
  {
   "cell_type": "code",
   "execution_count": 29,
   "id": "c6ba5391-33e2-4751-b633-1769416df387",
   "metadata": {},
   "outputs": [
    {
     "name": "stdout",
     "output_type": "stream",
     "text": [
      "[1] \"Train Size:  1072\"\n",
      "[1] \"Test Size:  266\"\n"
     ]
    }
   ],
   "source": [
    "SEED = 27\n",
    "set.seed(SEED) \n",
    "train_index <- createDataPartition(data$charges, p = 0.8, list = FALSE)\n",
    "train <- data[train_index, ]\n",
    "test <- data[-train_index, ]\n",
    "\n",
    "print(paste(\"Train Size: \", nrow(train)))\n",
    "print(paste(\"Test Size: \", nrow(test)))"
   ]
  },
  {
   "cell_type": "markdown",
   "id": "536556f7-7df9-4bda-8c68-35b4794ae02a",
   "metadata": {},
   "source": [
    "### Train the Linear Regression Model\n",
    "We train a linear regression model on the training data. \n",
    "\n",
    "> Note thet categorical variables should be encoded correctly as factors."
   ]
  },
  {
   "cell_type": "code",
   "execution_count": 44,
   "id": "e9c8bca0-7ace-45fb-8324-c2d904f26da4",
   "metadata": {},
   "outputs": [
    {
     "data": {
      "text/plain": [
       "\n",
       "Call:\n",
       "lm(formula = charges ~ age + sex + bmi + children + smoker + \n",
       "    region, data = train)\n",
       "\n",
       "Residuals:\n",
       "   Min     1Q Median     3Q    Max \n",
       "-11888  -2808  -1102   1116  29731 \n",
       "\n",
       "Coefficients:\n",
       "                 Estimate Std. Error t value Pr(>|t|)    \n",
       "(Intercept)     -11381.40    1133.68 -10.039  < 2e-16 ***\n",
       "age                265.13      13.53  19.599  < 2e-16 ***\n",
       "sexmale             27.24     378.59   0.072 0.942646    \n",
       "bmi                307.20      32.42   9.477  < 2e-16 ***\n",
       "children           552.75     152.64   3.621 0.000307 ***\n",
       "smokeryes        23872.58     478.98  49.841  < 2e-16 ***\n",
       "regionnorthwest   -339.84     533.05  -0.638 0.523910    \n",
       "regionsoutheast   -913.62     543.84  -1.680 0.093260 .  \n",
       "regionsouthwest   -813.36     540.06  -1.506 0.132352    \n",
       "---\n",
       "Signif. codes:  0 '***' 0.001 '**' 0.01 '*' 0.05 '.' 0.1 ' ' 1\n",
       "\n",
       "Residual standard error: 6170 on 1063 degrees of freedom\n",
       "Multiple R-squared:  0.7384,\tAdjusted R-squared:  0.7364 \n",
       "F-statistic: 375.1 on 8 and 1063 DF,  p-value: < 2.2e-16\n"
      ]
     },
     "metadata": {},
     "output_type": "display_data"
    }
   ],
   "source": [
    "model <- lm(charges ~ age + sex + bmi + children + smoker + region, data = train)\n",
    "summary(model)"
   ]
  },
  {
   "cell_type": "markdown",
   "id": "e9c94bc4-6d01-4957-9d25-8fd5373a5d49",
   "metadata": {},
   "source": [
    "### Visualize the Model Fit\n",
    "This helps us understand how well our model predictions match actual values (on the training set)."
   ]
  },
  {
   "cell_type": "code",
   "execution_count": 57,
   "id": "e68432b3-15a2-45e2-9513-b56647e11c54",
   "metadata": {},
   "outputs": [
    {
     "data": {
      "text/html": [
       "<strong>1:</strong> 25286.2339411071"
      ],
      "text/latex": [
       "\\textbf{1:} 25286.2339411071"
      ],
      "text/markdown": [
       "**1:** 25286.2339411071"
      ],
      "text/plain": [
       "       1 \n",
       "25286.23 "
      ]
     },
     "metadata": {},
     "output_type": "display_data"
    }
   ],
   "source": [
    "preds <- predict(model, newdata = train)\n",
    "preds[1]"
   ]
  },
  {
   "cell_type": "code",
   "execution_count": 59,
   "id": "014677b0-fdcd-4440-9d5f-fc3c3c2c1fa1",
   "metadata": {},
   "outputs": [
    {
     "data": {
      "image/png": "[encoded data removed]",
      "text/plain": [
       "plot without title"
      ]
     },
     "metadata": {
      "image/png": {
       "height": 420,
       "width": 420
      }
     },
     "output_type": "display_data"
    }
   ],
   "source": [
    "train$predicted = preds\n",
    "\n",
    "ggplot(train, aes(x = charges, y = predicted)) +\n",
    "  geom_point(color = \"blue\") +\n",
    "  geom_abline(intercept = 0, slope = 1, color = \"red\") +\n",
    "  theme_minimal() +\n",
    "  labs(title = \"Actual vs Predicted (Train)\", x = \"Actual Charges\", y = \"Predicted Charges\")"
   ]
  },
  {
   "cell_type": "code",
   "execution_count": 61,
   "id": "cbcabbaa-7e4e-43c0-a4c6-0806a8afecce",
   "metadata": {},
   "outputs": [
    {
     "data": {
      "text/html": [
       "<table class=\"dataframe\">\n",
       "<caption>A data.frame: 6 × 8</caption>\n",
       "<thead>\n",
       "\t<tr><th></th><th scope=col>age</th><th scope=col>sex</th><th scope=col>bmi</th><th scope=col>children</th><th scope=col>smoker</th><th scope=col>region</th><th scope=col>charges</th><th scope=col>predicted</th></tr>\n",
       "\t<tr><th></th><th scope=col>&lt;int&gt;</th><th scope=col>&lt;fct&gt;</th><th scope=col>&lt;dbl&gt;</th><th scope=col>&lt;int&gt;</th><th scope=col>&lt;fct&gt;</th><th scope=col>&lt;fct&gt;</th><th scope=col>&lt;dbl&gt;</th><th scope=col>&lt;dbl&gt;</th></tr>\n",
       "</thead>\n",
       "<tbody>\n",
       "\t<tr><th scope=row>1333</th><td>52</td><td>female</td><td>44.70</td><td>3</td><td>no </td><td>southwest</td><td>11411.685</td><td>16982.192</td></tr>\n",
       "\t<tr><th scope=row>1334</th><td>50</td><td>male  </td><td>30.97</td><td>3</td><td>no </td><td>northwest</td><td>10600.548</td><td>12734.809</td></tr>\n",
       "\t<tr><th scope=row>1335</th><td>18</td><td>female</td><td>31.92</td><td>0</td><td>no </td><td>northeast</td><td> 2205.981</td><td> 3196.834</td></tr>\n",
       "\t<tr><th scope=row>1336</th><td>18</td><td>female</td><td>36.85</td><td>0</td><td>no </td><td>southeast</td><td> 1629.833</td><td> 3797.721</td></tr>\n",
       "\t<tr><th scope=row>1337</th><td>21</td><td>female</td><td>25.80</td><td>0</td><td>no </td><td>southwest</td><td> 2007.945</td><td> 1298.790</td></tr>\n",
       "\t<tr><th scope=row>1338</th><td>61</td><td>female</td><td>29.07</td><td>0</td><td>yes</td><td>northwest</td><td>29141.360</td><td>37254.647</td></tr>\n",
       "</tbody>\n",
       "</table>\n"
      ],
      "text/latex": [
       "A data.frame: 6 × 8\n",
       "\\begin{tabular}{r|llllllll}\n",
       "  & age & sex & bmi & children & smoker & region & charges & predicted\\\\\n",
       "  & <int> & <fct> & <dbl> & <int> & <fct> & <fct> & <dbl> & <dbl>\\\\\n",
       "\\hline\n",
       "\t1333 & 52 & female & 44.70 & 3 & no  & southwest & 11411.685 & 16982.192\\\\\n",
       "\t1334 & 50 & male   & 30.97 & 3 & no  & northwest & 10600.548 & 12734.809\\\\\n",
       "\t1335 & 18 & female & 31.92 & 0 & no  & northeast &  2205.981 &  3196.834\\\\\n",
       "\t1336 & 18 & female & 36.85 & 0 & no  & southeast &  1629.833 &  3797.721\\\\\n",
       "\t1337 & 21 & female & 25.80 & 0 & no  & southwest &  2007.945 &  1298.790\\\\\n",
       "\t1338 & 61 & female & 29.07 & 0 & yes & northwest & 29141.360 & 37254.647\\\\\n",
       "\\end{tabular}\n"
      ],
      "text/markdown": [
       "\n",
       "A data.frame: 6 × 8\n",
       "\n",
       "| <!--/--> | age &lt;int&gt; | sex &lt;fct&gt; | bmi &lt;dbl&gt; | children &lt;int&gt; | smoker &lt;fct&gt; | region &lt;fct&gt; | charges &lt;dbl&gt; | predicted &lt;dbl&gt; |\n",
       "|---|---|---|---|---|---|---|---|---|\n",
       "| 1333 | 52 | female | 44.70 | 3 | no  | southwest | 11411.685 | 16982.192 |\n",
       "| 1334 | 50 | male   | 30.97 | 3 | no  | northwest | 10600.548 | 12734.809 |\n",
       "| 1335 | 18 | female | 31.92 | 0 | no  | northeast |  2205.981 |  3196.834 |\n",
       "| 1336 | 18 | female | 36.85 | 0 | no  | southeast |  1629.833 |  3797.721 |\n",
       "| 1337 | 21 | female | 25.80 | 0 | no  | southwest |  2007.945 |  1298.790 |\n",
       "| 1338 | 61 | female | 29.07 | 0 | yes | northwest | 29141.360 | 37254.647 |\n",
       "\n"
      ],
      "text/plain": [
       "     age sex    bmi   children smoker region    charges   predicted\n",
       "1333 52  female 44.70 3        no     southwest 11411.685 16982.192\n",
       "1334 50  male   30.97 3        no     northwest 10600.548 12734.809\n",
       "1335 18  female 31.92 0        no     northeast  2205.981  3196.834\n",
       "1336 18  female 36.85 0        no     southeast  1629.833  3797.721\n",
       "1337 21  female 25.80 0        no     southwest  2007.945  1298.790\n",
       "1338 61  female 29.07 0        yes    northwest 29141.360 37254.647"
      ]
     },
     "metadata": {},
     "output_type": "display_data"
    }
   ],
   "source": [
    "View(tail(train))"
   ]
  },
  {
   "cell_type": "markdown",
   "id": "447058ec-4b8f-4431-80bf-92cf7a951175",
   "metadata": {},
   "source": [
    "### Evaluate the Model on Test Data\n",
    "We use the model to predict `charges` for the test set and compute common regression metrics."
   ]
  },
  {
   "cell_type": "code",
   "execution_count": 64,
   "id": "65269bda-bb85-48aa-92be-8d778a4e61aa",
   "metadata": {},
   "outputs": [
    {
     "name": "stdout",
     "output_type": "stream",
     "text": [
      "MSE: 31854668 \n",
      "MAE: 4064.828 \n",
      "RMSE: 5643.994 \n",
      "R2 Score: 0.7983818 \n"
     ]
    }
   ],
   "source": [
    "predictions <- predict(model, newdata = test)\n",
    "mse_val <- mse(test$charges, predictions)\n",
    "mae_val <- mae(test$charges, predictions)\n",
    "rmse_val <- rmse(test$charges, predictions)\n",
    "r2_val <- R2(predictions, test$charges)  # from caret\n",
    "\n",
    "cat(\"MSE:\", mse_val, \"\\n\")\n",
    "cat(\"MAE:\", mae_val, \"\\n\")\n",
    "cat(\"RMSE:\", rmse_val, \"\\n\")\n",
    "cat(\"R2 Score:\", r2_val, \"\\n\")"
   ]
  },
  {
   "cell_type": "markdown",
   "id": "c920e3ff-c6a0-4367-bd47-f75182fcad2f",
   "metadata": {},
   "source": [
    "### Make a Prediction (Inference)\n",
    "Now we can use the trained model to predict charges for a new individual."
   ]
  },
  {
   "cell_type": "code",
   "execution_count": 67,
   "id": "5208f2e2-f51f-4457-95ad-120fe2bb8ac2",
   "metadata": {},
   "outputs": [
    {
     "name": "stdout",
     "output_type": "stream",
     "text": [
      "Predicted Insurance Charge: 32531.57 \n"
     ]
    }
   ],
   "source": [
    "new_person <- data.frame(\n",
    "  age = 40,\n",
    "  sex = \"male\",\n",
    "  bmi = 30,\n",
    "  children = 2,\n",
    "  smoker = \"yes\",\n",
    "  region = \"southeast\"\n",
    ")\n",
    "\n",
    "new_person$sex <- as.factor(new_person$sex)\n",
    "new_person$smoker <- as.factor(new_person$smoker)\n",
    "new_person$region <- as.factor(new_person$region)\n",
    "\n",
    "predicted_charge <- predict(model, newdata = new_person)\n",
    "cat(\"Predicted Insurance Charge:\", predicted_charge, \"\\n\")"
   ]
  },
  {
   "cell_type": "markdown",
   "id": "04c8766c-ff8b-4dd5-b7d0-cb04e58b73d2",
   "metadata": {},
   "source": [
    "### Improving the model\n",
    "In this section we are going to use different techniques to improve the model.\n",
    "\n",
    "#### 1. Polynomial Features\n",
    "- Polynomial features let the model capture non-linear relationships between predictors and the response."
   ]
  },
  {
   "cell_type": "code",
   "execution_count": 70,
   "id": "addbe6bb-0889-4093-bce6-ae51d49128f8",
   "metadata": {},
   "outputs": [
    {
     "data": {
      "text/plain": [
       "\n",
       "Call:\n",
       "lm(formula = charges ~ age + sex + bmi + bmi2 + children + smoker + \n",
       "    region, data = train)\n",
       "\n",
       "Residuals:\n",
       "   Min     1Q Median     3Q    Max \n",
       "-11075  -2952  -1340   1454  29415 \n",
       "\n",
       "Coefficients:\n",
       "                  Estimate Std. Error t value Pr(>|t|)    \n",
       "(Intercept)     -18173.084   3697.865  -4.914 1.03e-06 ***\n",
       "age                263.549     13.535  19.472  < 2e-16 ***\n",
       "sexmale             13.993    378.166   0.037 0.970489    \n",
       "bmi                761.969    237.928   3.203 0.001403 ** \n",
       "bmi2                -7.237      3.751  -1.929 0.053959 .  \n",
       "children           555.829    152.452   3.646 0.000279 ***\n",
       "smokeryes        23890.277    478.452  49.932  < 2e-16 ***\n",
       "regionnorthwest   -411.346    533.655  -0.771 0.440991    \n",
       "regionsoutheast   -875.823    543.494  -1.611 0.107375    \n",
       "regionsouthwest   -860.559    539.925  -1.594 0.111267    \n",
       "---\n",
       "Signif. codes:  0 '***' 0.001 '**' 0.01 '*' 0.05 '.' 0.1 ' ' 1\n",
       "\n",
       "Residual standard error: 6163 on 1062 degrees of freedom\n",
       "Multiple R-squared:  0.7393,\tAdjusted R-squared:  0.7371 \n",
       "F-statistic: 334.7 on 9 and 1062 DF,  p-value: < 2.2e-16\n"
      ]
     },
     "metadata": {},
     "output_type": "display_data"
    }
   ],
   "source": [
    "train$bmi2 <- train$bmi^2\n",
    "test$bmi2 <- test$bmi^2\n",
    "\n",
    "model_poly <- lm(charges ~ age + sex + bmi + bmi2 + children + smoker + region, data = train)\n",
    "summary(model_poly)"
   ]
  },
  {
   "cell_type": "code",
   "execution_count": 72,
   "id": "5b908df4-1e65-4cb4-b142-8e617e92d65e",
   "metadata": {},
   "outputs": [
    {
     "name": "stdout",
     "output_type": "stream",
     "text": [
      "MSE: 31710954 \n",
      "MAE: 4136.667 \n",
      "RMSE: 5631.248 \n",
      "R2 Score: 0.7992524 \n"
     ]
    }
   ],
   "source": [
    "predictions <- predict(model_poly, newdata = test)\n",
    "mse_val <- mse(test$charges, predictions)\n",
    "mae_val <- mae(test$charges, predictions)\n",
    "rmse_val <- rmse(test$charges, predictions)\n",
    "r2_val <- R2(predictions, test$charges)  # from caret\n",
    "\n",
    "cat(\"MSE:\", mse_val, \"\\n\")\n",
    "cat(\"MAE:\", mae_val, \"\\n\")\n",
    "cat(\"RMSE:\", rmse_val, \"\\n\")\n",
    "cat(\"R2 Score:\", r2_val, \"\\n\")"
   ]
  },
  {
   "cell_type": "markdown",
   "id": "5cc1f157-eeba-49d3-a468-933a239280d3",
   "metadata": {},
   "source": [
    "Our model was able to improve the `R2 score` from `0.7983818` to `0.7992524`"
   ]
  },
  {
   "cell_type": "markdown",
   "id": "25a57516-a1a6-4b3a-8c79-15e72e500f57",
   "metadata": {},
   "source": [
    "#### 2. Interaction Terms\n",
    "Interaction terms let you model cases where the effect of one variable depends on another."
   ]
  },
  {
   "cell_type": "code",
   "execution_count": 87,
   "id": "4ccca71b-0898-453e-8e45-db36d7dad91c",
   "metadata": {},
   "outputs": [
    {
     "data": {
      "text/plain": [
       "\n",
       "Call:\n",
       "lm(formula = charges ~ age + sex + bmi * smoker + children + \n",
       "    region, data = train)\n",
       "\n",
       "Residuals:\n",
       "     Min       1Q   Median       3Q      Max \n",
       "-14598.9  -1979.1  -1473.6   -588.7  30365.0 \n",
       "\n",
       "Coefficients:\n",
       "                  Estimate Std. Error t value Pr(>|t|)    \n",
       "(Intercept)      -1789.713   1008.400  -1.775   0.0762 .  \n",
       "age                266.966     10.994  24.283  < 2e-16 ***\n",
       "sexmale           -489.714    308.464  -1.588   0.1127    \n",
       "bmi                  4.289     29.353   0.146   0.8838    \n",
       "smokeryes       -20843.320   1950.290 -10.687  < 2e-16 ***\n",
       "children           547.782    124.048   4.416 1.11e-05 ***\n",
       "regionnorthwest   -493.224    433.249  -1.138   0.2552    \n",
       "regionsoutheast  -1020.944    441.990  -2.310   0.0211 *  \n",
       "regionsouthwest  -1068.299    439.034  -2.433   0.0151 *  \n",
       "bmi:smokeryes     1456.779     62.259  23.399  < 2e-16 ***\n",
       "---\n",
       "Signif. codes:  0 '***' 0.001 '**' 0.01 '*' 0.05 '.' 0.1 ' ' 1\n",
       "\n",
       "Residual standard error: 5015 on 1062 degrees of freedom\n",
       "Multiple R-squared:  0.8274,\tAdjusted R-squared:  0.8259 \n",
       "F-statistic: 565.6 on 9 and 1062 DF,  p-value: < 2.2e-16\n"
      ]
     },
     "metadata": {},
     "output_type": "display_data"
    }
   ],
   "source": [
    "model_interact <- lm(charges ~ age + sex + bmi * smoker + children + region, data = train)\n",
    "summary(model_interact)"
   ]
  },
  {
   "cell_type": "code",
   "execution_count": 89,
   "id": "92792025-a381-41a8-b77f-6ed9621e1020",
   "metadata": {},
   "outputs": [
    {
     "name": "stdout",
     "output_type": "stream",
     "text": [
      "MSE: 17025633 \n",
      "MAE: 2748.109 \n",
      "RMSE: 4126.213 \n",
      "R2 Score: 0.8930703 \n"
     ]
    }
   ],
   "source": [
    "predictions <- predict(model_interact, newdata = test)\n",
    "mse_val <- mse(test$charges, predictions)\n",
    "mae_val <- mae(test$charges, predictions)\n",
    "rmse_val <- rmse(test$charges, predictions)\n",
    "r2_val <- R2(predictions, test$charges)  # from caret\n",
    "\n",
    "cat(\"MSE:\", mse_val, \"\\n\")\n",
    "cat(\"MAE:\", mae_val, \"\\n\")\n",
    "cat(\"RMSE:\", rmse_val, \"\\n\")\n",
    "cat(\"R2 Score:\", r2_val, \"\\n\")"
   ]
  },
  {
   "cell_type": "markdown",
   "id": "0a0ec9ff-7039-4ab1-88b9-73151b9f5407",
   "metadata": {},
   "source": [
    "Our model was able to improve the `R2 score` from `0.7983818` to `0.8930703` this shows that Interaction Terms helped us to improve the model."
   ]
  },
  {
   "cell_type": "markdown",
   "id": "15d2f1ef-e056-4282-b835-0fd0a3688fb1",
   "metadata": {},
   "source": [
    "#### 3. One-Hot Encoding\n",
    "In `lm()`, R already handles categorical variables `(factor)` by default using dummy `(one-hot)` encoding.\n",
    "\n",
    "But if we want full control or to prepare for other ML models, we use `model.matrix()`:"
   ]
  },
  {
   "cell_type": "code",
   "execution_count": 124,
   "id": "c617c799-3bac-4121-9a71-38c27208e459",
   "metadata": {},
   "outputs": [],
   "source": [
    "data <- read.csv(\"insurance.csv\", stringsAsFactors=T)\n",
    "\n",
    "train_index <- createDataPartition(data$charges, p = 0.8, list = FALSE)\n",
    "train <- data[train_index, ]\n",
    "test <- data[-train_index, ]\n",
    "\n",
    "# One-hot encode all factors\n",
    "train_matrix <- model.matrix(charges ~ ., data = train)[, -1]  # remove intercept\n",
    "test_matrix <- model.matrix(charges ~ ., data = test)[, -1]\n",
    "\n",
    "train_df <- as.data.frame(train_matrix)\n",
    "train_df$charges <- train$charges\n",
    "\n",
    "test_df <- as.data.frame(test_matrix)\n",
    "test_df$charges <- test$charges"
   ]
  },
  {
   "cell_type": "markdown",
   "id": "a9342afb-379a-4738-a736-463d7f658cd3",
   "metadata": {},
   "source": [
    "Next we are going to train the model."
   ]
  },
  {
   "cell_type": "code",
   "execution_count": 127,
   "id": "8ea187f4-2536-45d9-aafb-cbb4fb41b304",
   "metadata": {},
   "outputs": [
    {
     "data": {
      "text/plain": [
       "\n",
       "Call:\n",
       "lm(formula = charges ~ ., data = train_df)\n",
       "\n",
       "Residuals:\n",
       "     Min       1Q   Median       3Q      Max \n",
       "-16340.9  -2858.5  -1450.1    717.5  25608.2 \n",
       "\n",
       "Coefficients:\n",
       "                Estimate Std. Error t value Pr(>|t|)    \n",
       "(Intercept)     -4459.96    2486.11  -1.794   0.0740 .  \n",
       "age               238.09      29.48   8.075 2.61e-14 ***\n",
       "sexmale           277.22     824.67   0.336   0.7370    \n",
       "bmi               141.63      71.68   1.976   0.0492 *  \n",
       "children          598.34     345.26   1.733   0.0843 .  \n",
       "smokeryes       26790.14    1099.52  24.365  < 2e-16 ***\n",
       "regionnorthwest -1843.39    1252.72  -1.472   0.1424    \n",
       "regionsoutheast  -636.67    1232.64  -0.517   0.6059    \n",
       "regionsouthwest -2226.64    1228.09  -1.813   0.0710 .  \n",
       "---\n",
       "Signif. codes:  0 '***' 0.001 '**' 0.01 '*' 0.05 '.' 0.1 ' ' 1\n",
       "\n",
       "Residual standard error: 6657 on 257 degrees of freedom\n",
       "Multiple R-squared:  0.7457,\tAdjusted R-squared:  0.7378 \n",
       "F-statistic: 94.22 on 8 and 257 DF,  p-value: < 2.2e-16\n"
      ]
     },
     "metadata": {},
     "output_type": "display_data"
    }
   ],
   "source": [
    "train_df <- as.data.frame(test_df)\n",
    "model_ohe <- lm(charges ~ ., data = train_df)\n",
    "summary(model_ohe)"
   ]
  },
  {
   "cell_type": "code",
   "execution_count": 129,
   "id": "e5148311-ef92-4791-b75f-e500a36aa4cc",
   "metadata": {},
   "outputs": [
    {
     "name": "stdout",
     "output_type": "stream",
     "text": [
      "MSE: 42821716 \n",
      "MAE: 4263.045 \n",
      "RMSE: 6543.83 \n",
      "R2 Score: 0.745741 \n"
     ]
    }
   ],
   "source": [
    "predictions <- predict(model_ohe, newdata =  test_df)\n",
    "mse_val <- mse(test$charges, predictions)\n",
    "mae_val <- mae(test$charges, predictions)\n",
    "rmse_val <- rmse(test$charges, predictions)\n",
    "r2_val <- R2(predictions, test$charges)  # from caret\n",
    "\n",
    "cat(\"MSE:\", mse_val, \"\\n\")\n",
    "cat(\"MAE:\", mae_val, \"\\n\")\n",
    "cat(\"RMSE:\", rmse_val, \"\\n\")\n",
    "cat(\"R2 Score:\", r2_val, \"\\n\")"
   ]
  },
  {
   "cell_type": "markdown",
   "id": "d188ff73-c3e0-40e5-8eb7-b503e42b7478",
   "metadata": {},
   "source": [
    "Our model was able to improve the `R2 score` from `0.7983818` to `0.745741`.\n",
    "\n",
    "\n",
    "### 4. Regularization (Ridge / Lasso)\n",
    "Ridge and Lasso regressions are great for:\n",
    "1. Preventing overfitting\n",
    "2. Handling multicollinearity\n",
    "3. Feature selection (Lasso)\n",
    "   \n",
    "We'll use the glmnet package."
   ]
  },
  {
   "cell_type": "code",
   "execution_count": 122,
   "id": "eb85f19d-9b52-407b-8093-0582e8dba001",
   "metadata": {},
   "outputs": [
    {
     "name": "stderr",
     "output_type": "stream",
     "text": [
      "Installing package into 'C:/Users/crisp/AppData/Local/R/win-library/4.4'\n",
      "(as 'lib' is unspecified)\n",
      "\n",
      "also installing the dependency 'RcppEigen'\n",
      "\n",
      "\n",
      "Warning message:\n",
      "\"unable to access index for repository http://www.stats.ox.ac.uk/pub/RWin/bin/windows/contrib/4.4:\n",
      "  cannot open URL 'http://www.stats.ox.ac.uk/pub/RWin/bin/windows/contrib/4.4/PACKAGES'\"\n"
     ]
    },
    {
     "name": "stdout",
     "output_type": "stream",
     "text": [
      "package 'RcppEigen' successfully unpacked and MD5 sums checked\n",
      "package 'glmnet' successfully unpacked and MD5 sums checked\n",
      "\n",
      "The downloaded binary packages are in\n",
      "\tC:\\Users\\crisp\\AppData\\Local\\Temp\\Rtmp0k8Lyv\\downloaded_packages\n"
     ]
    },
    {
     "name": "stderr",
     "output_type": "stream",
     "text": [
      "\n",
      "glmnet installed\n",
      "\n",
      "Warning message:\n",
      "\"package 'glmnet' was built under R version 4.4.3\"\n"
     ]
    }
   ],
   "source": [
    "pacman::p_load(pacman, glmnet)"
   ]
  },
  {
   "cell_type": "code",
   "execution_count": 132,
   "id": "bdbb82ac-4e6d-4cbe-b1dd-65d315400f21",
   "metadata": {},
   "outputs": [],
   "source": [
    "x_train <- model.matrix(charges ~ ., train)[, -1]\n",
    "y_train <- train$charges\n",
    "\n",
    "x_test <- model.matrix(charges ~ ., test)[, -1]\n",
    "y_test <- test$charges"
   ]
  },
  {
   "cell_type": "markdown",
   "id": "2a6d9613-b53c-431f-aa04-06edab057b00",
   "metadata": {},
   "source": [
    "- Fit Ridge Regression `(alpha = 0)`, Lasso `(alpha = 1)`"
   ]
  },
  {
   "cell_type": "code",
   "execution_count": 136,
   "id": "288f3568-b268-4082-9f6e-0b339246ddfc",
   "metadata": {},
   "outputs": [],
   "source": [
    "ridge_model <- glmnet(x_train, y_train, alpha = 0)\n",
    "lasso_model <- glmnet(x_train, y_train, alpha = 1)"
   ]
  },
  {
   "cell_type": "markdown",
   "id": "7bf6d2de-e257-49c2-bb26-e01d64004c53",
   "metadata": {},
   "source": [
    "- Cross-validation to find best lambda"
   ]
  },
  {
   "cell_type": "code",
   "execution_count": 142,
   "id": "fbf5963d-8bd5-4521-984b-00c6e7f8c6b4",
   "metadata": {},
   "outputs": [],
   "source": [
    "cv_ridge <- cv.glmnet(x_train, y_train, alpha = 0)\n",
    "cv_lasso <- cv.glmnet(x_train, y_train, alpha = 1)"
   ]
  },
  {
   "cell_type": "markdown",
   "id": "ea9bbc71-5af3-4eb9-96c1-8a770aada22a",
   "metadata": {},
   "source": [
    "- Printing the best `lambda`"
   ]
  },
  {
   "cell_type": "code",
   "execution_count": 145,
   "id": "028ccb6f-78ff-45f5-88d4-10f3167c9fe7",
   "metadata": {},
   "outputs": [
    {
     "name": "stdout",
     "output_type": "stream",
     "text": [
      "[1] 932.7267\n",
      "[1] 67.35041\n"
     ]
    }
   ],
   "source": [
    "print(cv_ridge$lambda.min)\n",
    "print(cv_lasso$lambda.min)"
   ]
  },
  {
   "cell_type": "markdown",
   "id": "466b367e-75b4-42cc-a68d-8e04264f188a",
   "metadata": {},
   "source": [
    "- Predict on test set using best lambda"
   ]
  },
  {
   "cell_type": "code",
   "execution_count": 148,
   "id": "ea48fbf5-bd23-48bc-965c-ec729d759a60",
   "metadata": {},
   "outputs": [],
   "source": [
    "ridge_pred <- predict(cv_ridge, s = cv_ridge$lambda.min, newx = x_test)\n",
    "lasso_pred <- predict(cv_lasso, s = cv_lasso$lambda.min, newx = x_test)"
   ]
  },
  {
   "cell_type": "markdown",
   "id": "089ba673-e670-4feb-a18a-5d6cafa6c13c",
   "metadata": {},
   "source": [
    "Here are the metrics for using the `Ridge`."
   ]
  },
  {
   "cell_type": "code",
   "execution_count": 150,
   "id": "9c5cf701-5dcd-45d9-a544-54740aca5be4",
   "metadata": {},
   "outputs": [
    {
     "name": "stdout",
     "output_type": "stream",
     "text": [
      "MSE: 49427464 \n",
      "MAE: 4781.037 \n",
      "RMSE: 7030.467 \n",
      "R2 Score: 0.7242421 \n"
     ]
    }
   ],
   "source": [
    "mse_val <- mse(test$charges, ridge_pred)\n",
    "mae_val <- mae(test$charges, ridge_pred)\n",
    "rmse_val <- rmse(test$charges, ridge_pred)\n",
    "r2_val <- R2(ridge_pred, test$charges)  \n",
    "\n",
    "cat(\"MSE:\", mse_val, \"\\n\")\n",
    "cat(\"MAE:\", mae_val, \"\\n\")\n",
    "cat(\"RMSE:\", rmse_val, \"\\n\")\n",
    "cat(\"R2 Score:\", r2_val, \"\\n\")"
   ]
  },
  {
   "cell_type": "markdown",
   "id": "5fb67f98-09b3-48ff-b619-71d60a85afef",
   "metadata": {},
   "source": [
    "Here are the metrics for using the `Lasso`."
   ]
  },
  {
   "cell_type": "code",
   "execution_count": 152,
   "id": "ba17100e-2162-47bd-b97c-cc09ad0a1fd7",
   "metadata": {},
   "outputs": [
    {
     "name": "stdout",
     "output_type": "stream",
     "text": [
      "MSE: 47856201 \n",
      "MAE: 4644.566 \n",
      "RMSE: 6917.818 \n",
      "R2 Score: 0.7255175 \n"
     ]
    }
   ],
   "source": [
    "mse_val <- mse(test$charges, lasso_pred)\n",
    "mae_val <- mae(test$charges, lasso_pred)\n",
    "rmse_val <- rmse(test$charges, lasso_pred)\n",
    "r2_val <- R2(lasso_pred, test$charges)  \n",
    "\n",
    "cat(\"MSE:\", mse_val, \"\\n\")\n",
    "cat(\"MAE:\", mae_val, \"\\n\")\n",
    "cat(\"RMSE:\", rmse_val, \"\\n\")\n",
    "cat(\"R2 Score:\", r2_val, \"\\n\")"
   ]
  },
  {
   "cell_type": "code",
   "execution_count": null,
   "id": "d7b366fe-f450-4114-82b4-1866b9bca138",
   "metadata": {},
   "outputs": [],
   "source": []
  }
 ],
 "metadata": {
  "kernelspec": {
   "display_name": "R",
   "language": "R",
   "name": "ir"
  },
  "language_info": {
   "codemirror_mode": "r",
   "file_extension": ".r",
   "mimetype": "text/x-r-source",
   "name": "R",
   "pygments_lexer": "r",
   "version": "4.4.2"
  }
 },
 "nbformat": 4,
 "nbformat_minor": 5
}
