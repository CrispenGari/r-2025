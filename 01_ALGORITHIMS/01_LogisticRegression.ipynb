{
 "cells": [
  {
   "cell_type": "markdown",
   "id": "60f49006-0416-460f-88d6-376b54146c36",
   "metadata": {},
   "source": [
    "### Logistic Regression\n",
    "\n",
    "In this notebook we are going to use the buildin dataset to create a logistic model that does binary classification.\n",
    "\n",
    "First we are going to start by loading the data as follows:"
   ]
  },
  {
   "cell_type": "code",
   "execution_count": 2,
   "id": "fb1da42e-c9aa-4738-9496-ad5d647bd4c6",
   "metadata": {},
   "outputs": [
    {
     "data": {
      "text/html": [
       "<table class=\"dataframe\">\n",
       "<caption>A data.frame: 6 × 11</caption>\n",
       "<thead>\n",
       "\t<tr><th></th><th scope=col>mpg</th><th scope=col>cyl</th><th scope=col>disp</th><th scope=col>hp</th><th scope=col>drat</th><th scope=col>wt</th><th scope=col>qsec</th><th scope=col>vs</th><th scope=col>am</th><th scope=col>gear</th><th scope=col>carb</th></tr>\n",
       "\t<tr><th></th><th scope=col>&lt;dbl&gt;</th><th scope=col>&lt;dbl&gt;</th><th scope=col>&lt;dbl&gt;</th><th scope=col>&lt;dbl&gt;</th><th scope=col>&lt;dbl&gt;</th><th scope=col>&lt;dbl&gt;</th><th scope=col>&lt;dbl&gt;</th><th scope=col>&lt;dbl&gt;</th><th scope=col>&lt;dbl&gt;</th><th scope=col>&lt;dbl&gt;</th><th scope=col>&lt;dbl&gt;</th></tr>\n",
       "</thead>\n",
       "<tbody>\n",
       "\t<tr><th scope=row>Mazda RX4</th><td>21.0</td><td>6</td><td>160</td><td>110</td><td>3.90</td><td>2.620</td><td>16.46</td><td>0</td><td>1</td><td>4</td><td>4</td></tr>\n",
       "\t<tr><th scope=row>Mazda RX4 Wag</th><td>21.0</td><td>6</td><td>160</td><td>110</td><td>3.90</td><td>2.875</td><td>17.02</td><td>0</td><td>1</td><td>4</td><td>4</td></tr>\n",
       "\t<tr><th scope=row>Datsun 710</th><td>22.8</td><td>4</td><td>108</td><td> 93</td><td>3.85</td><td>2.320</td><td>18.61</td><td>1</td><td>1</td><td>4</td><td>1</td></tr>\n",
       "\t<tr><th scope=row>Hornet 4 Drive</th><td>21.4</td><td>6</td><td>258</td><td>110</td><td>3.08</td><td>3.215</td><td>19.44</td><td>1</td><td>0</td><td>3</td><td>1</td></tr>\n",
       "\t<tr><th scope=row>Hornet Sportabout</th><td>18.7</td><td>8</td><td>360</td><td>175</td><td>3.15</td><td>3.440</td><td>17.02</td><td>0</td><td>0</td><td>3</td><td>2</td></tr>\n",
       "\t<tr><th scope=row>Valiant</th><td>18.1</td><td>6</td><td>225</td><td>105</td><td>2.76</td><td>3.460</td><td>20.22</td><td>1</td><td>0</td><td>3</td><td>1</td></tr>\n",
       "</tbody>\n",
       "</table>\n"
      ],
      "text/latex": [
       "A data.frame: 6 × 11\n",
       "\\begin{tabular}{r|lllllllllll}\n",
       "  & mpg & cyl & disp & hp & drat & wt & qsec & vs & am & gear & carb\\\\\n",
       "  & <dbl> & <dbl> & <dbl> & <dbl> & <dbl> & <dbl> & <dbl> & <dbl> & <dbl> & <dbl> & <dbl>\\\\\n",
       "\\hline\n",
       "\tMazda RX4 & 21.0 & 6 & 160 & 110 & 3.90 & 2.620 & 16.46 & 0 & 1 & 4 & 4\\\\\n",
       "\tMazda RX4 Wag & 21.0 & 6 & 160 & 110 & 3.90 & 2.875 & 17.02 & 0 & 1 & 4 & 4\\\\\n",
       "\tDatsun 710 & 22.8 & 4 & 108 &  93 & 3.85 & 2.320 & 18.61 & 1 & 1 & 4 & 1\\\\\n",
       "\tHornet 4 Drive & 21.4 & 6 & 258 & 110 & 3.08 & 3.215 & 19.44 & 1 & 0 & 3 & 1\\\\\n",
       "\tHornet Sportabout & 18.7 & 8 & 360 & 175 & 3.15 & 3.440 & 17.02 & 0 & 0 & 3 & 2\\\\\n",
       "\tValiant & 18.1 & 6 & 225 & 105 & 2.76 & 3.460 & 20.22 & 1 & 0 & 3 & 1\\\\\n",
       "\\end{tabular}\n"
      ],
      "text/markdown": [
       "\n",
       "A data.frame: 6 × 11\n",
       "\n",
       "| <!--/--> | mpg &lt;dbl&gt; | cyl &lt;dbl&gt; | disp &lt;dbl&gt; | hp &lt;dbl&gt; | drat &lt;dbl&gt; | wt &lt;dbl&gt; | qsec &lt;dbl&gt; | vs &lt;dbl&gt; | am &lt;dbl&gt; | gear &lt;dbl&gt; | carb &lt;dbl&gt; |\n",
       "|---|---|---|---|---|---|---|---|---|---|---|---|\n",
       "| Mazda RX4 | 21.0 | 6 | 160 | 110 | 3.90 | 2.620 | 16.46 | 0 | 1 | 4 | 4 |\n",
       "| Mazda RX4 Wag | 21.0 | 6 | 160 | 110 | 3.90 | 2.875 | 17.02 | 0 | 1 | 4 | 4 |\n",
       "| Datsun 710 | 22.8 | 4 | 108 |  93 | 3.85 | 2.320 | 18.61 | 1 | 1 | 4 | 1 |\n",
       "| Hornet 4 Drive | 21.4 | 6 | 258 | 110 | 3.08 | 3.215 | 19.44 | 1 | 0 | 3 | 1 |\n",
       "| Hornet Sportabout | 18.7 | 8 | 360 | 175 | 3.15 | 3.440 | 17.02 | 0 | 0 | 3 | 2 |\n",
       "| Valiant | 18.1 | 6 | 225 | 105 | 2.76 | 3.460 | 20.22 | 1 | 0 | 3 | 1 |\n",
       "\n"
      ],
      "text/plain": [
       "                  mpg  cyl disp hp  drat wt    qsec  vs am gear carb\n",
       "Mazda RX4         21.0 6   160  110 3.90 2.620 16.46 0  1  4    4   \n",
       "Mazda RX4 Wag     21.0 6   160  110 3.90 2.875 17.02 0  1  4    4   \n",
       "Datsun 710        22.8 4   108   93 3.85 2.320 18.61 1  1  4    1   \n",
       "Hornet 4 Drive    21.4 6   258  110 3.08 3.215 19.44 1  0  3    1   \n",
       "Hornet Sportabout 18.7 8   360  175 3.15 3.440 17.02 0  0  3    2   \n",
       "Valiant           18.1 6   225  105 2.76 3.460 20.22 1  0  3    1   "
      ]
     },
     "metadata": {},
     "output_type": "display_data"
    }
   ],
   "source": [
    "data(mtcars)\n",
    "View(head(mtcars))"
   ]
  },
  {
   "cell_type": "markdown",
   "id": "ce92a4dd-f374-482e-b7b9-1c24b64b7da1",
   "metadata": {},
   "source": [
    "### Convert Target Variable to Factor\n",
    "Logistic regression expects the outcome to be a factor (i.e., categorical):"
   ]
  },
  {
   "cell_type": "code",
   "execution_count": 5,
   "id": "7afeb22f-22b6-4240-a039-e939e97e87e4",
   "metadata": {},
   "outputs": [],
   "source": [
    "mtcars$am <- as.factor(mtcars$am)"
   ]
  },
  {
   "cell_type": "markdown",
   "id": "dac90ca7-62cb-4f9c-a8d0-35bacdf4bbf3",
   "metadata": {},
   "source": [
    "### Check for Missing Values\n",
    "In the following code cell we are going to check if there are any missing values."
   ]
  },
  {
   "cell_type": "code",
   "execution_count": 8,
   "id": "7682e36c-0bde-44b8-a4f9-fb0a12208d16",
   "metadata": {},
   "outputs": [
    {
     "data": {
      "text/html": [
       "<style>\n",
       ".dl-inline {width: auto; margin:0; padding: 0}\n",
       ".dl-inline>dt, .dl-inline>dd {float: none; width: auto; display: inline-block}\n",
       ".dl-inline>dt::after {content: \":\\0020\"; padding-right: .5ex}\n",
       ".dl-inline>dt:not(:first-of-type) {padding-left: .5ex}\n",
       "</style><dl class=dl-inline><dt>mpg</dt><dd>0</dd><dt>cyl</dt><dd>0</dd><dt>disp</dt><dd>0</dd><dt>hp</dt><dd>0</dd><dt>drat</dt><dd>0</dd><dt>wt</dt><dd>0</dd><dt>qsec</dt><dd>0</dd><dt>vs</dt><dd>0</dd><dt>am</dt><dd>0</dd><dt>gear</dt><dd>0</dd><dt>carb</dt><dd>0</dd></dl>\n"
      ],
      "text/latex": [
       "\\begin{description*}\n",
       "\\item[mpg] 0\n",
       "\\item[cyl] 0\n",
       "\\item[disp] 0\n",
       "\\item[hp] 0\n",
       "\\item[drat] 0\n",
       "\\item[wt] 0\n",
       "\\item[qsec] 0\n",
       "\\item[vs] 0\n",
       "\\item[am] 0\n",
       "\\item[gear] 0\n",
       "\\item[carb] 0\n",
       "\\end{description*}\n"
      ],
      "text/markdown": [
       "mpg\n",
       ":   0cyl\n",
       ":   0disp\n",
       ":   0hp\n",
       ":   0drat\n",
       ":   0wt\n",
       ":   0qsec\n",
       ":   0vs\n",
       ":   0am\n",
       ":   0gear\n",
       ":   0carb\n",
       ":   0\n",
       "\n"
      ],
      "text/plain": [
       " mpg  cyl disp   hp drat   wt qsec   vs   am gear carb \n",
       "   0    0    0    0    0    0    0    0    0    0    0 "
      ]
     },
     "metadata": {},
     "output_type": "display_data"
    }
   ],
   "source": [
    "colSums(is.na(mtcars)) "
   ]
  },
  {
   "cell_type": "markdown",
   "id": "6086ea03-7825-4803-a845-88323dd5529c",
   "metadata": {},
   "source": [
    "### Split into Training and Testing Sets"
   ]
  },
  {
   "cell_type": "code",
   "execution_count": 11,
   "id": "9b8a34f8-6626-4fb1-993c-7776c416d0c4",
   "metadata": {},
   "outputs": [
    {
     "name": "stderr",
     "output_type": "stream",
     "text": [
      "Warning message:\n",
      "\"package 'caret' was built under R version 4.4.3\"\n",
      "Loading required package: ggplot2\n",
      "\n",
      "Warning message:\n",
      "\"package 'ggplot2' was built under R version 4.4.3\"\n",
      "Loading required package: lattice\n",
      "\n"
     ]
    }
   ],
   "source": [
    "library(caret)\n",
    "set.seed(123)\n",
    "\n",
    "train_index <- createDataPartition(mtcars$am, p = 0.8, list = FALSE)\n",
    "train <- mtcars[train_index, ]\n",
    "test <- mtcars[-train_index, ]"
   ]
  },
  {
   "cell_type": "markdown",
   "id": "1bfc4cba-ec3c-48b5-995b-d4785addd873",
   "metadata": {},
   "source": [
    "### Fitting the Logistic Regression"
   ]
  },
  {
   "cell_type": "code",
   "execution_count": 14,
   "id": "7fe2253a-5ad5-42b4-b54e-2985d23668cf",
   "metadata": {},
   "outputs": [
    {
     "data": {
      "text/plain": [
       "\n",
       "Call:\n",
       "glm(formula = am ~ mpg + hp + wt, family = binomial, data = train)\n",
       "\n",
       "Coefficients:\n",
       "             Estimate Std. Error z value Pr(>|z|)  \n",
       "(Intercept) -15.18681   37.51377  -0.405   0.6856  \n",
       "mpg           1.18674    1.48090   0.801   0.4229  \n",
       "hp            0.08019    0.07696   1.042   0.2974  \n",
       "wt           -6.66058    3.31051  -2.012   0.0442 *\n",
       "---\n",
       "Signif. codes:  0 '***' 0.001 '**' 0.01 '*' 0.05 '.' 0.1 ' ' 1\n",
       "\n",
       "(Dispersion parameter for binomial family taken to be 1)\n",
       "\n",
       "    Null deviance: 36.4987  on 26  degrees of freedom\n",
       "Residual deviance:  8.6017  on 23  degrees of freedom\n",
       "AIC: 16.602\n",
       "\n",
       "Number of Fisher Scoring iterations: 9\n"
      ]
     },
     "metadata": {},
     "output_type": "display_data"
    }
   ],
   "source": [
    "# Fit logistic regression (family = binomial for logistic)\n",
    "log_model <- glm(am ~ mpg + hp + wt, data = train, family = binomial)\n",
    "summary(log_model)"
   ]
  },
  {
   "cell_type": "markdown",
   "id": "9175b8a2-d1e3-47a2-a958-6020f532d991",
   "metadata": {},
   "source": [
    "### Predict on Test Set\n",
    "We'll predict probabilities, then convert to class (`0` or `1`) using a threshold (typically `0.5`):"
   ]
  },
  {
   "cell_type": "code",
   "execution_count": 17,
   "id": "6bc48edd-4ca6-45ea-bc02-a4f0bca66652",
   "metadata": {},
   "outputs": [],
   "source": [
    "# Predict probabilities\n",
    "probs <- predict(log_model, newdata = test, type = \"response\")\n",
    "predicted_classes <- ifelse(probs > 0.5, 1, 0)\n",
    "predicted_classes <- as.factor(predicted_classes)"
   ]
  },
  {
   "cell_type": "markdown",
   "id": "d725ff95-ce4b-4edf-9606-16d1639dd415",
   "metadata": {},
   "source": [
    "### Evaluate the Model\n",
    "We'll compute accuracy, confusion matrix, and other metrics:"
   ]
  },
  {
   "cell_type": "code",
   "execution_count": 20,
   "id": "937b2373-c210-4188-ab54-3debcee456a4",
   "metadata": {},
   "outputs": [
    {
     "data": {
      "text/plain": [
       "Confusion Matrix and Statistics\n",
       "\n",
       "          Reference\n",
       "Prediction 0 1\n",
       "         0 3 0\n",
       "         1 0 2\n",
       "                                     \n",
       "               Accuracy : 1          \n",
       "                 95% CI : (0.4782, 1)\n",
       "    No Information Rate : 0.6        \n",
       "    P-Value [Acc > NIR] : 0.07776    \n",
       "                                     \n",
       "                  Kappa : 1          \n",
       "                                     \n",
       " Mcnemar's Test P-Value : NA         \n",
       "                                     \n",
       "            Sensitivity : 1.0        \n",
       "            Specificity : 1.0        \n",
       "         Pos Pred Value : 1.0        \n",
       "         Neg Pred Value : 1.0        \n",
       "             Prevalence : 0.6        \n",
       "         Detection Rate : 0.6        \n",
       "   Detection Prevalence : 0.6        \n",
       "      Balanced Accuracy : 1.0        \n",
       "                                     \n",
       "       'Positive' Class : 0          \n",
       "                                     "
      ]
     },
     "metadata": {},
     "output_type": "display_data"
    },
    {
     "name": "stdout",
     "output_type": "stream",
     "text": [
      "Accuracy: 1 \n"
     ]
    }
   ],
   "source": [
    "# Actual values\n",
    "actual <- test$am\n",
    "accuracy <- mean(predicted_classes == actual)\n",
    "cat(\"Accuracy:\", accuracy, \"\\n\")"
   ]
  },
  {
   "cell_type": "markdown",
   "id": "dc8a5a86-31f2-48f8-b422-b5ae2893cfe2",
   "metadata": {},
   "source": [
    "### Visualize the Model Fit\n",
    "Here's a basic visualization using the `ggplot2` library:"
   ]
  },
  {
   "cell_type": "code",
   "execution_count": 25,
   "id": "4e4e11ee-601a-480f-a574-e5fc3e0dc14d",
   "metadata": {},
   "outputs": [
    {
     "data": {
      "image/png": "[encoded data removed]",
      "text/plain": [
       "plot without title"
      ]
     },
     "metadata": {
      "image/png": {
       "height": 420,
       "width": 420
      }
     },
     "output_type": "display_data"
    }
   ],
   "source": [
    "library(ggplot2)\n",
    "\n",
    "# Add predicted probabilities to test set\n",
    "test$prob <- probs\n",
    "test$am_numeric <- as.numeric(as.character(test$am))\n",
    "\n",
    "ggplot(test, aes(x = mpg, y = prob, color = am)) +\n",
    "  geom_point(size = 3) +\n",
    "  theme_minimal() +\n",
    "  labs(title = \"Logistic Regression: Predicted Probabilities\", x = \"Miles per Gallon\", y = \"Predicted Probability (Manual)\")"
   ]
  },
  {
   "cell_type": "markdown",
   "id": "771bb57c-d851-4fff-a036-8b9a8ecfa13c",
   "metadata": {},
   "source": [
    "### Reusable Logistic Regression Function in R\n",
    "\n",
    "This function will:\n",
    "- Prepare the data\n",
    "- Split into training and testing\n",
    "- Fit a logistic regression model\n",
    "- Predict on the test set\n",
    "- Evaluate performance\n",
    "- Optionally plot predicted probabilities"
   ]
  },
  {
   "cell_type": "code",
   "execution_count": 34,
   "id": "5549305d-8b39-4620-858a-8c8c6d9be230",
   "metadata": {},
   "outputs": [
    {
     "name": "stdout",
     "output_type": "stream",
     "text": [
      "\n",
      "Call:\n",
      "glm(formula = formula, family = binomial, data = train)\n",
      "\n",
      "Coefficients:\n",
      "             Estimate Std. Error z value Pr(>|z|)  \n",
      "(Intercept) -15.18681   37.51377  -0.405   0.6856  \n",
      "mpg           1.18674    1.48090   0.801   0.4229  \n",
      "hp            0.08019    0.07696   1.042   0.2974  \n",
      "wt           -6.66058    3.31051  -2.012   0.0442 *\n",
      "---\n",
      "Signif. codes:  0 '***' 0.001 '**' 0.01 '*' 0.05 '.' 0.1 ' ' 1\n",
      "\n",
      "(Dispersion parameter for binomial family taken to be 1)\n",
      "\n",
      "    Null deviance: 36.4987  on 26  degrees of freedom\n",
      "Residual deviance:  8.6017  on 23  degrees of freedom\n",
      "AIC: 16.602\n",
      "\n",
      "Number of Fisher Scoring iterations: 9\n",
      "\n",
      "\n",
      "--- Evaluation ---\n",
      "Confusion Matrix and Statistics\n",
      "\n",
      "          Reference\n",
      "Prediction 0 1\n",
      "         0 3 0\n",
      "         1 0 2\n",
      "                                     \n",
      "               Accuracy : 1          \n",
      "                 95% CI : (0.4782, 1)\n",
      "    No Information Rate : 0.6        \n",
      "    P-Value [Acc > NIR] : 0.07776    \n",
      "                                     \n",
      "                  Kappa : 1          \n",
      "                                     \n",
      " Mcnemar's Test P-Value : NA         \n",
      "                                     \n",
      "            Sensitivity : 1.0        \n",
      "            Specificity : 1.0        \n",
      "         Pos Pred Value : 1.0        \n",
      "         Neg Pred Value : 1.0        \n",
      "             Prevalence : 0.6        \n",
      "         Detection Rate : 0.6        \n",
      "   Detection Prevalence : 0.6        \n",
      "      Balanced Accuracy : 1.0        \n",
      "                                     \n",
      "       'Positive' Class : 0          \n",
      "                                     \n",
      "Accuracy: 1 \n"
     ]
    },
    {
     "name": "stderr",
     "output_type": "stream",
     "text": [
      "Warning message:\n",
      "\"\u001b[1m\u001b[22m`aes_string()` was deprecated in ggplot2 3.0.0.\n",
      "\u001b[36mℹ\u001b[39m Please use tidy evaluation idioms with `aes()`.\n",
      "\u001b[36mℹ\u001b[39m See also `vignette(\"ggplot2-in-packages\")` for more information.\"\n"
     ]
    },
    {
     "data": {
      "text/plain": [
       "$model\n",
       "\n",
       "Call:  glm(formula = formula, family = binomial, data = train)\n",
       "\n",
       "Coefficients:\n",
       "(Intercept)          mpg           hp           wt  \n",
       "  -15.18681      1.18674      0.08019     -6.66058  \n",
       "\n",
       "Degrees of Freedom: 26 Total (i.e. Null);  23 Residual\n",
       "Null Deviance:\t    36.5 \n",
       "Residual Deviance: 8.602 \tAIC: 16.6\n",
       "\n",
       "$test\n",
       "                     mpg cyl  disp  hp drat    wt  qsec vs am gear carb\n",
       "Hornet 4 Drive      21.4   6 258.0 110 3.08 3.215 19.44  1  0    3    1\n",
       "Merc 280C           17.8   6 167.6 123 3.92 3.440 18.90  1  0    4    4\n",
       "Lincoln Continental 10.4   8 460.0 215 3.00 5.424 17.82  0  0    3    4\n",
       "Fiat 128            32.4   4  78.7  66 4.08 2.200 19.47  1  1    4    1\n",
       "Honda Civic         30.4   4  75.7  52 4.93 1.615 18.52  1  1    4    2\n",
       "                            prob\n",
       "Hornet 4 Drive      8.444820e-02\n",
       "Merc 280C           8.147488e-04\n",
       "Lincoln Continental 3.651193e-10\n",
       "Fiat 128            9.999991e-01\n",
       "Honda Civic         9.999994e-01\n"
      ]
     },
     "metadata": {},
     "output_type": "display_data"
    }
   ],
   "source": [
    "logistic_pipeline <- function(data, target, predictors, split_ratio = 0.8, threshold = 0.5, plot = TRUE) {\n",
    "  library(caret)\n",
    "  library(ggplot2)\n",
    "\n",
    "  # Convert target to factor if not already\n",
    "  data[[target]] <- as.factor(data[[target]])\n",
    "\n",
    "  # Split the data\n",
    "  set.seed(123)\n",
    "  train_index <- createDataPartition(data[[target]], p = split_ratio, list = FALSE)\n",
    "  train <- data[train_index, ]\n",
    "  test <- data[-train_index, ]\n",
    "\n",
    "  # Construct formula\n",
    "  formula <- as.formula(paste(target, \"~\", paste(predictors, collapse = \" + \")))\n",
    "\n",
    "  # Fit logistic regression model\n",
    "  model <- glm(formula, data = train, family = binomial)\n",
    "  print(summary(model))\n",
    "\n",
    "  # Predict probabilities on test set\n",
    "  probs <- predict(model, newdata = test, type = \"response\")\n",
    "  pred_class <- as.factor(ifelse(probs > threshold, 1, 0))\n",
    "  actual <- test[[target]]\n",
    "\n",
    "  # Evaluation\n",
    "  cat(\"\\n--- Evaluation ---\\n\")\n",
    "  print(confusionMatrix(pred_class, actual))\n",
    "  cat(\"Accuracy:\", mean(pred_class == actual), \"\\n\")\n",
    "\n",
    "  # Optional visualization\n",
    "  if (plot) {\n",
    "    test$prob <- probs\n",
    "    ggplot(test, aes_string(x = predictors[1], y = \"prob\", color = target)) +\n",
    "      geom_point(size = 3) +\n",
    "      theme_minimal() +\n",
    "      labs(title = \"Predicted Probabilities\", x = predictors[1], y = \"P(1 | X)\")\n",
    "  }\n",
    "\n",
    "  return(list(model = model, test = test))\n",
    "}\n",
    "logistic_pipeline(mtcars, target = \"am\", predictors = c(\"mpg\", \"hp\", \"wt\"))"
   ]
  },
  {
   "cell_type": "code",
   "execution_count": null,
   "id": "62ac69bc-402b-464a-820f-10738aa0d41f",
   "metadata": {},
   "outputs": [],
   "source": []
  }
 ],
 "metadata": {
  "kernelspec": {
   "display_name": "R",
   "language": "R",
   "name": "ir"
  },
  "language_info": {
   "codemirror_mode": "r",
   "file_extension": ".r",
   "mimetype": "text/x-r-source",
   "name": "R",
   "pygments_lexer": "r",
   "version": "4.4.2"
  }
 },
 "nbformat": 4,
 "nbformat_minor": 5
}
